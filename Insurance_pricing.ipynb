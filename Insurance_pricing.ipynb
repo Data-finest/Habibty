{
  "nbformat": 4,
  "nbformat_minor": 0,
  "metadata": {
    "colab": {
      "name": "Insurance pricing.ipynb",
      "provenance": [],
      "include_colab_link": true
    },
    "kernelspec": {
      "name": "python3",
      "display_name": "Python 3"
    },
    "language_info": {
      "name": "python"
    },
    "accelerator": "GPU",
    "gpuClass": "standard"
  },
  "cells": [
    {
      "cell_type": "markdown",
      "metadata": {
        "id": "view-in-github",
        "colab_type": "text"
      },
      "source": [
        "<a href=\"https://colab.research.google.com/github/Data-finest/Habibty/blob/main/Insurance_pricing.ipynb\" target=\"_parent\"><img src=\"https://colab.research.google.com/assets/colab-badge.svg\" alt=\"Open In Colab\"/></a>"
      ]
    },
    {
      "cell_type": "markdown",
      "source": [
        "### **BGLi Commercial Pricing - Case Study 💯**\n",
        "🤝\n",
        "---\n"
      ],
      "metadata": {
        "id": "RUHSYIFJVWpa"
      }
    },
    {
      "cell_type": "markdown",
      "source": [
        "### It is noted that data analysis is a process of inspecting, cleansing, transforming and modeling data with the goal of discovering useful information, informing conclusions and supporting decision-making. Data analysis has multiple facets and approaches, encompassing diverse techniques under a variety of names, and is used in different business, science, and social science domains. In today's business world, data analysis plays a role in making decisions more scientific and helping businesses operate more effectively.\n",
        "    *Here i'm going to do analysis & visualisation of different insurance policy offered to a customer,according to BGLi Company *.......*"
      ],
      "metadata": {
        "id": "bm3f-ZS0YDUh"
      }
    },
    {
      "cell_type": "code",
      "source": [
        "#Importing of Libraries\n",
        "import numpy as np\n",
        "import pandas as pd\n",
        "import matplotlib.pyplot as plt\n",
        "import plotly.express as px\n",
        "import plotly.graph_objects as go\n",
        "import seaborn as sns\n",
        "import missingno as msno\n",
        "from wordcloud import WordCloud"
      ],
      "metadata": {
        "id": "fnSdCjvDK9Ye"
      },
      "execution_count": null,
      "outputs": []
    },
    {
      "cell_type": "code",
      "execution_count": null,
      "metadata": {
        "colab": {
          "base_uri": "https://localhost:8080/"
        },
        "id": "FTEnGnKSSbDf",
        "outputId": "2a0a69bd-3771-4ef6-f794-828200cb38aa"
      },
      "outputs": [
        {
          "output_type": "stream",
          "name": "stdout",
          "text": [
            "Mounted at /content/drive\n"
          ]
        }
      ],
      "source": [
        "#Mount file from google drive \n",
        "from google.colab import drive\n",
        "drive.mount(\"/content/drive\", force_remount=True)"
      ]
    },
    {
      "cell_type": "code",
      "source": [
        "#Dataset of BGL Insurance\n",
        "data = pd.read_csv(\"/content/pricing analyst.csv\")\n",
        "data"
      ],
      "metadata": {
        "id": "zczHZMaWIcR2",
        "colab": {
          "base_uri": "https://localhost:8080/",
          "height": 921
        },
        "outputId": "d4342e91-315d-4e55-f338-a4652ca44414"
      },
      "execution_count": null,
      "outputs": [
        {
          "output_type": "execute_result",
          "data": {
            "text/plain": [
              "       Month          Channel  Customer Age  Customer Month Of Birth  \\\n",
              "0          9  Comparison Site            43                        1   \n",
              "1          8  Comparison Site            57                        4   \n",
              "2          8        Telesales            83                       11   \n",
              "3          8  Comparison Site            52                        8   \n",
              "4          9        Telesales            69                        1   \n",
              "...      ...              ...           ...                      ...   \n",
              "19995     10  Comparison Site            51                        7   \n",
              "19996     11  Comparison Site            34                        6   \n",
              "19997     11  Comparison Site            55                       10   \n",
              "19998      7  Comparison Site            33                       10   \n",
              "19999     10  Comparison Site            53                        0   \n",
              "\n",
              "      Customer Marital Status Customer Occupation Status  \\\n",
              "0                   Partnered                   Employed   \n",
              "1                      Single                   Employed   \n",
              "2                     Married                    Retired   \n",
              "3                     Married                   Employed   \n",
              "4                      Single                    Retired   \n",
              "...                       ...                        ...   \n",
              "19995                Divorced              Self-Employed   \n",
              "19996                 Married                   Employed   \n",
              "19997                 Married                   Employed   \n",
              "19998                 Married                   Employed   \n",
              "19999               Partnered                   Employed   \n",
              "\n",
              "       Policy Annual Mileage Policy Legal Cover Vehicle Fuel Type  \\\n",
              "0                       7999                Yes            Diesel   \n",
              "1                       6000                Yes            Petrol   \n",
              "2                      11000                Yes            Diesel   \n",
              "3                      14000                 No            Diesel   \n",
              "4                       3000                Yes            Petrol   \n",
              "...                      ...                ...               ...   \n",
              "19995                  10999                 No            Petrol   \n",
              "19996                   4000                Yes            Diesel   \n",
              "19997                  19000                 No            Diesel   \n",
              "19998                   5000                Yes            Petrol   \n",
              "19999                  15000                Yes            Petrol   \n",
              "\n",
              "      Vehicle Colour Price Point Customer Price  Purchase Flag  \n",
              "0               Grey      Higher      £1,020.63              1  \n",
              "1               Grey        Base        £287.94              1  \n",
              "2               Blue       Lower        £858.24              1  \n",
              "3               Blue        Base        £382.15              1  \n",
              "4               Blue      Higher        £376.22              1  \n",
              "...              ...         ...            ...            ...  \n",
              "19995          Black        Base        £532.87              1  \n",
              "19996          White      Higher        £561.24              0  \n",
              "19997          Black      Higher        £950.53              0  \n",
              "19998          White        Base        £293.83              1  \n",
              "19999          White      Higher        £394.11              0  \n",
              "\n",
              "[20000 rows x 13 columns]"
            ],
            "text/html": [
              "\n",
              "  <div id=\"df-005ca103-ea39-4a15-89b3-31527999710c\">\n",
              "    <div class=\"colab-df-container\">\n",
              "      <div>\n",
              "<style scoped>\n",
              "    .dataframe tbody tr th:only-of-type {\n",
              "        vertical-align: middle;\n",
              "    }\n",
              "\n",
              "    .dataframe tbody tr th {\n",
              "        vertical-align: top;\n",
              "    }\n",
              "\n",
              "    .dataframe thead th {\n",
              "        text-align: right;\n",
              "    }\n",
              "</style>\n",
              "<table border=\"1\" class=\"dataframe\">\n",
              "  <thead>\n",
              "    <tr style=\"text-align: right;\">\n",
              "      <th></th>\n",
              "      <th>Month</th>\n",
              "      <th>Channel</th>\n",
              "      <th>Customer Age</th>\n",
              "      <th>Customer Month Of Birth</th>\n",
              "      <th>Customer Marital Status</th>\n",
              "      <th>Customer Occupation Status</th>\n",
              "      <th>Policy Annual Mileage</th>\n",
              "      <th>Policy Legal Cover</th>\n",
              "      <th>Vehicle Fuel Type</th>\n",
              "      <th>Vehicle Colour</th>\n",
              "      <th>Price Point</th>\n",
              "      <th>Customer Price</th>\n",
              "      <th>Purchase Flag</th>\n",
              "    </tr>\n",
              "  </thead>\n",
              "  <tbody>\n",
              "    <tr>\n",
              "      <th>0</th>\n",
              "      <td>9</td>\n",
              "      <td>Comparison Site</td>\n",
              "      <td>43</td>\n",
              "      <td>1</td>\n",
              "      <td>Partnered</td>\n",
              "      <td>Employed</td>\n",
              "      <td>7999</td>\n",
              "      <td>Yes</td>\n",
              "      <td>Diesel</td>\n",
              "      <td>Grey</td>\n",
              "      <td>Higher</td>\n",
              "      <td>£1,020.63</td>\n",
              "      <td>1</td>\n",
              "    </tr>\n",
              "    <tr>\n",
              "      <th>1</th>\n",
              "      <td>8</td>\n",
              "      <td>Comparison Site</td>\n",
              "      <td>57</td>\n",
              "      <td>4</td>\n",
              "      <td>Single</td>\n",
              "      <td>Employed</td>\n",
              "      <td>6000</td>\n",
              "      <td>Yes</td>\n",
              "      <td>Petrol</td>\n",
              "      <td>Grey</td>\n",
              "      <td>Base</td>\n",
              "      <td>£287.94</td>\n",
              "      <td>1</td>\n",
              "    </tr>\n",
              "    <tr>\n",
              "      <th>2</th>\n",
              "      <td>8</td>\n",
              "      <td>Telesales</td>\n",
              "      <td>83</td>\n",
              "      <td>11</td>\n",
              "      <td>Married</td>\n",
              "      <td>Retired</td>\n",
              "      <td>11000</td>\n",
              "      <td>Yes</td>\n",
              "      <td>Diesel</td>\n",
              "      <td>Blue</td>\n",
              "      <td>Lower</td>\n",
              "      <td>£858.24</td>\n",
              "      <td>1</td>\n",
              "    </tr>\n",
              "    <tr>\n",
              "      <th>3</th>\n",
              "      <td>8</td>\n",
              "      <td>Comparison Site</td>\n",
              "      <td>52</td>\n",
              "      <td>8</td>\n",
              "      <td>Married</td>\n",
              "      <td>Employed</td>\n",
              "      <td>14000</td>\n",
              "      <td>No</td>\n",
              "      <td>Diesel</td>\n",
              "      <td>Blue</td>\n",
              "      <td>Base</td>\n",
              "      <td>£382.15</td>\n",
              "      <td>1</td>\n",
              "    </tr>\n",
              "    <tr>\n",
              "      <th>4</th>\n",
              "      <td>9</td>\n",
              "      <td>Telesales</td>\n",
              "      <td>69</td>\n",
              "      <td>1</td>\n",
              "      <td>Single</td>\n",
              "      <td>Retired</td>\n",
              "      <td>3000</td>\n",
              "      <td>Yes</td>\n",
              "      <td>Petrol</td>\n",
              "      <td>Blue</td>\n",
              "      <td>Higher</td>\n",
              "      <td>£376.22</td>\n",
              "      <td>1</td>\n",
              "    </tr>\n",
              "    <tr>\n",
              "      <th>...</th>\n",
              "      <td>...</td>\n",
              "      <td>...</td>\n",
              "      <td>...</td>\n",
              "      <td>...</td>\n",
              "      <td>...</td>\n",
              "      <td>...</td>\n",
              "      <td>...</td>\n",
              "      <td>...</td>\n",
              "      <td>...</td>\n",
              "      <td>...</td>\n",
              "      <td>...</td>\n",
              "      <td>...</td>\n",
              "      <td>...</td>\n",
              "    </tr>\n",
              "    <tr>\n",
              "      <th>19995</th>\n",
              "      <td>10</td>\n",
              "      <td>Comparison Site</td>\n",
              "      <td>51</td>\n",
              "      <td>7</td>\n",
              "      <td>Divorced</td>\n",
              "      <td>Self-Employed</td>\n",
              "      <td>10999</td>\n",
              "      <td>No</td>\n",
              "      <td>Petrol</td>\n",
              "      <td>Black</td>\n",
              "      <td>Base</td>\n",
              "      <td>£532.87</td>\n",
              "      <td>1</td>\n",
              "    </tr>\n",
              "    <tr>\n",
              "      <th>19996</th>\n",
              "      <td>11</td>\n",
              "      <td>Comparison Site</td>\n",
              "      <td>34</td>\n",
              "      <td>6</td>\n",
              "      <td>Married</td>\n",
              "      <td>Employed</td>\n",
              "      <td>4000</td>\n",
              "      <td>Yes</td>\n",
              "      <td>Diesel</td>\n",
              "      <td>White</td>\n",
              "      <td>Higher</td>\n",
              "      <td>£561.24</td>\n",
              "      <td>0</td>\n",
              "    </tr>\n",
              "    <tr>\n",
              "      <th>19997</th>\n",
              "      <td>11</td>\n",
              "      <td>Comparison Site</td>\n",
              "      <td>55</td>\n",
              "      <td>10</td>\n",
              "      <td>Married</td>\n",
              "      <td>Employed</td>\n",
              "      <td>19000</td>\n",
              "      <td>No</td>\n",
              "      <td>Diesel</td>\n",
              "      <td>Black</td>\n",
              "      <td>Higher</td>\n",
              "      <td>£950.53</td>\n",
              "      <td>0</td>\n",
              "    </tr>\n",
              "    <tr>\n",
              "      <th>19998</th>\n",
              "      <td>7</td>\n",
              "      <td>Comparison Site</td>\n",
              "      <td>33</td>\n",
              "      <td>10</td>\n",
              "      <td>Married</td>\n",
              "      <td>Employed</td>\n",
              "      <td>5000</td>\n",
              "      <td>Yes</td>\n",
              "      <td>Petrol</td>\n",
              "      <td>White</td>\n",
              "      <td>Base</td>\n",
              "      <td>£293.83</td>\n",
              "      <td>1</td>\n",
              "    </tr>\n",
              "    <tr>\n",
              "      <th>19999</th>\n",
              "      <td>10</td>\n",
              "      <td>Comparison Site</td>\n",
              "      <td>53</td>\n",
              "      <td>0</td>\n",
              "      <td>Partnered</td>\n",
              "      <td>Employed</td>\n",
              "      <td>15000</td>\n",
              "      <td>Yes</td>\n",
              "      <td>Petrol</td>\n",
              "      <td>White</td>\n",
              "      <td>Higher</td>\n",
              "      <td>£394.11</td>\n",
              "      <td>0</td>\n",
              "    </tr>\n",
              "  </tbody>\n",
              "</table>\n",
              "<p>20000 rows × 13 columns</p>\n",
              "</div>\n",
              "      <button class=\"colab-df-convert\" onclick=\"convertToInteractive('df-005ca103-ea39-4a15-89b3-31527999710c')\"\n",
              "              title=\"Convert this dataframe to an interactive table.\"\n",
              "              style=\"display:none;\">\n",
              "        \n",
              "  <svg xmlns=\"http://www.w3.org/2000/svg\" height=\"24px\"viewBox=\"0 0 24 24\"\n",
              "       width=\"24px\">\n",
              "    <path d=\"M0 0h24v24H0V0z\" fill=\"none\"/>\n",
              "    <path d=\"M18.56 5.44l.94 2.06.94-2.06 2.06-.94-2.06-.94-.94-2.06-.94 2.06-2.06.94zm-11 1L8.5 8.5l.94-2.06 2.06-.94-2.06-.94L8.5 2.5l-.94 2.06-2.06.94zm10 10l.94 2.06.94-2.06 2.06-.94-2.06-.94-.94-2.06-.94 2.06-2.06.94z\"/><path d=\"M17.41 7.96l-1.37-1.37c-.4-.4-.92-.59-1.43-.59-.52 0-1.04.2-1.43.59L10.3 9.45l-7.72 7.72c-.78.78-.78 2.05 0 2.83L4 21.41c.39.39.9.59 1.41.59.51 0 1.02-.2 1.41-.59l7.78-7.78 2.81-2.81c.8-.78.8-2.07 0-2.86zM5.41 20L4 18.59l7.72-7.72 1.47 1.35L5.41 20z\"/>\n",
              "  </svg>\n",
              "      </button>\n",
              "      \n",
              "  <style>\n",
              "    .colab-df-container {\n",
              "      display:flex;\n",
              "      flex-wrap:wrap;\n",
              "      gap: 12px;\n",
              "    }\n",
              "\n",
              "    .colab-df-convert {\n",
              "      background-color: #E8F0FE;\n",
              "      border: none;\n",
              "      border-radius: 50%;\n",
              "      cursor: pointer;\n",
              "      display: none;\n",
              "      fill: #1967D2;\n",
              "      height: 32px;\n",
              "      padding: 0 0 0 0;\n",
              "      width: 32px;\n",
              "    }\n",
              "\n",
              "    .colab-df-convert:hover {\n",
              "      background-color: #E2EBFA;\n",
              "      box-shadow: 0px 1px 2px rgba(60, 64, 67, 0.3), 0px 1px 3px 1px rgba(60, 64, 67, 0.15);\n",
              "      fill: #174EA6;\n",
              "    }\n",
              "\n",
              "    [theme=dark] .colab-df-convert {\n",
              "      background-color: #3B4455;\n",
              "      fill: #D2E3FC;\n",
              "    }\n",
              "\n",
              "    [theme=dark] .colab-df-convert:hover {\n",
              "      background-color: #434B5C;\n",
              "      box-shadow: 0px 1px 3px 1px rgba(0, 0, 0, 0.15);\n",
              "      filter: drop-shadow(0px 1px 2px rgba(0, 0, 0, 0.3));\n",
              "      fill: #FFFFFF;\n",
              "    }\n",
              "  </style>\n",
              "\n",
              "      <script>\n",
              "        const buttonEl =\n",
              "          document.querySelector('#df-005ca103-ea39-4a15-89b3-31527999710c button.colab-df-convert');\n",
              "        buttonEl.style.display =\n",
              "          google.colab.kernel.accessAllowed ? 'block' : 'none';\n",
              "\n",
              "        async function convertToInteractive(key) {\n",
              "          const element = document.querySelector('#df-005ca103-ea39-4a15-89b3-31527999710c');\n",
              "          const dataTable =\n",
              "            await google.colab.kernel.invokeFunction('convertToInteractive',\n",
              "                                                     [key], {});\n",
              "          if (!dataTable) return;\n",
              "\n",
              "          const docLinkHtml = 'Like what you see? Visit the ' +\n",
              "            '<a target=\"_blank\" href=https://colab.research.google.com/notebooks/data_table.ipynb>data table notebook</a>'\n",
              "            + ' to learn more about interactive tables.';\n",
              "          element.innerHTML = '';\n",
              "          dataTable['output_type'] = 'display_data';\n",
              "          await google.colab.output.renderOutput(dataTable, element);\n",
              "          const docLink = document.createElement('div');\n",
              "          docLink.innerHTML = docLinkHtml;\n",
              "          element.appendChild(docLink);\n",
              "        }\n",
              "      </script>\n",
              "    </div>\n",
              "  </div>\n",
              "  "
            ]
          },
          "metadata": {},
          "execution_count": 5
        }
      ]
    },
    {
      "cell_type": "code",
      "source": [
        "data.shape\n",
        "data.info"
      ],
      "metadata": {
        "id": "ngMxjKnPKsFe",
        "colab": {
          "base_uri": "https://localhost:8080/"
        },
        "outputId": "d655d622-0d14-485b-d4ed-909b29fad6e9"
      },
      "execution_count": null,
      "outputs": [
        {
          "output_type": "execute_result",
          "data": {
            "text/plain": [
              "<bound method DataFrame.info of        Month          Channel  Customer Age  Customer Month Of Birth  \\\n",
              "0          9  Comparison Site            43                        1   \n",
              "1          8  Comparison Site            57                        4   \n",
              "2          8        Telesales            83                       11   \n",
              "3          8  Comparison Site            52                        8   \n",
              "4          9        Telesales            69                        1   \n",
              "...      ...              ...           ...                      ...   \n",
              "19995     10  Comparison Site            51                        7   \n",
              "19996     11  Comparison Site            34                        6   \n",
              "19997     11  Comparison Site            55                       10   \n",
              "19998      7  Comparison Site            33                       10   \n",
              "19999     10  Comparison Site            53                        0   \n",
              "\n",
              "      Customer Marital Status Customer Occupation Status  \\\n",
              "0                   Partnered                   Employed   \n",
              "1                      Single                   Employed   \n",
              "2                     Married                    Retired   \n",
              "3                     Married                   Employed   \n",
              "4                      Single                    Retired   \n",
              "...                       ...                        ...   \n",
              "19995                Divorced              Self-Employed   \n",
              "19996                 Married                   Employed   \n",
              "19997                 Married                   Employed   \n",
              "19998                 Married                   Employed   \n",
              "19999               Partnered                   Employed   \n",
              "\n",
              "       Policy Annual Mileage Policy Legal Cover Vehicle Fuel Type  \\\n",
              "0                       7999                Yes            Diesel   \n",
              "1                       6000                Yes            Petrol   \n",
              "2                      11000                Yes            Diesel   \n",
              "3                      14000                 No            Diesel   \n",
              "4                       3000                Yes            Petrol   \n",
              "...                      ...                ...               ...   \n",
              "19995                  10999                 No            Petrol   \n",
              "19996                   4000                Yes            Diesel   \n",
              "19997                  19000                 No            Diesel   \n",
              "19998                   5000                Yes            Petrol   \n",
              "19999                  15000                Yes            Petrol   \n",
              "\n",
              "      Vehicle Colour Price Point Customer Price  Purchase Flag  \n",
              "0               Grey      Higher      £1,020.63              1  \n",
              "1               Grey        Base        £287.94              1  \n",
              "2               Blue       Lower        £858.24              1  \n",
              "3               Blue        Base        £382.15              1  \n",
              "4               Blue      Higher        £376.22              1  \n",
              "...              ...         ...            ...            ...  \n",
              "19995          Black        Base        £532.87              1  \n",
              "19996          White      Higher        £561.24              0  \n",
              "19997          Black      Higher        £950.53              0  \n",
              "19998          White        Base        £293.83              1  \n",
              "19999          White      Higher        £394.11              0  \n",
              "\n",
              "[20000 rows x 13 columns]>"
            ]
          },
          "metadata": {},
          "execution_count": 6
        }
      ]
    },
    {
      "cell_type": "code",
      "source": [
        "data.head(5)"
      ],
      "metadata": {
        "id": "UU7gGo2mLI9L",
        "colab": {
          "base_uri": "https://localhost:8080/",
          "height": 265
        },
        "outputId": "2dbc3d5c-3eab-4c0b-8d40-e06db9285236"
      },
      "execution_count": null,
      "outputs": [
        {
          "output_type": "execute_result",
          "data": {
            "text/plain": [
              "   Month          Channel  Customer Age  Customer Month Of Birth  \\\n",
              "0      9  Comparison Site            43                        1   \n",
              "1      8  Comparison Site            57                        4   \n",
              "2      8        Telesales            83                       11   \n",
              "3      8  Comparison Site            52                        8   \n",
              "4      9        Telesales            69                        1   \n",
              "\n",
              "  Customer Marital Status Customer Occupation Status  Policy Annual Mileage  \\\n",
              "0               Partnered                   Employed                   7999   \n",
              "1                  Single                   Employed                   6000   \n",
              "2                 Married                    Retired                  11000   \n",
              "3                 Married                   Employed                  14000   \n",
              "4                  Single                    Retired                   3000   \n",
              "\n",
              "  Policy Legal Cover Vehicle Fuel Type Vehicle Colour Price Point  \\\n",
              "0                Yes            Diesel           Grey      Higher   \n",
              "1                Yes            Petrol           Grey        Base   \n",
              "2                Yes            Diesel           Blue       Lower   \n",
              "3                 No            Diesel           Blue        Base   \n",
              "4                Yes            Petrol           Blue      Higher   \n",
              "\n",
              "  Customer Price  Purchase Flag  \n",
              "0      £1,020.63              1  \n",
              "1        £287.94              1  \n",
              "2        £858.24              1  \n",
              "3        £382.15              1  \n",
              "4        £376.22              1  "
            ],
            "text/html": [
              "\n",
              "  <div id=\"df-94c277f0-3b08-45af-b4c2-f50a32a57d39\">\n",
              "    <div class=\"colab-df-container\">\n",
              "      <div>\n",
              "<style scoped>\n",
              "    .dataframe tbody tr th:only-of-type {\n",
              "        vertical-align: middle;\n",
              "    }\n",
              "\n",
              "    .dataframe tbody tr th {\n",
              "        vertical-align: top;\n",
              "    }\n",
              "\n",
              "    .dataframe thead th {\n",
              "        text-align: right;\n",
              "    }\n",
              "</style>\n",
              "<table border=\"1\" class=\"dataframe\">\n",
              "  <thead>\n",
              "    <tr style=\"text-align: right;\">\n",
              "      <th></th>\n",
              "      <th>Month</th>\n",
              "      <th>Channel</th>\n",
              "      <th>Customer Age</th>\n",
              "      <th>Customer Month Of Birth</th>\n",
              "      <th>Customer Marital Status</th>\n",
              "      <th>Customer Occupation Status</th>\n",
              "      <th>Policy Annual Mileage</th>\n",
              "      <th>Policy Legal Cover</th>\n",
              "      <th>Vehicle Fuel Type</th>\n",
              "      <th>Vehicle Colour</th>\n",
              "      <th>Price Point</th>\n",
              "      <th>Customer Price</th>\n",
              "      <th>Purchase Flag</th>\n",
              "    </tr>\n",
              "  </thead>\n",
              "  <tbody>\n",
              "    <tr>\n",
              "      <th>0</th>\n",
              "      <td>9</td>\n",
              "      <td>Comparison Site</td>\n",
              "      <td>43</td>\n",
              "      <td>1</td>\n",
              "      <td>Partnered</td>\n",
              "      <td>Employed</td>\n",
              "      <td>7999</td>\n",
              "      <td>Yes</td>\n",
              "      <td>Diesel</td>\n",
              "      <td>Grey</td>\n",
              "      <td>Higher</td>\n",
              "      <td>£1,020.63</td>\n",
              "      <td>1</td>\n",
              "    </tr>\n",
              "    <tr>\n",
              "      <th>1</th>\n",
              "      <td>8</td>\n",
              "      <td>Comparison Site</td>\n",
              "      <td>57</td>\n",
              "      <td>4</td>\n",
              "      <td>Single</td>\n",
              "      <td>Employed</td>\n",
              "      <td>6000</td>\n",
              "      <td>Yes</td>\n",
              "      <td>Petrol</td>\n",
              "      <td>Grey</td>\n",
              "      <td>Base</td>\n",
              "      <td>£287.94</td>\n",
              "      <td>1</td>\n",
              "    </tr>\n",
              "    <tr>\n",
              "      <th>2</th>\n",
              "      <td>8</td>\n",
              "      <td>Telesales</td>\n",
              "      <td>83</td>\n",
              "      <td>11</td>\n",
              "      <td>Married</td>\n",
              "      <td>Retired</td>\n",
              "      <td>11000</td>\n",
              "      <td>Yes</td>\n",
              "      <td>Diesel</td>\n",
              "      <td>Blue</td>\n",
              "      <td>Lower</td>\n",
              "      <td>£858.24</td>\n",
              "      <td>1</td>\n",
              "    </tr>\n",
              "    <tr>\n",
              "      <th>3</th>\n",
              "      <td>8</td>\n",
              "      <td>Comparison Site</td>\n",
              "      <td>52</td>\n",
              "      <td>8</td>\n",
              "      <td>Married</td>\n",
              "      <td>Employed</td>\n",
              "      <td>14000</td>\n",
              "      <td>No</td>\n",
              "      <td>Diesel</td>\n",
              "      <td>Blue</td>\n",
              "      <td>Base</td>\n",
              "      <td>£382.15</td>\n",
              "      <td>1</td>\n",
              "    </tr>\n",
              "    <tr>\n",
              "      <th>4</th>\n",
              "      <td>9</td>\n",
              "      <td>Telesales</td>\n",
              "      <td>69</td>\n",
              "      <td>1</td>\n",
              "      <td>Single</td>\n",
              "      <td>Retired</td>\n",
              "      <td>3000</td>\n",
              "      <td>Yes</td>\n",
              "      <td>Petrol</td>\n",
              "      <td>Blue</td>\n",
              "      <td>Higher</td>\n",
              "      <td>£376.22</td>\n",
              "      <td>1</td>\n",
              "    </tr>\n",
              "  </tbody>\n",
              "</table>\n",
              "</div>\n",
              "      <button class=\"colab-df-convert\" onclick=\"convertToInteractive('df-94c277f0-3b08-45af-b4c2-f50a32a57d39')\"\n",
              "              title=\"Convert this dataframe to an interactive table.\"\n",
              "              style=\"display:none;\">\n",
              "        \n",
              "  <svg xmlns=\"http://www.w3.org/2000/svg\" height=\"24px\"viewBox=\"0 0 24 24\"\n",
              "       width=\"24px\">\n",
              "    <path d=\"M0 0h24v24H0V0z\" fill=\"none\"/>\n",
              "    <path d=\"M18.56 5.44l.94 2.06.94-2.06 2.06-.94-2.06-.94-.94-2.06-.94 2.06-2.06.94zm-11 1L8.5 8.5l.94-2.06 2.06-.94-2.06-.94L8.5 2.5l-.94 2.06-2.06.94zm10 10l.94 2.06.94-2.06 2.06-.94-2.06-.94-.94-2.06-.94 2.06-2.06.94z\"/><path d=\"M17.41 7.96l-1.37-1.37c-.4-.4-.92-.59-1.43-.59-.52 0-1.04.2-1.43.59L10.3 9.45l-7.72 7.72c-.78.78-.78 2.05 0 2.83L4 21.41c.39.39.9.59 1.41.59.51 0 1.02-.2 1.41-.59l7.78-7.78 2.81-2.81c.8-.78.8-2.07 0-2.86zM5.41 20L4 18.59l7.72-7.72 1.47 1.35L5.41 20z\"/>\n",
              "  </svg>\n",
              "      </button>\n",
              "      \n",
              "  <style>\n",
              "    .colab-df-container {\n",
              "      display:flex;\n",
              "      flex-wrap:wrap;\n",
              "      gap: 12px;\n",
              "    }\n",
              "\n",
              "    .colab-df-convert {\n",
              "      background-color: #E8F0FE;\n",
              "      border: none;\n",
              "      border-radius: 50%;\n",
              "      cursor: pointer;\n",
              "      display: none;\n",
              "      fill: #1967D2;\n",
              "      height: 32px;\n",
              "      padding: 0 0 0 0;\n",
              "      width: 32px;\n",
              "    }\n",
              "\n",
              "    .colab-df-convert:hover {\n",
              "      background-color: #E2EBFA;\n",
              "      box-shadow: 0px 1px 2px rgba(60, 64, 67, 0.3), 0px 1px 3px 1px rgba(60, 64, 67, 0.15);\n",
              "      fill: #174EA6;\n",
              "    }\n",
              "\n",
              "    [theme=dark] .colab-df-convert {\n",
              "      background-color: #3B4455;\n",
              "      fill: #D2E3FC;\n",
              "    }\n",
              "\n",
              "    [theme=dark] .colab-df-convert:hover {\n",
              "      background-color: #434B5C;\n",
              "      box-shadow: 0px 1px 3px 1px rgba(0, 0, 0, 0.15);\n",
              "      filter: drop-shadow(0px 1px 2px rgba(0, 0, 0, 0.3));\n",
              "      fill: #FFFFFF;\n",
              "    }\n",
              "  </style>\n",
              "\n",
              "      <script>\n",
              "        const buttonEl =\n",
              "          document.querySelector('#df-94c277f0-3b08-45af-b4c2-f50a32a57d39 button.colab-df-convert');\n",
              "        buttonEl.style.display =\n",
              "          google.colab.kernel.accessAllowed ? 'block' : 'none';\n",
              "\n",
              "        async function convertToInteractive(key) {\n",
              "          const element = document.querySelector('#df-94c277f0-3b08-45af-b4c2-f50a32a57d39');\n",
              "          const dataTable =\n",
              "            await google.colab.kernel.invokeFunction('convertToInteractive',\n",
              "                                                     [key], {});\n",
              "          if (!dataTable) return;\n",
              "\n",
              "          const docLinkHtml = 'Like what you see? Visit the ' +\n",
              "            '<a target=\"_blank\" href=https://colab.research.google.com/notebooks/data_table.ipynb>data table notebook</a>'\n",
              "            + ' to learn more about interactive tables.';\n",
              "          element.innerHTML = '';\n",
              "          dataTable['output_type'] = 'display_data';\n",
              "          await google.colab.output.renderOutput(dataTable, element);\n",
              "          const docLink = document.createElement('div');\n",
              "          docLink.innerHTML = docLinkHtml;\n",
              "          element.appendChild(docLink);\n",
              "        }\n",
              "      </script>\n",
              "    </div>\n",
              "  </div>\n",
              "  "
            ]
          },
          "metadata": {},
          "execution_count": 7
        }
      ]
    },
    {
      "cell_type": "code",
      "source": [
        "data.describe()"
      ],
      "metadata": {
        "id": "DZF5hLQULSxF",
        "colab": {
          "base_uri": "https://localhost:8080/",
          "height": 300
        },
        "outputId": "630f61c0-e940-4947-fa60-e8e93570f139"
      },
      "execution_count": null,
      "outputs": [
        {
          "output_type": "execute_result",
          "data": {
            "text/plain": [
              "              Month  Customer Age  Customer Month Of Birth  \\\n",
              "count  20000.000000  20000.000000             20000.000000   \n",
              "mean       8.761600     56.347350                 5.560000   \n",
              "std        1.511284     14.514056                 3.467204   \n",
              "min      -45.000000     12.000000                 0.000000   \n",
              "25%        8.000000     46.000000                 3.000000   \n",
              "50%        9.000000     57.000000                 6.000000   \n",
              "75%       10.000000     68.000000                 9.000000   \n",
              "max       80.000000    550.000000                11.000000   \n",
              "\n",
              "       Policy Annual Mileage  Purchase Flag  \n",
              "count           20000.000000   20000.000000  \n",
              "mean             7790.181950       0.639950  \n",
              "std              9820.941138       0.480027  \n",
              "min           -100000.000000       0.000000  \n",
              "25%              4999.000000       0.000000  \n",
              "50%              7000.000000       1.000000  \n",
              "75%             10000.000000       1.000000  \n",
              "max           1000000.000000       1.000000  "
            ],
            "text/html": [
              "\n",
              "  <div id=\"df-b1fe9aa9-3212-4f84-8ba8-ca30a2aa2967\">\n",
              "    <div class=\"colab-df-container\">\n",
              "      <div>\n",
              "<style scoped>\n",
              "    .dataframe tbody tr th:only-of-type {\n",
              "        vertical-align: middle;\n",
              "    }\n",
              "\n",
              "    .dataframe tbody tr th {\n",
              "        vertical-align: top;\n",
              "    }\n",
              "\n",
              "    .dataframe thead th {\n",
              "        text-align: right;\n",
              "    }\n",
              "</style>\n",
              "<table border=\"1\" class=\"dataframe\">\n",
              "  <thead>\n",
              "    <tr style=\"text-align: right;\">\n",
              "      <th></th>\n",
              "      <th>Month</th>\n",
              "      <th>Customer Age</th>\n",
              "      <th>Customer Month Of Birth</th>\n",
              "      <th>Policy Annual Mileage</th>\n",
              "      <th>Purchase Flag</th>\n",
              "    </tr>\n",
              "  </thead>\n",
              "  <tbody>\n",
              "    <tr>\n",
              "      <th>count</th>\n",
              "      <td>20000.000000</td>\n",
              "      <td>20000.000000</td>\n",
              "      <td>20000.000000</td>\n",
              "      <td>20000.000000</td>\n",
              "      <td>20000.000000</td>\n",
              "    </tr>\n",
              "    <tr>\n",
              "      <th>mean</th>\n",
              "      <td>8.761600</td>\n",
              "      <td>56.347350</td>\n",
              "      <td>5.560000</td>\n",
              "      <td>7790.181950</td>\n",
              "      <td>0.639950</td>\n",
              "    </tr>\n",
              "    <tr>\n",
              "      <th>std</th>\n",
              "      <td>1.511284</td>\n",
              "      <td>14.514056</td>\n",
              "      <td>3.467204</td>\n",
              "      <td>9820.941138</td>\n",
              "      <td>0.480027</td>\n",
              "    </tr>\n",
              "    <tr>\n",
              "      <th>min</th>\n",
              "      <td>-45.000000</td>\n",
              "      <td>12.000000</td>\n",
              "      <td>0.000000</td>\n",
              "      <td>-100000.000000</td>\n",
              "      <td>0.000000</td>\n",
              "    </tr>\n",
              "    <tr>\n",
              "      <th>25%</th>\n",
              "      <td>8.000000</td>\n",
              "      <td>46.000000</td>\n",
              "      <td>3.000000</td>\n",
              "      <td>4999.000000</td>\n",
              "      <td>0.000000</td>\n",
              "    </tr>\n",
              "    <tr>\n",
              "      <th>50%</th>\n",
              "      <td>9.000000</td>\n",
              "      <td>57.000000</td>\n",
              "      <td>6.000000</td>\n",
              "      <td>7000.000000</td>\n",
              "      <td>1.000000</td>\n",
              "    </tr>\n",
              "    <tr>\n",
              "      <th>75%</th>\n",
              "      <td>10.000000</td>\n",
              "      <td>68.000000</td>\n",
              "      <td>9.000000</td>\n",
              "      <td>10000.000000</td>\n",
              "      <td>1.000000</td>\n",
              "    </tr>\n",
              "    <tr>\n",
              "      <th>max</th>\n",
              "      <td>80.000000</td>\n",
              "      <td>550.000000</td>\n",
              "      <td>11.000000</td>\n",
              "      <td>1000000.000000</td>\n",
              "      <td>1.000000</td>\n",
              "    </tr>\n",
              "  </tbody>\n",
              "</table>\n",
              "</div>\n",
              "      <button class=\"colab-df-convert\" onclick=\"convertToInteractive('df-b1fe9aa9-3212-4f84-8ba8-ca30a2aa2967')\"\n",
              "              title=\"Convert this dataframe to an interactive table.\"\n",
              "              style=\"display:none;\">\n",
              "        \n",
              "  <svg xmlns=\"http://www.w3.org/2000/svg\" height=\"24px\"viewBox=\"0 0 24 24\"\n",
              "       width=\"24px\">\n",
              "    <path d=\"M0 0h24v24H0V0z\" fill=\"none\"/>\n",
              "    <path d=\"M18.56 5.44l.94 2.06.94-2.06 2.06-.94-2.06-.94-.94-2.06-.94 2.06-2.06.94zm-11 1L8.5 8.5l.94-2.06 2.06-.94-2.06-.94L8.5 2.5l-.94 2.06-2.06.94zm10 10l.94 2.06.94-2.06 2.06-.94-2.06-.94-.94-2.06-.94 2.06-2.06.94z\"/><path d=\"M17.41 7.96l-1.37-1.37c-.4-.4-.92-.59-1.43-.59-.52 0-1.04.2-1.43.59L10.3 9.45l-7.72 7.72c-.78.78-.78 2.05 0 2.83L4 21.41c.39.39.9.59 1.41.59.51 0 1.02-.2 1.41-.59l7.78-7.78 2.81-2.81c.8-.78.8-2.07 0-2.86zM5.41 20L4 18.59l7.72-7.72 1.47 1.35L5.41 20z\"/>\n",
              "  </svg>\n",
              "      </button>\n",
              "      \n",
              "  <style>\n",
              "    .colab-df-container {\n",
              "      display:flex;\n",
              "      flex-wrap:wrap;\n",
              "      gap: 12px;\n",
              "    }\n",
              "\n",
              "    .colab-df-convert {\n",
              "      background-color: #E8F0FE;\n",
              "      border: none;\n",
              "      border-radius: 50%;\n",
              "      cursor: pointer;\n",
              "      display: none;\n",
              "      fill: #1967D2;\n",
              "      height: 32px;\n",
              "      padding: 0 0 0 0;\n",
              "      width: 32px;\n",
              "    }\n",
              "\n",
              "    .colab-df-convert:hover {\n",
              "      background-color: #E2EBFA;\n",
              "      box-shadow: 0px 1px 2px rgba(60, 64, 67, 0.3), 0px 1px 3px 1px rgba(60, 64, 67, 0.15);\n",
              "      fill: #174EA6;\n",
              "    }\n",
              "\n",
              "    [theme=dark] .colab-df-convert {\n",
              "      background-color: #3B4455;\n",
              "      fill: #D2E3FC;\n",
              "    }\n",
              "\n",
              "    [theme=dark] .colab-df-convert:hover {\n",
              "      background-color: #434B5C;\n",
              "      box-shadow: 0px 1px 3px 1px rgba(0, 0, 0, 0.15);\n",
              "      filter: drop-shadow(0px 1px 2px rgba(0, 0, 0, 0.3));\n",
              "      fill: #FFFFFF;\n",
              "    }\n",
              "  </style>\n",
              "\n",
              "      <script>\n",
              "        const buttonEl =\n",
              "          document.querySelector('#df-b1fe9aa9-3212-4f84-8ba8-ca30a2aa2967 button.colab-df-convert');\n",
              "        buttonEl.style.display =\n",
              "          google.colab.kernel.accessAllowed ? 'block' : 'none';\n",
              "\n",
              "        async function convertToInteractive(key) {\n",
              "          const element = document.querySelector('#df-b1fe9aa9-3212-4f84-8ba8-ca30a2aa2967');\n",
              "          const dataTable =\n",
              "            await google.colab.kernel.invokeFunction('convertToInteractive',\n",
              "                                                     [key], {});\n",
              "          if (!dataTable) return;\n",
              "\n",
              "          const docLinkHtml = 'Like what you see? Visit the ' +\n",
              "            '<a target=\"_blank\" href=https://colab.research.google.com/notebooks/data_table.ipynb>data table notebook</a>'\n",
              "            + ' to learn more about interactive tables.';\n",
              "          element.innerHTML = '';\n",
              "          dataTable['output_type'] = 'display_data';\n",
              "          await google.colab.output.renderOutput(dataTable, element);\n",
              "          const docLink = document.createElement('div');\n",
              "          docLink.innerHTML = docLinkHtml;\n",
              "          element.appendChild(docLink);\n",
              "        }\n",
              "      </script>\n",
              "    </div>\n",
              "  </div>\n",
              "  "
            ]
          },
          "metadata": {},
          "execution_count": 8
        }
      ]
    },
    {
      "cell_type": "markdown",
      "source": [
        "### Data Cleaning"
      ],
      "metadata": {
        "id": "2ZYmAupebfXd"
      }
    },
    {
      "cell_type": "code",
      "source": [
        "# finding out if there are any null values or not\n",
        "null = msno.bar(data,color='purple')"
      ],
      "metadata": {
        "id": "9a9DiXtnXS3l",
        "colab": {
          "base_uri": "https://localhost:8080/",
          "height": 605
        },
        "outputId": "3d6122d8-bf38-4c87-cb57-6642faffc9db"
      },
      "execution_count": null,
      "outputs": [
        {
          "output_type": "display_data",
          "data": {
            "text/plain": [
              "<Figure size 1800x720 with 3 Axes>"
            ],
            "image/png": "[encoded data removed]"
          },
          "metadata": {
            "needs_background": "light"
          }
        }
      ]
    },
    {
      "cell_type": "markdown",
      "source": [
        "This chart shows that Customer_Price as null values"
      ],
      "metadata": {
        "id": "N7TXw24CrRRB"
      }
    },
    {
      "cell_type": "code",
      "source": [
        "#checking null values\n",
        "data.isnull().sum()\n",
        "# data.isnull().values.any()"
      ],
      "metadata": {
        "id": "nP2T4JVbb4q-",
        "colab": {
          "base_uri": "https://localhost:8080/"
        },
        "outputId": "ac1ec671-4585-4599-b332-1581b135916f"
      },
      "execution_count": null,
      "outputs": [
        {
          "output_type": "execute_result",
          "data": {
            "text/plain": [
              "Month                          0\n",
              "Channel                        0\n",
              "Customer Age                   0\n",
              "Customer Month Of Birth        0\n",
              "Customer Marital Status        0\n",
              "Customer Occupation Status     0\n",
              "Policy Annual Mileage          0\n",
              "Policy Legal Cover             0\n",
              "Vehicle Fuel Type              0\n",
              "Vehicle Colour                 0\n",
              "Price Point                    0\n",
              "Customer Price                16\n",
              "Purchase Flag                  0\n",
              "dtype: int64"
            ]
          },
          "metadata": {},
          "execution_count": 10
        }
      ]
    },
    {
      "cell_type": "code",
      "source": [
        "data.nunique()"
      ],
      "metadata": {
        "id": "eb4-C4SFcFCC",
        "colab": {
          "base_uri": "https://localhost:8080/"
        },
        "outputId": "c91d94dc-f103-49fe-be16-feaf74fdcb83"
      },
      "execution_count": null,
      "outputs": [
        {
          "output_type": "execute_result",
          "data": {
            "text/plain": [
              "Month                             7\n",
              "Channel                           3\n",
              "Customer Age                     78\n",
              "Customer Month Of Birth          12\n",
              "Customer Marital Status           4\n",
              "Customer Occupation Status        6\n",
              "Policy Annual Mileage           216\n",
              "Policy Legal Cover                2\n",
              "Vehicle Fuel Type                 3\n",
              "Vehicle Colour                    5\n",
              "Price Point                       3\n",
              "Customer Price                16717\n",
              "Purchase Flag                     2\n",
              "dtype: int64"
            ]
          },
          "metadata": {},
          "execution_count": 11
        }
      ]
    },
    {
      "cell_type": "markdown",
      "source": [
        "### Data Pre-Processing "
      ],
      "metadata": {
        "id": "WJFWK-vWcPSa"
      }
    },
    {
      "cell_type": "code",
      "source": [
        "data[\"Month\"].value_counts   "
      ],
      "metadata": {
        "id": "OAbWb5eYM3Uh",
        "colab": {
          "base_uri": "https://localhost:8080/"
        },
        "outputId": "c2d1b47f-0a8a-479e-cfa7-36ed73db7335"
      },
      "execution_count": null,
      "outputs": [
        {
          "output_type": "execute_result",
          "data": {
            "text/plain": [
              "<bound method IndexOpsMixin.value_counts of 0         9\n",
              "1         8\n",
              "2         8\n",
              "3         8\n",
              "4         9\n",
              "         ..\n",
              "19995    10\n",
              "19996    11\n",
              "19997    11\n",
              "19998     7\n",
              "19999    10\n",
              "Name: Month, Length: 20000, dtype: int64>"
            ]
          },
          "metadata": {},
          "execution_count": 12
        }
      ]
    },
    {
      "cell_type": "code",
      "source": [
        "data[\"Channel\"].value_counts"
      ],
      "metadata": {
        "id": "KzZXrImWPWHu",
        "colab": {
          "base_uri": "https://localhost:8080/"
        },
        "outputId": "d261877a-25bf-4495-9e83-7b2d4a7fdfdd"
      },
      "execution_count": null,
      "outputs": [
        {
          "output_type": "execute_result",
          "data": {
            "text/plain": [
              "<bound method IndexOpsMixin.value_counts of 0        Comparison Site\n",
              "1        Comparison Site\n",
              "2              Telesales\n",
              "3        Comparison Site\n",
              "4              Telesales\n",
              "              ...       \n",
              "19995    Comparison Site\n",
              "19996    Comparison Site\n",
              "19997    Comparison Site\n",
              "19998    Comparison Site\n",
              "19999    Comparison Site\n",
              "Name: Channel, Length: 20000, dtype: object>"
            ]
          },
          "metadata": {},
          "execution_count": 13
        }
      ]
    },
    {
      "cell_type": "code",
      "source": [
        "data[\"Customer Age\"].value_counts"
      ],
      "metadata": {
        "id": "ZrXnbmO3P1rL",
        "colab": {
          "base_uri": "https://localhost:8080/"
        },
        "outputId": "87d268a5-1c9f-4185-f2a5-997b8ef7fa47"
      },
      "execution_count": null,
      "outputs": [
        {
          "output_type": "execute_result",
          "data": {
            "text/plain": [
              "<bound method IndexOpsMixin.value_counts of 0        43\n",
              "1        57\n",
              "2        83\n",
              "3        52\n",
              "4        69\n",
              "         ..\n",
              "19995    51\n",
              "19996    34\n",
              "19997    55\n",
              "19998    33\n",
              "19999    53\n",
              "Name: Customer Age, Length: 20000, dtype: int64>"
            ]
          },
          "metadata": {},
          "execution_count": 14
        }
      ]
    },
    {
      "cell_type": "code",
      "source": [
        "data[\"Customer Month Of Birth\"].value_counts"
      ],
      "metadata": {
        "id": "OxKvc61yP-gc",
        "colab": {
          "base_uri": "https://localhost:8080/"
        },
        "outputId": "1bf81df4-435f-4b04-d7a9-8062e8ab19cf"
      },
      "execution_count": null,
      "outputs": [
        {
          "output_type": "execute_result",
          "data": {
            "text/plain": [
              "<bound method IndexOpsMixin.value_counts of 0         1\n",
              "1         4\n",
              "2        11\n",
              "3         8\n",
              "4         1\n",
              "         ..\n",
              "19995     7\n",
              "19996     6\n",
              "19997    10\n",
              "19998    10\n",
              "19999     0\n",
              "Name: Customer Month Of Birth, Length: 20000, dtype: int64>"
            ]
          },
          "metadata": {},
          "execution_count": 15
        }
      ]
    },
    {
      "cell_type": "code",
      "source": [
        "data[\"Customer Marital Status\"].value_counts"
      ],
      "metadata": {
        "id": "D9VAvaklQGWW",
        "colab": {
          "base_uri": "https://localhost:8080/"
        },
        "outputId": "966dec94-4822-4fca-f082-3f0c4b7474bb"
      },
      "execution_count": null,
      "outputs": [
        {
          "output_type": "execute_result",
          "data": {
            "text/plain": [
              "<bound method IndexOpsMixin.value_counts of 0        Partnered\n",
              "1           Single\n",
              "2          Married\n",
              "3          Married\n",
              "4           Single\n",
              "           ...    \n",
              "19995     Divorced\n",
              "19996      Married\n",
              "19997      Married\n",
              "19998      Married\n",
              "19999    Partnered\n",
              "Name: Customer Marital Status, Length: 20000, dtype: object>"
            ]
          },
          "metadata": {},
          "execution_count": 16
        }
      ]
    },
    {
      "cell_type": "code",
      "source": [
        "data[\"Customer Occupation Status\"].value_counts"
      ],
      "metadata": {
        "id": "vvxGvlmEQcmS",
        "colab": {
          "base_uri": "https://localhost:8080/"
        },
        "outputId": "69bed943-ebba-4fd4-ef4e-34af18af70b7"
      },
      "execution_count": null,
      "outputs": [
        {
          "output_type": "execute_result",
          "data": {
            "text/plain": [
              "<bound method IndexOpsMixin.value_counts of 0             Employed\n",
              "1             Employed\n",
              "2              Retired\n",
              "3             Employed\n",
              "4              Retired\n",
              "             ...      \n",
              "19995    Self-Employed\n",
              "19996         Employed\n",
              "19997         Employed\n",
              "19998         Employed\n",
              "19999         Employed\n",
              "Name: Customer Occupation Status, Length: 20000, dtype: object>"
            ]
          },
          "metadata": {},
          "execution_count": 17
        }
      ]
    },
    {
      "cell_type": "code",
      "source": [
        "data[\"Policy Annual Mileage\"].value_counts"
      ],
      "metadata": {
        "id": "uXz_jwU_Qylz",
        "colab": {
          "base_uri": "https://localhost:8080/"
        },
        "outputId": "78738078-9a15-42a1-bbb5-2ee4f9ee7fe5"
      },
      "execution_count": null,
      "outputs": [
        {
          "output_type": "execute_result",
          "data": {
            "text/plain": [
              "<bound method IndexOpsMixin.value_counts of 0         7999\n",
              "1         6000\n",
              "2        11000\n",
              "3        14000\n",
              "4         3000\n",
              "         ...  \n",
              "19995    10999\n",
              "19996     4000\n",
              "19997    19000\n",
              "19998     5000\n",
              "19999    15000\n",
              "Name: Policy Annual Mileage, Length: 20000, dtype: int64>"
            ]
          },
          "metadata": {},
          "execution_count": 18
        }
      ]
    },
    {
      "cell_type": "code",
      "source": [
        "data[\"Policy Legal Cover\"].value_counts"
      ],
      "metadata": {
        "id": "mvIcdoSqQ7Oq",
        "colab": {
          "base_uri": "https://localhost:8080/"
        },
        "outputId": "2069600e-a00b-4e8c-9648-7a22c946e8f3"
      },
      "execution_count": null,
      "outputs": [
        {
          "output_type": "execute_result",
          "data": {
            "text/plain": [
              "<bound method IndexOpsMixin.value_counts of 0        Yes\n",
              "1        Yes\n",
              "2        Yes\n",
              "3         No\n",
              "4        Yes\n",
              "        ... \n",
              "19995     No\n",
              "19996    Yes\n",
              "19997     No\n",
              "19998    Yes\n",
              "19999    Yes\n",
              "Name: Policy Legal Cover, Length: 20000, dtype: object>"
            ]
          },
          "metadata": {},
          "execution_count": 19
        }
      ]
    },
    {
      "cell_type": "code",
      "source": [
        "data[\"Customer Price\"].value_counts()"
      ],
      "metadata": {
        "id": "5RfHorWrRDee",
        "colab": {
          "base_uri": "https://localhost:8080/"
        },
        "outputId": "17eed189-b616-4725-f2a4-e6180c3b03c0"
      },
      "execution_count": null,
      "outputs": [
        {
          "output_type": "execute_result",
          "data": {
            "text/plain": [
              "£323.75      5\n",
              "£436.63      5\n",
              "£261.91      4\n",
              "£334.14      4\n",
              "£386.89      4\n",
              "            ..\n",
              "£326.61      1\n",
              "£1,063.16    1\n",
              "£260.86      1\n",
              "£551.76      1\n",
              "£950.53      1\n",
              "Name: Customer Price, Length: 16717, dtype: int64"
            ]
          },
          "metadata": {},
          "execution_count": 20
        }
      ]
    },
    {
      "cell_type": "code",
      "source": [
        "data[\"Customer Price\"].isnull()"
      ],
      "metadata": {
        "id": "00plzHxZk5b6",
        "colab": {
          "base_uri": "https://localhost:8080/"
        },
        "outputId": "4f041e8a-8703-4892-ce51-12688279576f"
      },
      "execution_count": null,
      "outputs": [
        {
          "output_type": "execute_result",
          "data": {
            "text/plain": [
              "0        False\n",
              "1        False\n",
              "2        False\n",
              "3        False\n",
              "4        False\n",
              "         ...  \n",
              "19995    False\n",
              "19996    False\n",
              "19997    False\n",
              "19998    False\n",
              "19999    False\n",
              "Name: Customer Price, Length: 20000, dtype: bool"
            ]
          },
          "metadata": {},
          "execution_count": 21
        }
      ]
    },
    {
      "cell_type": "code",
      "source": [
        "# data.drop(['Price Point'],axis=1,inplace=True)"
      ],
      "metadata": {
        "id": "ckA2_3_Ec9aN"
      },
      "execution_count": null,
      "outputs": []
    },
    {
      "cell_type": "code",
      "source": [
        "#correlation plot\n",
        "correlation = data.corr()\n",
        "sns.heatmap(correlation,xticklabels= correlation.columns, yticklabels=correlation.columns, annot =True)\n",
        "# sns.pairplot(data)"
      ],
      "metadata": {
        "id": "joGs9Cfsnd7t",
        "colab": {
          "base_uri": "https://localhost:8080/",
          "height": 402
        },
        "outputId": "c5912e12-af78-493e-bc21-b9d0f7db27a4"
      },
      "execution_count": null,
      "outputs": [
        {
          "output_type": "execute_result",
          "data": {
            "text/plain": [
              "<matplotlib.axes._subplots.AxesSubplot at 0x7f361b9bb290>"
            ]
          },
          "metadata": {},
          "execution_count": 23
        },
        {
          "output_type": "display_data",
          "data": {
            "text/plain": [
              "<Figure size 432x288 with 2 Axes>"
            ],
            "image/png": "[encoded data removed]"
          },
          "metadata": {
            "needs_background": "light"
          }
        }
      ]
    },
    {
      "cell_type": "markdown",
      "source": [
        "*The correlation plot shows the relationship between the columns in the dataset,where Customer_Age shows a strongest relationship with the Purchasing_Flag and the least relationship happens with the Customer_Month_of_Birth against Policy_Annual_Mileage. *"
      ],
      "metadata": {
        "id": "X-TIcYytdFAo"
      }
    },
    {
      "cell_type": "code",
      "source": [
        "# striping empty spaces and converting to float .dtype i.e fixing the errors\n",
        "data['Customer Price']=data['Customer Price'].str.strip(' ').str.replace(',','').str.lstrip('£').fillna(0).astype('float')"
      ],
      "metadata": {
        "id": "U3wLD3aNtkOF"
      },
      "execution_count": null,
      "outputs": []
    },
    {
      "cell_type": "code",
      "source": [
        "#Transforming choosen columns\n",
        "from numpy.ma.core import count\n",
        "pf=data.groupby('Customer Occupation Status')['Customer Age'].count().reset_index(name='count')\n",
        "# pf['count']=data.groupby('Customer Occupation Status')['Customer Age'].transform('count')\n",
        "employement_status=pf.sort_values('count',ascending=False)"
      ],
      "metadata": {
        "id": "KHDK2jXYTIzf"
      },
      "execution_count": null,
      "outputs": []
    },
    {
      "cell_type": "code",
      "source": [
        "#printing \n",
        "pf"
      ],
      "metadata": {
        "id": "45RygKiVfM2A",
        "colab": {
          "base_uri": "https://localhost:8080/",
          "height": 237
        },
        "outputId": "19eca8cc-35d8-4067-b64a-4bb69789bc94"
      },
      "execution_count": null,
      "outputs": [
        {
          "output_type": "execute_result",
          "data": {
            "text/plain": [
              "  Customer Occupation Status  count\n",
              "0                   Employed  11547\n",
              "1        Full Time Education     85\n",
              "2               House Person    661\n",
              "3                    Retired   6260\n",
              "4              Self-Employed   1368\n",
              "5                 Unemployed     79"
            ],
            "text/html": [
              "\n",
              "  <div id=\"df-28ce40f1-66d3-4232-99ec-7be8caf2e7ac\">\n",
              "    <div class=\"colab-df-container\">\n",
              "      <div>\n",
              "<style scoped>\n",
              "    .dataframe tbody tr th:only-of-type {\n",
              "        vertical-align: middle;\n",
              "    }\n",
              "\n",
              "    .dataframe tbody tr th {\n",
              "        vertical-align: top;\n",
              "    }\n",
              "\n",
              "    .dataframe thead th {\n",
              "        text-align: right;\n",
              "    }\n",
              "</style>\n",
              "<table border=\"1\" class=\"dataframe\">\n",
              "  <thead>\n",
              "    <tr style=\"text-align: right;\">\n",
              "      <th></th>\n",
              "      <th>Customer Occupation Status</th>\n",
              "      <th>count</th>\n",
              "    </tr>\n",
              "  </thead>\n",
              "  <tbody>\n",
              "    <tr>\n",
              "      <th>0</th>\n",
              "      <td>Employed</td>\n",
              "      <td>11547</td>\n",
              "    </tr>\n",
              "    <tr>\n",
              "      <th>1</th>\n",
              "      <td>Full Time Education</td>\n",
              "      <td>85</td>\n",
              "    </tr>\n",
              "    <tr>\n",
              "      <th>2</th>\n",
              "      <td>House Person</td>\n",
              "      <td>661</td>\n",
              "    </tr>\n",
              "    <tr>\n",
              "      <th>3</th>\n",
              "      <td>Retired</td>\n",
              "      <td>6260</td>\n",
              "    </tr>\n",
              "    <tr>\n",
              "      <th>4</th>\n",
              "      <td>Self-Employed</td>\n",
              "      <td>1368</td>\n",
              "    </tr>\n",
              "    <tr>\n",
              "      <th>5</th>\n",
              "      <td>Unemployed</td>\n",
              "      <td>79</td>\n",
              "    </tr>\n",
              "  </tbody>\n",
              "</table>\n",
              "</div>\n",
              "      <button class=\"colab-df-convert\" onclick=\"convertToInteractive('df-28ce40f1-66d3-4232-99ec-7be8caf2e7ac')\"\n",
              "              title=\"Convert this dataframe to an interactive table.\"\n",
              "              style=\"display:none;\">\n",
              "        \n",
              "  <svg xmlns=\"http://www.w3.org/2000/svg\" height=\"24px\"viewBox=\"0 0 24 24\"\n",
              "       width=\"24px\">\n",
              "    <path d=\"M0 0h24v24H0V0z\" fill=\"none\"/>\n",
              "    <path d=\"M18.56 5.44l.94 2.06.94-2.06 2.06-.94-2.06-.94-.94-2.06-.94 2.06-2.06.94zm-11 1L8.5 8.5l.94-2.06 2.06-.94-2.06-.94L8.5 2.5l-.94 2.06-2.06.94zm10 10l.94 2.06.94-2.06 2.06-.94-2.06-.94-.94-2.06-.94 2.06-2.06.94z\"/><path d=\"M17.41 7.96l-1.37-1.37c-.4-.4-.92-.59-1.43-.59-.52 0-1.04.2-1.43.59L10.3 9.45l-7.72 7.72c-.78.78-.78 2.05 0 2.83L4 21.41c.39.39.9.59 1.41.59.51 0 1.02-.2 1.41-.59l7.78-7.78 2.81-2.81c.8-.78.8-2.07 0-2.86zM5.41 20L4 18.59l7.72-7.72 1.47 1.35L5.41 20z\"/>\n",
              "  </svg>\n",
              "      </button>\n",
              "      \n",
              "  <style>\n",
              "    .colab-df-container {\n",
              "      display:flex;\n",
              "      flex-wrap:wrap;\n",
              "      gap: 12px;\n",
              "    }\n",
              "\n",
              "    .colab-df-convert {\n",
              "      background-color: #E8F0FE;\n",
              "      border: none;\n",
              "      border-radius: 50%;\n",
              "      cursor: pointer;\n",
              "      display: none;\n",
              "      fill: #1967D2;\n",
              "      height: 32px;\n",
              "      padding: 0 0 0 0;\n",
              "      width: 32px;\n",
              "    }\n",
              "\n",
              "    .colab-df-convert:hover {\n",
              "      background-color: #E2EBFA;\n",
              "      box-shadow: 0px 1px 2px rgba(60, 64, 67, 0.3), 0px 1px 3px 1px rgba(60, 64, 67, 0.15);\n",
              "      fill: #174EA6;\n",
              "    }\n",
              "\n",
              "    [theme=dark] .colab-df-convert {\n",
              "      background-color: #3B4455;\n",
              "      fill: #D2E3FC;\n",
              "    }\n",
              "\n",
              "    [theme=dark] .colab-df-convert:hover {\n",
              "      background-color: #434B5C;\n",
              "      box-shadow: 0px 1px 3px 1px rgba(0, 0, 0, 0.15);\n",
              "      filter: drop-shadow(0px 1px 2px rgba(0, 0, 0, 0.3));\n",
              "      fill: #FFFFFF;\n",
              "    }\n",
              "  </style>\n",
              "\n",
              "      <script>\n",
              "        const buttonEl =\n",
              "          document.querySelector('#df-28ce40f1-66d3-4232-99ec-7be8caf2e7ac button.colab-df-convert');\n",
              "        buttonEl.style.display =\n",
              "          google.colab.kernel.accessAllowed ? 'block' : 'none';\n",
              "\n",
              "        async function convertToInteractive(key) {\n",
              "          const element = document.querySelector('#df-28ce40f1-66d3-4232-99ec-7be8caf2e7ac');\n",
              "          const dataTable =\n",
              "            await google.colab.kernel.invokeFunction('convertToInteractive',\n",
              "                                                     [key], {});\n",
              "          if (!dataTable) return;\n",
              "\n",
              "          const docLinkHtml = 'Like what you see? Visit the ' +\n",
              "            '<a target=\"_blank\" href=https://colab.research.google.com/notebooks/data_table.ipynb>data table notebook</a>'\n",
              "            + ' to learn more about interactive tables.';\n",
              "          element.innerHTML = '';\n",
              "          dataTable['output_type'] = 'display_data';\n",
              "          await google.colab.output.renderOutput(dataTable, element);\n",
              "          const docLink = document.createElement('div');\n",
              "          docLink.innerHTML = docLinkHtml;\n",
              "          element.appendChild(docLink);\n",
              "        }\n",
              "      </script>\n",
              "    </div>\n",
              "  </div>\n",
              "  "
            ]
          },
          "metadata": {},
          "execution_count": 26
        }
      ]
    },
    {
      "cell_type": "markdown",
      "source": [
        "\n",
        "> pf shows the total number of Customers_Occupation status. \n",
        "where the number of employed individuals posed as the highest(11547), followed by the Retired persons (6260), the self-employed (1368), the House person (661),\n",
        "Individuals with Full Time education (85) and the least as the Unemployed people(79).\n",
        "\n"
      ],
      "metadata": {
        "id": "BlDi7jmtgU2M"
      }
    },
    {
      "cell_type": "code",
      "source": [
        "pf.plot.barh(x='Customer Occupation Status',y='count',legend=False)\n",
        "plt.title('Customer Occupation Distribution',fontsize=14)\n",
        "plt.xlabel('Count')"
      ],
      "metadata": {
        "id": "vbCdXe_Rx8_a",
        "colab": {
          "base_uri": "https://localhost:8080/",
          "height": 314
        },
        "outputId": "50caa3c2-0381-4a1e-deeb-b7ff257cecd9"
      },
      "execution_count": null,
      "outputs": [
        {
          "output_type": "execute_result",
          "data": {
            "text/plain": [
              "Text(0.5, 0, 'Count')"
            ]
          },
          "metadata": {},
          "execution_count": 27
        },
        {
          "output_type": "display_data",
          "data": {
            "text/plain": [
              "<Figure size 432x288 with 1 Axes>"
            ],
            "image/png": "[encoded data removed]"
          },
          "metadata": {
            "needs_background": "light"
          }
        }
      ]
    },
    {
      "cell_type": "markdown",
      "source": [
        "The chart shows that Employed customers are the most subscribers of an insurance policy, followed by the Retirees and the Self-Employed. The House-Person also shows a good handful of subscribers and the Unemployed are the least subscribers of any insurance policy due to lack of income."
      ],
      "metadata": {
        "id": "cNybHpBBkTaD"
      }
    },
    {
      "cell_type": "code",
      "source": [
        "# processing some strategic columns for analysis\n",
        "df=data.groupby('Customer Occupation Status')['Customer Age'].count().reset_index(name='count')\n",
        "purchased_df = data[data['Purchase Flag'] == 1]\n",
        "purchased_df_grouped = purchased_df.groupby('Customer Occupation Status')['Customer Age'].count().reset_index(name='count')\n",
        "#spliting of the dataset \n",
        "employement_status=df.sort_values('count',ascending=False)\n",
        "employement_status['count_p'] = purchased_df_grouped['count']\n"
      ],
      "metadata": {
        "id": "X7UnOOrX6BOq"
      },
      "execution_count": null,
      "outputs": []
    },
    {
      "cell_type": "code",
      "source": [
        "employement_status['count_p']"
      ],
      "metadata": {
        "id": "trPLdiftphiJ",
        "colab": {
          "base_uri": "https://localhost:8080/"
        },
        "outputId": "38756a4c-44f4-4cea-c1b7-283acf2b815c"
      },
      "execution_count": null,
      "outputs": [
        {
          "output_type": "execute_result",
          "data": {
            "text/plain": [
              "0    7284\n",
              "3    4156\n",
              "4     859\n",
              "2     437\n",
              "1      23\n",
              "5      40\n",
              "Name: count_p, dtype: int64"
            ]
          },
          "metadata": {},
          "execution_count": 29
        }
      ]
    },
    {
      "cell_type": "code",
      "source": [
        "# df\n",
        "data[data['Purchase Flag'] == 1].count()"
      ],
      "metadata": {
        "id": "o8fl8qtfinAw",
        "colab": {
          "base_uri": "https://localhost:8080/"
        },
        "outputId": "e241e706-291a-413c-f5ad-c12493e0737e"
      },
      "execution_count": null,
      "outputs": [
        {
          "output_type": "execute_result",
          "data": {
            "text/plain": [
              "Month                         12799\n",
              "Channel                       12799\n",
              "Customer Age                  12799\n",
              "Customer Month Of Birth       12799\n",
              "Customer Marital Status       12799\n",
              "Customer Occupation Status    12799\n",
              "Policy Annual Mileage         12799\n",
              "Policy Legal Cover            12799\n",
              "Vehicle Fuel Type             12799\n",
              "Vehicle Colour                12799\n",
              "Price Point                   12799\n",
              "Customer Price                12799\n",
              "Purchase Flag                 12799\n",
              "dtype: int64"
            ]
          },
          "metadata": {},
          "execution_count": 30
        }
      ]
    },
    {
      "cell_type": "code",
      "source": [
        "employement_status['percentage_purchased'] = employement_status['count_p'] / employement_status['count']\n",
        "employement_status\n"
      ],
      "metadata": {
        "id": "zXtS2YLKp1Hd",
        "colab": {
          "base_uri": "https://localhost:8080/",
          "height": 237
        },
        "outputId": "5df56138-bc1c-4a6d-fcce-ad7dcd071eaf"
      },
      "execution_count": null,
      "outputs": [
        {
          "output_type": "execute_result",
          "data": {
            "text/plain": [
              "  Customer Occupation Status  count  count_p  percentage_purchased\n",
              "0                   Employed  11547     7284              0.630813\n",
              "3                    Retired   6260     4156              0.663898\n",
              "4              Self-Employed   1368      859              0.627924\n",
              "2               House Person    661      437              0.661120\n",
              "1        Full Time Education     85       23              0.270588\n",
              "5                 Unemployed     79       40              0.506329"
            ],
            "text/html": [
              "\n",
              "  <div id=\"df-bee78f74-5d9a-4cc4-811e-732274c1fd62\">\n",
              "    <div class=\"colab-df-container\">\n",
              "      <div>\n",
              "<style scoped>\n",
              "    .dataframe tbody tr th:only-of-type {\n",
              "        vertical-align: middle;\n",
              "    }\n",
              "\n",
              "    .dataframe tbody tr th {\n",
              "        vertical-align: top;\n",
              "    }\n",
              "\n",
              "    .dataframe thead th {\n",
              "        text-align: right;\n",
              "    }\n",
              "</style>\n",
              "<table border=\"1\" class=\"dataframe\">\n",
              "  <thead>\n",
              "    <tr style=\"text-align: right;\">\n",
              "      <th></th>\n",
              "      <th>Customer Occupation Status</th>\n",
              "      <th>count</th>\n",
              "      <th>count_p</th>\n",
              "      <th>percentage_purchased</th>\n",
              "    </tr>\n",
              "  </thead>\n",
              "  <tbody>\n",
              "    <tr>\n",
              "      <th>0</th>\n",
              "      <td>Employed</td>\n",
              "      <td>11547</td>\n",
              "      <td>7284</td>\n",
              "      <td>0.630813</td>\n",
              "    </tr>\n",
              "    <tr>\n",
              "      <th>3</th>\n",
              "      <td>Retired</td>\n",
              "      <td>6260</td>\n",
              "      <td>4156</td>\n",
              "      <td>0.663898</td>\n",
              "    </tr>\n",
              "    <tr>\n",
              "      <th>4</th>\n",
              "      <td>Self-Employed</td>\n",
              "      <td>1368</td>\n",
              "      <td>859</td>\n",
              "      <td>0.627924</td>\n",
              "    </tr>\n",
              "    <tr>\n",
              "      <th>2</th>\n",
              "      <td>House Person</td>\n",
              "      <td>661</td>\n",
              "      <td>437</td>\n",
              "      <td>0.661120</td>\n",
              "    </tr>\n",
              "    <tr>\n",
              "      <th>1</th>\n",
              "      <td>Full Time Education</td>\n",
              "      <td>85</td>\n",
              "      <td>23</td>\n",
              "      <td>0.270588</td>\n",
              "    </tr>\n",
              "    <tr>\n",
              "      <th>5</th>\n",
              "      <td>Unemployed</td>\n",
              "      <td>79</td>\n",
              "      <td>40</td>\n",
              "      <td>0.506329</td>\n",
              "    </tr>\n",
              "  </tbody>\n",
              "</table>\n",
              "</div>\n",
              "      <button class=\"colab-df-convert\" onclick=\"convertToInteractive('df-bee78f74-5d9a-4cc4-811e-732274c1fd62')\"\n",
              "              title=\"Convert this dataframe to an interactive table.\"\n",
              "              style=\"display:none;\">\n",
              "        \n",
              "  <svg xmlns=\"http://www.w3.org/2000/svg\" height=\"24px\"viewBox=\"0 0 24 24\"\n",
              "       width=\"24px\">\n",
              "    <path d=\"M0 0h24v24H0V0z\" fill=\"none\"/>\n",
              "    <path d=\"M18.56 5.44l.94 2.06.94-2.06 2.06-.94-2.06-.94-.94-2.06-.94 2.06-2.06.94zm-11 1L8.5 8.5l.94-2.06 2.06-.94-2.06-.94L8.5 2.5l-.94 2.06-2.06.94zm10 10l.94 2.06.94-2.06 2.06-.94-2.06-.94-.94-2.06-.94 2.06-2.06.94z\"/><path d=\"M17.41 7.96l-1.37-1.37c-.4-.4-.92-.59-1.43-.59-.52 0-1.04.2-1.43.59L10.3 9.45l-7.72 7.72c-.78.78-.78 2.05 0 2.83L4 21.41c.39.39.9.59 1.41.59.51 0 1.02-.2 1.41-.59l7.78-7.78 2.81-2.81c.8-.78.8-2.07 0-2.86zM5.41 20L4 18.59l7.72-7.72 1.47 1.35L5.41 20z\"/>\n",
              "  </svg>\n",
              "      </button>\n",
              "      \n",
              "  <style>\n",
              "    .colab-df-container {\n",
              "      display:flex;\n",
              "      flex-wrap:wrap;\n",
              "      gap: 12px;\n",
              "    }\n",
              "\n",
              "    .colab-df-convert {\n",
              "      background-color: #E8F0FE;\n",
              "      border: none;\n",
              "      border-radius: 50%;\n",
              "      cursor: pointer;\n",
              "      display: none;\n",
              "      fill: #1967D2;\n",
              "      height: 32px;\n",
              "      padding: 0 0 0 0;\n",
              "      width: 32px;\n",
              "    }\n",
              "\n",
              "    .colab-df-convert:hover {\n",
              "      background-color: #E2EBFA;\n",
              "      box-shadow: 0px 1px 2px rgba(60, 64, 67, 0.3), 0px 1px 3px 1px rgba(60, 64, 67, 0.15);\n",
              "      fill: #174EA6;\n",
              "    }\n",
              "\n",
              "    [theme=dark] .colab-df-convert {\n",
              "      background-color: #3B4455;\n",
              "      fill: #D2E3FC;\n",
              "    }\n",
              "\n",
              "    [theme=dark] .colab-df-convert:hover {\n",
              "      background-color: #434B5C;\n",
              "      box-shadow: 0px 1px 3px 1px rgba(0, 0, 0, 0.15);\n",
              "      filter: drop-shadow(0px 1px 2px rgba(0, 0, 0, 0.3));\n",
              "      fill: #FFFFFF;\n",
              "    }\n",
              "  </style>\n",
              "\n",
              "      <script>\n",
              "        const buttonEl =\n",
              "          document.querySelector('#df-bee78f74-5d9a-4cc4-811e-732274c1fd62 button.colab-df-convert');\n",
              "        buttonEl.style.display =\n",
              "          google.colab.kernel.accessAllowed ? 'block' : 'none';\n",
              "\n",
              "        async function convertToInteractive(key) {\n",
              "          const element = document.querySelector('#df-bee78f74-5d9a-4cc4-811e-732274c1fd62');\n",
              "          const dataTable =\n",
              "            await google.colab.kernel.invokeFunction('convertToInteractive',\n",
              "                                                     [key], {});\n",
              "          if (!dataTable) return;\n",
              "\n",
              "          const docLinkHtml = 'Like what you see? Visit the ' +\n",
              "            '<a target=\"_blank\" href=https://colab.research.google.com/notebooks/data_table.ipynb>data table notebook</a>'\n",
              "            + ' to learn more about interactive tables.';\n",
              "          element.innerHTML = '';\n",
              "          dataTable['output_type'] = 'display_data';\n",
              "          await google.colab.output.renderOutput(dataTable, element);\n",
              "          const docLink = document.createElement('div');\n",
              "          docLink.innerHTML = docLinkHtml;\n",
              "          element.appendChild(docLink);\n",
              "        }\n",
              "      </script>\n",
              "    </div>\n",
              "  </div>\n",
              "  "
            ]
          },
          "metadata": {},
          "execution_count": 31
        }
      ]
    },
    {
      "cell_type": "markdown",
      "source": [
        "\n",
        "\n",
        "> This shows the percentages of occupation status of customers who subscribe to a certain insurance policy. \n",
        " -The highest purchaser of an insurance policy at BGLi are the Employed people counting to 7284 out of 11547 and representing(63%).\n",
        " -Followed by the Retirees with 4156 from 6260 members with (66.4%)\n",
        " -The House Person shows a good amount of purchases with 437 out of 661 amounting to (66.1%).\n",
        " -Also, the self-employed persons have a fair number of purchasers with 859 out of the 1368 persons and with a (62.8%).\n",
        " -While the unemployed took (50.6%) which is 40 purchases out of the 79 total individuals.\n",
        " -The customers at the bottom of the chart are the customers on Full Time Education though they have 85 persons in terms of their numbers, but litle among them are willing to purchase an insurance policy. BGLi could look at how these individuals could start showing interest in purchasing a policy that suits their needs. "
      ],
      "metadata": {
        "id": "7iyBvx__qJFS"
      }
    },
    {
      "cell_type": "code",
      "source": [
        "plt.figure(figsize=(10,5))\n",
        "chart = sns.barplot(\n",
        "    data=employement_status,\n",
        "    x='Customer Occupation Status',\n",
        "    y='percentage_purchased',\n",
        "    palette='Set1'\n",
        ")\n",
        "chart=chart.set_xticklabels(\n",
        "    chart.get_xticklabels(), \n",
        "    rotation=65, \n",
        "    horizontalalignment='right',\n",
        "    fontweight='light',\n",
        ")\n"
      ],
      "metadata": {
        "id": "COPL9KVjp7li",
        "colab": {
          "base_uri": "https://localhost:8080/",
          "height": 417
        },
        "outputId": "d2e15cab-0a3b-4d20-c448-98bca49de5ee"
      },
      "execution_count": null,
      "outputs": [
        {
          "output_type": "display_data",
          "data": {
            "text/plain": [
              "<Figure size 720x360 with 1 Axes>"
            ],
            "image/png": "[encoded data removed]"
          },
          "metadata": {
            "needs_background": "light"
          }
        }
      ]
    },
    {
      "cell_type": "markdown",
      "source": [
        "\n",
        "\n",
        "> The Bar Charts shows the percentages of occupation status of BGLi customers who subscribe to insurance policies. \n"
      ],
      "metadata": {
        "id": "m1dbiTIHtW9_"
      }
    },
    {
      "cell_type": "code",
      "source": [
        "#Using the Age_grp of customers to do analysis\n",
        "Age_grp1 = data[(data['Customer Age'] > 0) & (data['Customer Age'] < 25)]\n",
        "Age_grp2 = data[(data['Customer Age'] > 25) & (data['Customer Age'] < 35)]\n",
        "Age_grp3 = data[(data['Customer Age'] > 35) & (data['Customer Age'] < 50)]\n",
        "Age_grp4 = data[data['Customer Age'] >= 50 ]"
      ],
      "metadata": {
        "id": "CteWYJOfA09O"
      },
      "execution_count": null,
      "outputs": []
    },
    {
      "cell_type": "code",
      "source": [
        "data['age_grp'] = 0\n",
        "data['age_grp'] = np.where((data['Customer Age'] > 0) & (data['Customer Age'] < 25),0,data['age_grp']) \n",
        "data['age_grp'] = np.where((data['Customer Age'] >= 25) & (data['Customer Age'] < 35),1,data['age_grp']) \n",
        "data['age_grp'] = np.where((data['Customer Age'] >= 35) & (data['Customer Age'] < 50),2,data['age_grp']) \n",
        "data['age_grp'] = np.where(data['Customer Age'] >= 50 ,3, data['age_grp'])\n",
        "\n",
        "data['age_grp']\n"
      ],
      "metadata": {
        "id": "UeNgUsm9DTnn",
        "colab": {
          "base_uri": "https://localhost:8080/"
        },
        "outputId": "552a00f3-48c0-41c6-d3c5-ff904ce36822"
      },
      "execution_count": null,
      "outputs": [
        {
          "output_type": "execute_result",
          "data": {
            "text/plain": [
              "0        2\n",
              "1        3\n",
              "2        3\n",
              "3        3\n",
              "4        3\n",
              "        ..\n",
              "19995    3\n",
              "19996    1\n",
              "19997    3\n",
              "19998    1\n",
              "19999    3\n",
              "Name: age_grp, Length: 20000, dtype: int64"
            ]
          },
          "metadata": {},
          "execution_count": 45
        }
      ]
    },
    {
      "cell_type": "code",
      "source": [
        "d=data.groupby('age_grp')['age_grp'].count().reset_index(name='count')\n",
        "purchased_df = data[data['Purchase Flag'] == 1]\n",
        "age_purchased_grouped = purchased_df.groupby('age_grp')['age_grp'].count().reset_index(name='count')\n",
        "\n",
        "age_status=d.sort_values('count',ascending=False)\n",
        "age_status['count_p'] = age_purchased_grouped['count']\n",
        "\n",
        "\n",
        "age_status['percentage_purchased'] = age_status['count_p'] / age_status['count_p'].sum()\n",
        "age_status"
      ],
      "metadata": {
        "id": "EIXzt7VwITbn",
        "colab": {
          "base_uri": "https://localhost:8080/",
          "height": 194
        },
        "outputId": "20c80eef-d4db-4c56-a443-8bf6f5050153"
      },
      "execution_count": null,
      "outputs": [
        {
          "output_type": "execute_result",
          "data": {
            "text/plain": [
              "   age_grp  count  count_p  percentage_purchased\n",
              "3        3  13510     9112              0.711931\n",
              "2        2   5065     3102              0.242363\n",
              "1        1   1155      516              0.040316\n",
              "0        0    270       69              0.005391"
            ],
            "text/html": [
              "\n",
              "  <div id=\"df-912a53e6-c9f3-4af8-ab3e-1a26bc830d26\">\n",
              "    <div class=\"colab-df-container\">\n",
              "      <div>\n",
              "<style scoped>\n",
              "    .dataframe tbody tr th:only-of-type {\n",
              "        vertical-align: middle;\n",
              "    }\n",
              "\n",
              "    .dataframe tbody tr th {\n",
              "        vertical-align: top;\n",
              "    }\n",
              "\n",
              "    .dataframe thead th {\n",
              "        text-align: right;\n",
              "    }\n",
              "</style>\n",
              "<table border=\"1\" class=\"dataframe\">\n",
              "  <thead>\n",
              "    <tr style=\"text-align: right;\">\n",
              "      <th></th>\n",
              "      <th>age_grp</th>\n",
              "      <th>count</th>\n",
              "      <th>count_p</th>\n",
              "      <th>percentage_purchased</th>\n",
              "    </tr>\n",
              "  </thead>\n",
              "  <tbody>\n",
              "    <tr>\n",
              "      <th>3</th>\n",
              "      <td>3</td>\n",
              "      <td>13510</td>\n",
              "      <td>9112</td>\n",
              "      <td>0.711931</td>\n",
              "    </tr>\n",
              "    <tr>\n",
              "      <th>2</th>\n",
              "      <td>2</td>\n",
              "      <td>5065</td>\n",
              "      <td>3102</td>\n",
              "      <td>0.242363</td>\n",
              "    </tr>\n",
              "    <tr>\n",
              "      <th>1</th>\n",
              "      <td>1</td>\n",
              "      <td>1155</td>\n",
              "      <td>516</td>\n",
              "      <td>0.040316</td>\n",
              "    </tr>\n",
              "    <tr>\n",
              "      <th>0</th>\n",
              "      <td>0</td>\n",
              "      <td>270</td>\n",
              "      <td>69</td>\n",
              "      <td>0.005391</td>\n",
              "    </tr>\n",
              "  </tbody>\n",
              "</table>\n",
              "</div>\n",
              "      <button class=\"colab-df-convert\" onclick=\"convertToInteractive('df-912a53e6-c9f3-4af8-ab3e-1a26bc830d26')\"\n",
              "              title=\"Convert this dataframe to an interactive table.\"\n",
              "              style=\"display:none;\">\n",
              "        \n",
              "  <svg xmlns=\"http://www.w3.org/2000/svg\" height=\"24px\"viewBox=\"0 0 24 24\"\n",
              "       width=\"24px\">\n",
              "    <path d=\"M0 0h24v24H0V0z\" fill=\"none\"/>\n",
              "    <path d=\"M18.56 5.44l.94 2.06.94-2.06 2.06-.94-2.06-.94-.94-2.06-.94 2.06-2.06.94zm-11 1L8.5 8.5l.94-2.06 2.06-.94-2.06-.94L8.5 2.5l-.94 2.06-2.06.94zm10 10l.94 2.06.94-2.06 2.06-.94-2.06-.94-.94-2.06-.94 2.06-2.06.94z\"/><path d=\"M17.41 7.96l-1.37-1.37c-.4-.4-.92-.59-1.43-.59-.52 0-1.04.2-1.43.59L10.3 9.45l-7.72 7.72c-.78.78-.78 2.05 0 2.83L4 21.41c.39.39.9.59 1.41.59.51 0 1.02-.2 1.41-.59l7.78-7.78 2.81-2.81c.8-.78.8-2.07 0-2.86zM5.41 20L4 18.59l7.72-7.72 1.47 1.35L5.41 20z\"/>\n",
              "  </svg>\n",
              "      </button>\n",
              "      \n",
              "  <style>\n",
              "    .colab-df-container {\n",
              "      display:flex;\n",
              "      flex-wrap:wrap;\n",
              "      gap: 12px;\n",
              "    }\n",
              "\n",
              "    .colab-df-convert {\n",
              "      background-color: #E8F0FE;\n",
              "      border: none;\n",
              "      border-radius: 50%;\n",
              "      cursor: pointer;\n",
              "      display: none;\n",
              "      fill: #1967D2;\n",
              "      height: 32px;\n",
              "      padding: 0 0 0 0;\n",
              "      width: 32px;\n",
              "    }\n",
              "\n",
              "    .colab-df-convert:hover {\n",
              "      background-color: #E2EBFA;\n",
              "      box-shadow: 0px 1px 2px rgba(60, 64, 67, 0.3), 0px 1px 3px 1px rgba(60, 64, 67, 0.15);\n",
              "      fill: #174EA6;\n",
              "    }\n",
              "\n",
              "    [theme=dark] .colab-df-convert {\n",
              "      background-color: #3B4455;\n",
              "      fill: #D2E3FC;\n",
              "    }\n",
              "\n",
              "    [theme=dark] .colab-df-convert:hover {\n",
              "      background-color: #434B5C;\n",
              "      box-shadow: 0px 1px 3px 1px rgba(0, 0, 0, 0.15);\n",
              "      filter: drop-shadow(0px 1px 2px rgba(0, 0, 0, 0.3));\n",
              "      fill: #FFFFFF;\n",
              "    }\n",
              "  </style>\n",
              "\n",
              "      <script>\n",
              "        const buttonEl =\n",
              "          document.querySelector('#df-912a53e6-c9f3-4af8-ab3e-1a26bc830d26 button.colab-df-convert');\n",
              "        buttonEl.style.display =\n",
              "          google.colab.kernel.accessAllowed ? 'block' : 'none';\n",
              "\n",
              "        async function convertToInteractive(key) {\n",
              "          const element = document.querySelector('#df-912a53e6-c9f3-4af8-ab3e-1a26bc830d26');\n",
              "          const dataTable =\n",
              "            await google.colab.kernel.invokeFunction('convertToInteractive',\n",
              "                                                     [key], {});\n",
              "          if (!dataTable) return;\n",
              "\n",
              "          const docLinkHtml = 'Like what you see? Visit the ' +\n",
              "            '<a target=\"_blank\" href=https://colab.research.google.com/notebooks/data_table.ipynb>data table notebook</a>'\n",
              "            + ' to learn more about interactive tables.';\n",
              "          element.innerHTML = '';\n",
              "          dataTable['output_type'] = 'display_data';\n",
              "          await google.colab.output.renderOutput(dataTable, element);\n",
              "          const docLink = document.createElement('div');\n",
              "          docLink.innerHTML = docLinkHtml;\n",
              "          element.appendChild(docLink);\n",
              "        }\n",
              "      </script>\n",
              "    </div>\n",
              "  </div>\n",
              "  "
            ]
          },
          "metadata": {},
          "execution_count": 46
        }
      ]
    },
    {
      "cell_type": "markdown",
      "source": [
        "\n",
        "\n",
        "> The chart shows that the Age_group with the highest purchase are the 50 yrs and above in index(3), which is followed by the 35-50 yrs range in index(2), the 25-35 yrs range in index(1) and the least the 0-25 yrs range in index(0). \n"
      ],
      "metadata": {
        "id": "Nv8GMaSgqBaV"
      }
    },
    {
      "cell_type": "code",
      "source": [
        "plt.figure(figsize=(10,5))\n",
        "chart = sns.barplot(\n",
        "    data=age_status,\n",
        "    y='percentage_purchased',\n",
        "    x='age_grp',\n",
        "    palette='Set1'\n",
        ")\n",
        "chart=chart.set_xticklabels(\n",
        "    chart.get_xticklabels(), \n",
        "    rotation=65, \n",
        "    horizontalalignment='right',\n",
        "    fontweight='light',\n",
        ")\n"
      ],
      "metadata": {
        "id": "F0nQBTLTH-_h",
        "colab": {
          "base_uri": "https://localhost:8080/",
          "height": 334
        },
        "outputId": "32eab90f-52ef-478d-db29-b2c82e38885e"
      },
      "execution_count": null,
      "outputs": [
        {
          "output_type": "display_data",
          "data": {
            "text/plain": [
              "<Figure size 720x360 with 1 Axes>"
            ],
            "image/png": "[encoded data removed]"
          },
          "metadata": {
            "needs_background": "light"
          }
        }
      ]
    },
    {
      "cell_type": "code",
      "source": [
        "# processing some strategic columns for analysis\n",
        "Af=data.groupby('Customer Marital Status')['Channel'].count().reset_index(name='count')\n",
        "purchased_Af = data[data['Purchase Flag'] == 1]\n",
        "purchased_Af_grouped = purchased_Af.groupby('Customer Marital Status')['Channel'].count().reset_index(name='count')\n",
        "#spliting of the dataset \n",
        "Marital_status=Af.sort_values('count',ascending=False)\n",
        "Marital_status['count_p'] = purchased_Af_grouped['count']\n"
      ],
      "metadata": {
        "id": "3GMSr_7w_XsQ"
      },
      "execution_count": null,
      "outputs": []
    },
    {
      "cell_type": "code",
      "source": [
        "Af"
      ],
      "metadata": {
        "colab": {
          "base_uri": "https://localhost:8080/",
          "height": 194
        },
        "id": "UYb-9oVJ_9xu",
        "outputId": "d6dfc4b0-b74e-463d-f5dc-12f7a6ad8583"
      },
      "execution_count": null,
      "outputs": [
        {
          "output_type": "execute_result",
          "data": {
            "text/plain": [
              "  Customer Marital Status  count\n",
              "0                Divorced   1750\n",
              "1                 Married  13902\n",
              "2               Partnered   1819\n",
              "3                  Single   2529"
            ],
            "text/html": [
              "\n",
              "  <div id=\"df-1a9f0461-e627-4d27-8da7-62cacfcfabf6\">\n",
              "    <div class=\"colab-df-container\">\n",
              "      <div>\n",
              "<style scoped>\n",
              "    .dataframe tbody tr th:only-of-type {\n",
              "        vertical-align: middle;\n",
              "    }\n",
              "\n",
              "    .dataframe tbody tr th {\n",
              "        vertical-align: top;\n",
              "    }\n",
              "\n",
              "    .dataframe thead th {\n",
              "        text-align: right;\n",
              "    }\n",
              "</style>\n",
              "<table border=\"1\" class=\"dataframe\">\n",
              "  <thead>\n",
              "    <tr style=\"text-align: right;\">\n",
              "      <th></th>\n",
              "      <th>Customer Marital Status</th>\n",
              "      <th>count</th>\n",
              "    </tr>\n",
              "  </thead>\n",
              "  <tbody>\n",
              "    <tr>\n",
              "      <th>0</th>\n",
              "      <td>Divorced</td>\n",
              "      <td>1750</td>\n",
              "    </tr>\n",
              "    <tr>\n",
              "      <th>1</th>\n",
              "      <td>Married</td>\n",
              "      <td>13902</td>\n",
              "    </tr>\n",
              "    <tr>\n",
              "      <th>2</th>\n",
              "      <td>Partnered</td>\n",
              "      <td>1819</td>\n",
              "    </tr>\n",
              "    <tr>\n",
              "      <th>3</th>\n",
              "      <td>Single</td>\n",
              "      <td>2529</td>\n",
              "    </tr>\n",
              "  </tbody>\n",
              "</table>\n",
              "</div>\n",
              "      <button class=\"colab-df-convert\" onclick=\"convertToInteractive('df-1a9f0461-e627-4d27-8da7-62cacfcfabf6')\"\n",
              "              title=\"Convert this dataframe to an interactive table.\"\n",
              "              style=\"display:none;\">\n",
              "        \n",
              "  <svg xmlns=\"http://www.w3.org/2000/svg\" height=\"24px\"viewBox=\"0 0 24 24\"\n",
              "       width=\"24px\">\n",
              "    <path d=\"M0 0h24v24H0V0z\" fill=\"none\"/>\n",
              "    <path d=\"M18.56 5.44l.94 2.06.94-2.06 2.06-.94-2.06-.94-.94-2.06-.94 2.06-2.06.94zm-11 1L8.5 8.5l.94-2.06 2.06-.94-2.06-.94L8.5 2.5l-.94 2.06-2.06.94zm10 10l.94 2.06.94-2.06 2.06-.94-2.06-.94-.94-2.06-.94 2.06-2.06.94z\"/><path d=\"M17.41 7.96l-1.37-1.37c-.4-.4-.92-.59-1.43-.59-.52 0-1.04.2-1.43.59L10.3 9.45l-7.72 7.72c-.78.78-.78 2.05 0 2.83L4 21.41c.39.39.9.59 1.41.59.51 0 1.02-.2 1.41-.59l7.78-7.78 2.81-2.81c.8-.78.8-2.07 0-2.86zM5.41 20L4 18.59l7.72-7.72 1.47 1.35L5.41 20z\"/>\n",
              "  </svg>\n",
              "      </button>\n",
              "      \n",
              "  <style>\n",
              "    .colab-df-container {\n",
              "      display:flex;\n",
              "      flex-wrap:wrap;\n",
              "      gap: 12px;\n",
              "    }\n",
              "\n",
              "    .colab-df-convert {\n",
              "      background-color: #E8F0FE;\n",
              "      border: none;\n",
              "      border-radius: 50%;\n",
              "      cursor: pointer;\n",
              "      display: none;\n",
              "      fill: #1967D2;\n",
              "      height: 32px;\n",
              "      padding: 0 0 0 0;\n",
              "      width: 32px;\n",
              "    }\n",
              "\n",
              "    .colab-df-convert:hover {\n",
              "      background-color: #E2EBFA;\n",
              "      box-shadow: 0px 1px 2px rgba(60, 64, 67, 0.3), 0px 1px 3px 1px rgba(60, 64, 67, 0.15);\n",
              "      fill: #174EA6;\n",
              "    }\n",
              "\n",
              "    [theme=dark] .colab-df-convert {\n",
              "      background-color: #3B4455;\n",
              "      fill: #D2E3FC;\n",
              "    }\n",
              "\n",
              "    [theme=dark] .colab-df-convert:hover {\n",
              "      background-color: #434B5C;\n",
              "      box-shadow: 0px 1px 3px 1px rgba(0, 0, 0, 0.15);\n",
              "      filter: drop-shadow(0px 1px 2px rgba(0, 0, 0, 0.3));\n",
              "      fill: #FFFFFF;\n",
              "    }\n",
              "  </style>\n",
              "\n",
              "      <script>\n",
              "        const buttonEl =\n",
              "          document.querySelector('#df-1a9f0461-e627-4d27-8da7-62cacfcfabf6 button.colab-df-convert');\n",
              "        buttonEl.style.display =\n",
              "          google.colab.kernel.accessAllowed ? 'block' : 'none';\n",
              "\n",
              "        async function convertToInteractive(key) {\n",
              "          const element = document.querySelector('#df-1a9f0461-e627-4d27-8da7-62cacfcfabf6');\n",
              "          const dataTable =\n",
              "            await google.colab.kernel.invokeFunction('convertToInteractive',\n",
              "                                                     [key], {});\n",
              "          if (!dataTable) return;\n",
              "\n",
              "          const docLinkHtml = 'Like what you see? Visit the ' +\n",
              "            '<a target=\"_blank\" href=https://colab.research.google.com/notebooks/data_table.ipynb>data table notebook</a>'\n",
              "            + ' to learn more about interactive tables.';\n",
              "          element.innerHTML = '';\n",
              "          dataTable['output_type'] = 'display_data';\n",
              "          await google.colab.output.renderOutput(dataTable, element);\n",
              "          const docLink = document.createElement('div');\n",
              "          docLink.innerHTML = docLinkHtml;\n",
              "          element.appendChild(docLink);\n",
              "        }\n",
              "      </script>\n",
              "    </div>\n",
              "  </div>\n",
              "  "
            ]
          },
          "metadata": {},
          "execution_count": 38
        }
      ]
    },
    {
      "cell_type": "code",
      "source": [
        "Af.plot.barh(x='Customer Marital Status',y='count',legend=False)\n",
        "plt.title('Customer Marital Status Distribution',fontsize=14)\n",
        "plt.xlabel('Count')"
      ],
      "metadata": {
        "colab": {
          "base_uri": "https://localhost:8080/",
          "height": 314
        },
        "id": "qPIeEmHEAK6U",
        "outputId": "5cd7e438-1114-400c-e3f1-62971e5e0f9f"
      },
      "execution_count": null,
      "outputs": [
        {
          "output_type": "execute_result",
          "data": {
            "text/plain": [
              "Text(0.5, 0, 'Count')"
            ]
          },
          "metadata": {},
          "execution_count": 39
        },
        {
          "output_type": "display_data",
          "data": {
            "text/plain": [
              "<Figure size 432x288 with 1 Axes>"
            ],
            "image/png": "[encoded data removed]"
          },
          "metadata": {
            "needs_background": "light"
          }
        }
      ]
    },
    {
      "cell_type": "code",
      "source": [
        "Marital_status['percentage_M'] = Marital_status['count_p'] / Marital_status['count']\n",
        "Marital_status\n"
      ],
      "metadata": {
        "colab": {
          "base_uri": "https://localhost:8080/",
          "height": 194
        },
        "id": "kLhZb1osAlW9",
        "outputId": "92ce04ee-1afa-4b42-f168-202e14463a77"
      },
      "execution_count": null,
      "outputs": [
        {
          "output_type": "execute_result",
          "data": {
            "text/plain": [
              "  Customer Marital Status  count  count_p  percentage_M\n",
              "1                 Married  13902     9104      0.654870\n",
              "3                  Single   2529     1478      0.584421\n",
              "2               Partnered   1819     1138      0.625618\n",
              "0                Divorced   1750     1079      0.616571"
            ],
            "text/html": [
              "\n",
              "  <div id=\"df-f0e3a7ff-ca5d-419b-8203-bd989e2ea361\">\n",
              "    <div class=\"colab-df-container\">\n",
              "      <div>\n",
              "<style scoped>\n",
              "    .dataframe tbody tr th:only-of-type {\n",
              "        vertical-align: middle;\n",
              "    }\n",
              "\n",
              "    .dataframe tbody tr th {\n",
              "        vertical-align: top;\n",
              "    }\n",
              "\n",
              "    .dataframe thead th {\n",
              "        text-align: right;\n",
              "    }\n",
              "</style>\n",
              "<table border=\"1\" class=\"dataframe\">\n",
              "  <thead>\n",
              "    <tr style=\"text-align: right;\">\n",
              "      <th></th>\n",
              "      <th>Customer Marital Status</th>\n",
              "      <th>count</th>\n",
              "      <th>count_p</th>\n",
              "      <th>percentage_M</th>\n",
              "    </tr>\n",
              "  </thead>\n",
              "  <tbody>\n",
              "    <tr>\n",
              "      <th>1</th>\n",
              "      <td>Married</td>\n",
              "      <td>13902</td>\n",
              "      <td>9104</td>\n",
              "      <td>0.654870</td>\n",
              "    </tr>\n",
              "    <tr>\n",
              "      <th>3</th>\n",
              "      <td>Single</td>\n",
              "      <td>2529</td>\n",
              "      <td>1478</td>\n",
              "      <td>0.584421</td>\n",
              "    </tr>\n",
              "    <tr>\n",
              "      <th>2</th>\n",
              "      <td>Partnered</td>\n",
              "      <td>1819</td>\n",
              "      <td>1138</td>\n",
              "      <td>0.625618</td>\n",
              "    </tr>\n",
              "    <tr>\n",
              "      <th>0</th>\n",
              "      <td>Divorced</td>\n",
              "      <td>1750</td>\n",
              "      <td>1079</td>\n",
              "      <td>0.616571</td>\n",
              "    </tr>\n",
              "  </tbody>\n",
              "</table>\n",
              "</div>\n",
              "      <button class=\"colab-df-convert\" onclick=\"convertToInteractive('df-f0e3a7ff-ca5d-419b-8203-bd989e2ea361')\"\n",
              "              title=\"Convert this dataframe to an interactive table.\"\n",
              "              style=\"display:none;\">\n",
              "        \n",
              "  <svg xmlns=\"http://www.w3.org/2000/svg\" height=\"24px\"viewBox=\"0 0 24 24\"\n",
              "       width=\"24px\">\n",
              "    <path d=\"M0 0h24v24H0V0z\" fill=\"none\"/>\n",
              "    <path d=\"M18.56 5.44l.94 2.06.94-2.06 2.06-.94-2.06-.94-.94-2.06-.94 2.06-2.06.94zm-11 1L8.5 8.5l.94-2.06 2.06-.94-2.06-.94L8.5 2.5l-.94 2.06-2.06.94zm10 10l.94 2.06.94-2.06 2.06-.94-2.06-.94-.94-2.06-.94 2.06-2.06.94z\"/><path d=\"M17.41 7.96l-1.37-1.37c-.4-.4-.92-.59-1.43-.59-.52 0-1.04.2-1.43.59L10.3 9.45l-7.72 7.72c-.78.78-.78 2.05 0 2.83L4 21.41c.39.39.9.59 1.41.59.51 0 1.02-.2 1.41-.59l7.78-7.78 2.81-2.81c.8-.78.8-2.07 0-2.86zM5.41 20L4 18.59l7.72-7.72 1.47 1.35L5.41 20z\"/>\n",
              "  </svg>\n",
              "      </button>\n",
              "      \n",
              "  <style>\n",
              "    .colab-df-container {\n",
              "      display:flex;\n",
              "      flex-wrap:wrap;\n",
              "      gap: 12px;\n",
              "    }\n",
              "\n",
              "    .colab-df-convert {\n",
              "      background-color: #E8F0FE;\n",
              "      border: none;\n",
              "      border-radius: 50%;\n",
              "      cursor: pointer;\n",
              "      display: none;\n",
              "      fill: #1967D2;\n",
              "      height: 32px;\n",
              "      padding: 0 0 0 0;\n",
              "      width: 32px;\n",
              "    }\n",
              "\n",
              "    .colab-df-convert:hover {\n",
              "      background-color: #E2EBFA;\n",
              "      box-shadow: 0px 1px 2px rgba(60, 64, 67, 0.3), 0px 1px 3px 1px rgba(60, 64, 67, 0.15);\n",
              "      fill: #174EA6;\n",
              "    }\n",
              "\n",
              "    [theme=dark] .colab-df-convert {\n",
              "      background-color: #3B4455;\n",
              "      fill: #D2E3FC;\n",
              "    }\n",
              "\n",
              "    [theme=dark] .colab-df-convert:hover {\n",
              "      background-color: #434B5C;\n",
              "      box-shadow: 0px 1px 3px 1px rgba(0, 0, 0, 0.15);\n",
              "      filter: drop-shadow(0px 1px 2px rgba(0, 0, 0, 0.3));\n",
              "      fill: #FFFFFF;\n",
              "    }\n",
              "  </style>\n",
              "\n",
              "      <script>\n",
              "        const buttonEl =\n",
              "          document.querySelector('#df-f0e3a7ff-ca5d-419b-8203-bd989e2ea361 button.colab-df-convert');\n",
              "        buttonEl.style.display =\n",
              "          google.colab.kernel.accessAllowed ? 'block' : 'none';\n",
              "\n",
              "        async function convertToInteractive(key) {\n",
              "          const element = document.querySelector('#df-f0e3a7ff-ca5d-419b-8203-bd989e2ea361');\n",
              "          const dataTable =\n",
              "            await google.colab.kernel.invokeFunction('convertToInteractive',\n",
              "                                                     [key], {});\n",
              "          if (!dataTable) return;\n",
              "\n",
              "          const docLinkHtml = 'Like what you see? Visit the ' +\n",
              "            '<a target=\"_blank\" href=https://colab.research.google.com/notebooks/data_table.ipynb>data table notebook</a>'\n",
              "            + ' to learn more about interactive tables.';\n",
              "          element.innerHTML = '';\n",
              "          dataTable['output_type'] = 'display_data';\n",
              "          await google.colab.output.renderOutput(dataTable, element);\n",
              "          const docLink = document.createElement('div');\n",
              "          docLink.innerHTML = docLinkHtml;\n",
              "          element.appendChild(docLink);\n",
              "        }\n",
              "      </script>\n",
              "    </div>\n",
              "  </div>\n",
              "  "
            ]
          },
          "metadata": {},
          "execution_count": 40
        }
      ]
    },
    {
      "cell_type": "markdown",
      "source": [
        "\n",
        "\n",
        "> The Table shows the total number of Marital status of customers who purchace a licence through one channel or the other, and the percentages of customer's marital status that bought an insurance. In terms of the highest purchaser, Married customers purchase more compared to others. Although, purchase the highest index of insurance policies with 1138 out of 1819. And the least, purchased customers are the singles(1478 out of 2529).  \n"
      ],
      "metadata": {
        "id": "-u6R0dLpT2XP"
      }
    },
    {
      "cell_type": "code",
      "source": [
        "plt.figure(figsize=(10,5))\n",
        "chart = sns.barplot(\n",
        "    data=Marital_status,\n",
        "    x='Customer Marital Status',\n",
        "    y='percentage_M',\n",
        "    palette='Set1'\n",
        ")\n",
        "chart=chart.set_xticklabels(\n",
        "    chart.get_xticklabels(), \n",
        "    rotation=65, \n",
        "    horizontalalignment='right',\n",
        "    fontweight='light',\n",
        ")\n"
      ],
      "metadata": {
        "colab": {
          "base_uri": "https://localhost:8080/",
          "height": 372
        },
        "id": "osMwzTUiBLtg",
        "outputId": "bb59da20-8d48-4b25-fbdb-6d2b5eb574a8"
      },
      "execution_count": null,
      "outputs": [
        {
          "output_type": "display_data",
          "data": {
            "text/plain": [
              "<Figure size 720x360 with 1 Axes>"
            ],
            "image/png": "[encoded data removed]"
          },
          "metadata": {
            "needs_background": "light"
          }
        }
      ]
    },
    {
      "cell_type": "code",
      "source": [
        "job_title=data['Customer Occupation Status'][~pd.isnull(data['Customer Occupation Status'])]\n",
        "wordCloud = WordCloud(width=450,height= 300).generate(' '.join(job_title))\n",
        "plt.figure(figsize=(19,9))\n",
        "plt.axis('off')\n",
        "plt.title(data['Customer Occupation Status'].name,fontsize=20)\n",
        "plt.imshow(wordCloud)\n",
        "plt.show()"
      ],
      "metadata": {
        "id": "eTEaQC_zf1aH",
        "colab": {
          "base_uri": "https://localhost:8080/",
          "height": 541
        },
        "outputId": "9c6af2a9-5262-439c-be31-75588f10f5b2"
      },
      "execution_count": null,
      "outputs": [
        {
          "output_type": "display_data",
          "data": {
            "text/plain": [
              "<Figure size 1368x648 with 1 Axes>"
            ],
            "image/png": "[encoded data removed]"
          },
          "metadata": {
            "needs_background": "light"
          }
        }
      ]
    },
    {
      "cell_type": "markdown",
      "source": [
        "\n",
        "\n",
        "> Wordcount showing the most occured occupation status.\n",
        "\n"
      ],
      "metadata": {
        "id": "53bl5tZv7JFA"
      }
    },
    {
      "cell_type": "code",
      "source": [
        "job_title=data['Customer Marital Status'][~pd.isnull(data['Customer Marital Status'])]\n",
        "wordCloud = WordCloud(width=450,height= 300).generate(' '.join(job_title))\n",
        "plt.figure(figsize=(19,9))\n",
        "plt.axis('off')\n",
        "plt.title(data['Customer Marital Status'].name,fontsize=20)\n",
        "plt.imshow(wordCloud)\n",
        "plt.show()"
      ],
      "metadata": {
        "colab": {
          "base_uri": "https://localhost:8080/",
          "height": 541
        },
        "id": "-Ze87D6CCL-A",
        "outputId": "2fd9a892-79d4-400e-e258-f0f5355f3c71"
      },
      "execution_count": null,
      "outputs": [
        {
          "output_type": "display_data",
          "data": {
            "text/plain": [
              "<Figure size 1368x648 with 1 Axes>"
            ],
            "image/png": "[encoded data removed]"
          },
          "metadata": {
            "needs_background": "light"
          }
        }
      ]
    },
    {
      "cell_type": "markdown",
      "source": [
        "\n",
        "\n",
        "> Wordcount showing the most occured marrital status.\n",
        "\n"
      ],
      "metadata": {
        "id": "eKZWesT27Xdk"
      }
    },
    {
      "cell_type": "markdown",
      "source": [
        "### The brand is looking to increase volume by 200 sales per month – what action would you propose and why?\n",
        "\n",
        "The dataset indicates that employed customers account for a majority of insurance purchases. Retirees and self-employed individuals follow behind and the singles are the least purchasers of an insurance policy. As a result of the data provided, these following categories of customers should be the target market of BGLi for selling their insurance products.\n",
        "It is essential that BGLi target their most profitable customers because they contribute the most to their profit margin. In order to increase the sales for the single persons with the least amount of coverage, the company should concentrate on retaining high valued customers on the insurance policies they subscribe. Perhaps a good strategy would be to provide singles with a policy that would enhance their interest in purchasing a suitable insurance ‌policy.\n",
        "\n"
      ],
      "metadata": {
        "id": "tUtoTYm8z9jr"
      }
    }
  ]
}