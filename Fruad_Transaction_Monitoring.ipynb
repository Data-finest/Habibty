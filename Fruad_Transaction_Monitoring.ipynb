{
  "nbformat": 4,
  "nbformat_minor": 0,
  "metadata": {
    "colab": {
      "name": "Fruad Transaction Monitoring.ipynb",
      "provenance": [],
      "collapsed_sections": [],
      "include_colab_link": true
    },
    "kernelspec": {
      "name": "python3",
      "display_name": "Python 3"
    }
  },
  "cells": [
    {
      "cell_type": "markdown",
      "metadata": {
        "id": "view-in-github",
        "colab_type": "text"
      },
      "source": [
        "<a href=\"https://colab.research.google.com/github/Data-finest/Habibty/blob/main/Fruad_Transaction_Monitoring.ipynb\" target=\"_parent\"><img src=\"https://colab.research.google.com/assets/colab-badge.svg\" alt=\"Open In Colab\"/></a>"
      ]
    },
    {
      "cell_type": "markdown",
      "metadata": {
        "id": "aFdaRR180YR0"
      },
      "source": [
        "#NAME: HABEEB SOLALU\n"
      ]
    },
    {
      "cell_type": "markdown",
      "metadata": {
        "id": "vfpu7-0Zwbwy"
      },
      "source": [
        "##Exercise A"
      ]
    },
    {
      "cell_type": "code",
      "metadata": {
        "colab": {
          "base_uri": "https://localhost:8080/"
        },
        "id": "UInCHZxcvkg4",
        "outputId": "eef1aac5-be10-4678-b4ab-1f275e372c22"
      },
      "source": [
        "!gdown --id 1A_EE7CIltvI5YfP_EPzmQ5jeNezT7cfF"
      ],
      "execution_count": null,
      "outputs": [
        {
          "output_type": "stream",
          "text": [
            "Downloading...\n",
            "From: https://drive.google.com/uc?id=1A_EE7CIltvI5YfP_EPzmQ5jeNezT7cfF\n",
            "To: /content/transactions.csv\n",
            "\r0.00B [00:00, ?B/s]\r16.1MB [00:00, 141MB/s]\n"
          ],
          "name": "stdout"
        }
      ]
    },
    {
      "cell_type": "code",
      "metadata": {
        "id": "mPl6mm_8wZYA"
      },
      "source": [
        "import pandas as pd\n",
        "import numpy as np\n",
        "import seaborn as sns\n",
        "import matplotlib.pyplot as plt\n",
        "%matplotlib inline"
      ],
      "execution_count": null,
      "outputs": []
    },
    {
      "cell_type": "code",
      "metadata": {
        "colab": {
          "base_uri": "https://localhost:8080/",
          "height": 221
        },
        "id": "G8ogNyC3wu5h",
        "outputId": "cd3801f5-57b8-4071-ee6a-4ede7f98166a"
      },
      "source": [
        "df = pd.read_csv(\"/content/transactions.csv\")\n",
        "print(\"Dataset Shape: \", df.shape)\n",
        "\n",
        "df.head()"
      ],
      "execution_count": null,
      "outputs": [
        {
          "output_type": "stream",
          "text": [
            "Dataset Shape:  (200000, 11)\n"
          ],
          "name": "stdout"
        },
        {
          "output_type": "execute_result",
          "data": {
            "text/html": [
              "<div>\n",
              "<style scoped>\n",
              "    .dataframe tbody tr th:only-of-type {\n",
              "        vertical-align: middle;\n",
              "    }\n",
              "\n",
              "    .dataframe tbody tr th {\n",
              "        vertical-align: top;\n",
              "    }\n",
              "\n",
              "    .dataframe thead th {\n",
              "        text-align: right;\n",
              "    }\n",
              "</style>\n",
              "<table border=\"1\" class=\"dataframe\">\n",
              "  <thead>\n",
              "    <tr style=\"text-align: right;\">\n",
              "      <th></th>\n",
              "      <th>Unnamed: 0</th>\n",
              "      <th>step</th>\n",
              "      <th>type</th>\n",
              "      <th>amount</th>\n",
              "      <th>nameOrig</th>\n",
              "      <th>oldbalanceOrg</th>\n",
              "      <th>newbalanceOrig</th>\n",
              "      <th>nameDest</th>\n",
              "      <th>oldbalanceDest</th>\n",
              "      <th>newbalanceDest</th>\n",
              "      <th>isFraud</th>\n",
              "    </tr>\n",
              "  </thead>\n",
              "  <tbody>\n",
              "    <tr>\n",
              "      <th>0</th>\n",
              "      <td>0</td>\n",
              "      <td>1</td>\n",
              "      <td>PAYMENT</td>\n",
              "      <td>9839.64</td>\n",
              "      <td>C1231006815</td>\n",
              "      <td>170136.0</td>\n",
              "      <td>160296.36</td>\n",
              "      <td>M1979787155</td>\n",
              "      <td>0.0</td>\n",
              "      <td>0.0</td>\n",
              "      <td>0</td>\n",
              "    </tr>\n",
              "    <tr>\n",
              "      <th>1</th>\n",
              "      <td>1</td>\n",
              "      <td>1</td>\n",
              "      <td>PAYMENT</td>\n",
              "      <td>1864.28</td>\n",
              "      <td>C1666544295</td>\n",
              "      <td>21249.0</td>\n",
              "      <td>19384.72</td>\n",
              "      <td>M2044282225</td>\n",
              "      <td>0.0</td>\n",
              "      <td>0.0</td>\n",
              "      <td>0</td>\n",
              "    </tr>\n",
              "    <tr>\n",
              "      <th>2</th>\n",
              "      <td>2</td>\n",
              "      <td>1</td>\n",
              "      <td>TRANSFER</td>\n",
              "      <td>181.00</td>\n",
              "      <td>C1305486145</td>\n",
              "      <td>181.0</td>\n",
              "      <td>0.00</td>\n",
              "      <td>C553264065</td>\n",
              "      <td>0.0</td>\n",
              "      <td>0.0</td>\n",
              "      <td>1</td>\n",
              "    </tr>\n",
              "    <tr>\n",
              "      <th>3</th>\n",
              "      <td>3</td>\n",
              "      <td>1</td>\n",
              "      <td>CASH_OUT</td>\n",
              "      <td>181.00</td>\n",
              "      <td>C840083671</td>\n",
              "      <td>181.0</td>\n",
              "      <td>0.00</td>\n",
              "      <td>C38997010</td>\n",
              "      <td>21182.0</td>\n",
              "      <td>0.0</td>\n",
              "      <td>1</td>\n",
              "    </tr>\n",
              "    <tr>\n",
              "      <th>4</th>\n",
              "      <td>4</td>\n",
              "      <td>1</td>\n",
              "      <td>PAYMENT</td>\n",
              "      <td>11668.14</td>\n",
              "      <td>C2048537720</td>\n",
              "      <td>41554.0</td>\n",
              "      <td>29885.86</td>\n",
              "      <td>M1230701703</td>\n",
              "      <td>0.0</td>\n",
              "      <td>0.0</td>\n",
              "      <td>0</td>\n",
              "    </tr>\n",
              "  </tbody>\n",
              "</table>\n",
              "</div>"
            ],
            "text/plain": [
              "   Unnamed: 0  step      type  ...  oldbalanceDest newbalanceDest  isFraud\n",
              "0           0     1   PAYMENT  ...             0.0            0.0        0\n",
              "1           1     1   PAYMENT  ...             0.0            0.0        0\n",
              "2           2     1  TRANSFER  ...             0.0            0.0        1\n",
              "3           3     1  CASH_OUT  ...         21182.0            0.0        1\n",
              "4           4     1   PAYMENT  ...             0.0            0.0        0\n",
              "\n",
              "[5 rows x 11 columns]"
            ]
          },
          "metadata": {
            "tags": []
          },
          "execution_count": 45
        }
      ]
    },
    {
      "cell_type": "code",
      "metadata": {
        "colab": {
          "base_uri": "https://localhost:8080/",
          "height": 279
        },
        "id": "eOFY4v3l2C6t",
        "outputId": "e0b27ea9-c4f3-464c-d2a7-7f558b095a12"
      },
      "source": [
        "isFraud_count = len(df[df['isFraud'] == 1])\n",
        "nonFraud_count = len(df[df['isFraud'] == 0])\n",
        "\n",
        "sampled_nonFraud = df[df['isFraud'] == 0].sample(n=isFraud_count)\n",
        "isFraud = df[df['isFraud'] == 1]\n",
        "\n",
        "sampled_nonFraud.reset_index(drop=True, inplace=True)\n",
        "isFraud.reset_index(drop=True, inplace=True)\n",
        "\n",
        "balanced_df = pd.concat([sampled_nonFraud, isFraud]).reset_index(drop=True);\n",
        "\n",
        "balanced_df['isFraud'].value_counts().plot(kind='bar')"
      ],
      "execution_count": null,
      "outputs": [
        {
          "output_type": "execute_result",
          "data": {
            "text/plain": [
              "<matplotlib.axes._subplots.AxesSubplot at 0x7fd3ec221fd0>"
            ]
          },
          "metadata": {
            "tags": []
          },
          "execution_count": 46
        },
        {
          "output_type": "display_data",
          "data": {
            "image/png": "[encoded data removed]",
            "text/plain": [
              "<Figure size 432x288 with 1 Axes>"
            ]
          },
          "metadata": {
            "tags": [],
            "needs_background": "light"
          }
        }
      ]
    },
    {
      "cell_type": "code",
      "metadata": {
        "colab": {
          "base_uri": "https://localhost:8080/",
          "height": 419
        },
        "id": "IRZpesiF2XFs",
        "outputId": "ac8c62b2-6b23-49d8-f045-131c89ee2d5d"
      },
      "source": [
        "balanced_df"
      ],
      "execution_count": null,
      "outputs": [
        {
          "output_type": "execute_result",
          "data": {
            "text/html": [
              "<div>\n",
              "<style scoped>\n",
              "    .dataframe tbody tr th:only-of-type {\n",
              "        vertical-align: middle;\n",
              "    }\n",
              "\n",
              "    .dataframe tbody tr th {\n",
              "        vertical-align: top;\n",
              "    }\n",
              "\n",
              "    .dataframe thead th {\n",
              "        text-align: right;\n",
              "    }\n",
              "</style>\n",
              "<table border=\"1\" class=\"dataframe\">\n",
              "  <thead>\n",
              "    <tr style=\"text-align: right;\">\n",
              "      <th></th>\n",
              "      <th>Unnamed: 0</th>\n",
              "      <th>step</th>\n",
              "      <th>type</th>\n",
              "      <th>amount</th>\n",
              "      <th>nameOrig</th>\n",
              "      <th>oldbalanceOrg</th>\n",
              "      <th>newbalanceOrig</th>\n",
              "      <th>nameDest</th>\n",
              "      <th>oldbalanceDest</th>\n",
              "      <th>newbalanceDest</th>\n",
              "      <th>isFraud</th>\n",
              "    </tr>\n",
              "  </thead>\n",
              "  <tbody>\n",
              "    <tr>\n",
              "      <th>0</th>\n",
              "      <td>169975</td>\n",
              "      <td>12</td>\n",
              "      <td>PAYMENT</td>\n",
              "      <td>579.86</td>\n",
              "      <td>C1606254132</td>\n",
              "      <td>0.00</td>\n",
              "      <td>0.00</td>\n",
              "      <td>M592935517</td>\n",
              "      <td>0.00</td>\n",
              "      <td>0.00</td>\n",
              "      <td>0</td>\n",
              "    </tr>\n",
              "    <tr>\n",
              "      <th>1</th>\n",
              "      <td>82958</td>\n",
              "      <td>10</td>\n",
              "      <td>DEBIT</td>\n",
              "      <td>518.30</td>\n",
              "      <td>C154751578</td>\n",
              "      <td>16159.00</td>\n",
              "      <td>15640.70</td>\n",
              "      <td>C1876380981</td>\n",
              "      <td>280102.44</td>\n",
              "      <td>334294.66</td>\n",
              "      <td>0</td>\n",
              "    </tr>\n",
              "    <tr>\n",
              "      <th>2</th>\n",
              "      <td>125766</td>\n",
              "      <td>11</td>\n",
              "      <td>CASH_OUT</td>\n",
              "      <td>2786.18</td>\n",
              "      <td>C403116403</td>\n",
              "      <td>339012.52</td>\n",
              "      <td>336226.34</td>\n",
              "      <td>C1009424082</td>\n",
              "      <td>20728.00</td>\n",
              "      <td>23514.18</td>\n",
              "      <td>0</td>\n",
              "    </tr>\n",
              "    <tr>\n",
              "      <th>3</th>\n",
              "      <td>155869</td>\n",
              "      <td>12</td>\n",
              "      <td>CASH_OUT</td>\n",
              "      <td>7805.01</td>\n",
              "      <td>C1285085571</td>\n",
              "      <td>0.00</td>\n",
              "      <td>0.00</td>\n",
              "      <td>C1573676608</td>\n",
              "      <td>0.00</td>\n",
              "      <td>7805.01</td>\n",
              "      <td>0</td>\n",
              "    </tr>\n",
              "    <tr>\n",
              "      <th>4</th>\n",
              "      <td>181589</td>\n",
              "      <td>12</td>\n",
              "      <td>PAYMENT</td>\n",
              "      <td>2924.50</td>\n",
              "      <td>C512265417</td>\n",
              "      <td>28953.00</td>\n",
              "      <td>26028.50</td>\n",
              "      <td>M685993548</td>\n",
              "      <td>0.00</td>\n",
              "      <td>0.00</td>\n",
              "      <td>0</td>\n",
              "    </tr>\n",
              "    <tr>\n",
              "      <th>...</th>\n",
              "      <td>...</td>\n",
              "      <td>...</td>\n",
              "      <td>...</td>\n",
              "      <td>...</td>\n",
              "      <td>...</td>\n",
              "      <td>...</td>\n",
              "      <td>...</td>\n",
              "      <td>...</td>\n",
              "      <td>...</td>\n",
              "      <td>...</td>\n",
              "      <td>...</td>\n",
              "    </tr>\n",
              "    <tr>\n",
              "      <th>289</th>\n",
              "      <td>182862</td>\n",
              "      <td>13</td>\n",
              "      <td>CASH_OUT</td>\n",
              "      <td>408.00</td>\n",
              "      <td>C1894004688</td>\n",
              "      <td>408.00</td>\n",
              "      <td>0.00</td>\n",
              "      <td>C1293978242</td>\n",
              "      <td>898297.85</td>\n",
              "      <td>1075854.14</td>\n",
              "      <td>1</td>\n",
              "    </tr>\n",
              "    <tr>\n",
              "      <th>290</th>\n",
              "      <td>193765</td>\n",
              "      <td>13</td>\n",
              "      <td>TRANSFER</td>\n",
              "      <td>48375.02</td>\n",
              "      <td>C920803432</td>\n",
              "      <td>48375.02</td>\n",
              "      <td>0.00</td>\n",
              "      <td>C1767389067</td>\n",
              "      <td>0.00</td>\n",
              "      <td>0.00</td>\n",
              "      <td>1</td>\n",
              "    </tr>\n",
              "    <tr>\n",
              "      <th>291</th>\n",
              "      <td>193766</td>\n",
              "      <td>13</td>\n",
              "      <td>CASH_OUT</td>\n",
              "      <td>48375.02</td>\n",
              "      <td>C1894578299</td>\n",
              "      <td>48375.02</td>\n",
              "      <td>0.00</td>\n",
              "      <td>C590035788</td>\n",
              "      <td>374803.26</td>\n",
              "      <td>658520.33</td>\n",
              "      <td>1</td>\n",
              "    </tr>\n",
              "    <tr>\n",
              "      <th>292</th>\n",
              "      <td>196775</td>\n",
              "      <td>13</td>\n",
              "      <td>TRANSFER</td>\n",
              "      <td>4022667.54</td>\n",
              "      <td>C735463888</td>\n",
              "      <td>4022667.54</td>\n",
              "      <td>0.00</td>\n",
              "      <td>C1548348754</td>\n",
              "      <td>0.00</td>\n",
              "      <td>0.00</td>\n",
              "      <td>1</td>\n",
              "    </tr>\n",
              "    <tr>\n",
              "      <th>293</th>\n",
              "      <td>196776</td>\n",
              "      <td>13</td>\n",
              "      <td>CASH_OUT</td>\n",
              "      <td>4022667.54</td>\n",
              "      <td>C79951219</td>\n",
              "      <td>4022667.54</td>\n",
              "      <td>0.00</td>\n",
              "      <td>C1499489682</td>\n",
              "      <td>80136.56</td>\n",
              "      <td>4057191.21</td>\n",
              "      <td>1</td>\n",
              "    </tr>\n",
              "  </tbody>\n",
              "</table>\n",
              "<p>294 rows × 11 columns</p>\n",
              "</div>"
            ],
            "text/plain": [
              "     Unnamed: 0  step      type  ...  oldbalanceDest newbalanceDest  isFraud\n",
              "0        169975    12   PAYMENT  ...            0.00           0.00        0\n",
              "1         82958    10     DEBIT  ...       280102.44      334294.66        0\n",
              "2        125766    11  CASH_OUT  ...        20728.00       23514.18        0\n",
              "3        155869    12  CASH_OUT  ...            0.00        7805.01        0\n",
              "4        181589    12   PAYMENT  ...            0.00           0.00        0\n",
              "..          ...   ...       ...  ...             ...            ...      ...\n",
              "289      182862    13  CASH_OUT  ...       898297.85     1075854.14        1\n",
              "290      193765    13  TRANSFER  ...            0.00           0.00        1\n",
              "291      193766    13  CASH_OUT  ...       374803.26      658520.33        1\n",
              "292      196775    13  TRANSFER  ...            0.00           0.00        1\n",
              "293      196776    13  CASH_OUT  ...        80136.56     4057191.21        1\n",
              "\n",
              "[294 rows x 11 columns]"
            ]
          },
          "metadata": {
            "tags": []
          },
          "execution_count": 47
        }
      ]
    },
    {
      "cell_type": "code",
      "metadata": {
        "id": "plvRJfVI1Ez9",
        "colab": {
          "base_uri": "https://localhost:8080/"
        },
        "outputId": "df0fcb31-6512-4955-9eae-fc03694ad16e"
      },
      "source": [
        "categories_col= ['step', 'type', 'nameOrig', 'nameDest']\n",
        "from sklearn.preprocessing import LabelEncoder\n",
        "le = LabelEncoder()\n",
        "# apply le on categorical feature columns\n",
        "balanced_df[categories_col] = balanced_df[categories_col].apply(lambda col: le.fit_transform(col))\n",
        "print(balanced_df)\n",
        "balanced_df.info()"
      ],
      "execution_count": null,
      "outputs": [
        {
          "output_type": "stream",
          "text": [
            "     Unnamed: 0  step  type  ...  oldbalanceDest  newbalanceDest  isFraud\n",
            "0        169975    11     3  ...            0.00            0.00        0\n",
            "1         82958     9     2  ...       280102.44       334294.66        0\n",
            "2        125766    10     1  ...        20728.00        23514.18        0\n",
            "3        155869    11     1  ...            0.00         7805.01        0\n",
            "4        181589    11     3  ...            0.00            0.00        0\n",
            "..          ...   ...   ...  ...             ...             ...      ...\n",
            "289      182862    12     1  ...       898297.85      1075854.14        1\n",
            "290      193765    12     4  ...            0.00            0.00        1\n",
            "291      193766    12     1  ...       374803.26       658520.33        1\n",
            "292      196775    12     4  ...            0.00            0.00        1\n",
            "293      196776    12     1  ...        80136.56      4057191.21        1\n",
            "\n",
            "[294 rows x 11 columns]\n",
            "<class 'pandas.core.frame.DataFrame'>\n",
            "RangeIndex: 294 entries, 0 to 293\n",
            "Data columns (total 11 columns):\n",
            " #   Column          Non-Null Count  Dtype  \n",
            "---  ------          --------------  -----  \n",
            " 0   Unnamed: 0      294 non-null    int64  \n",
            " 1   step            294 non-null    int64  \n",
            " 2   type            294 non-null    int64  \n",
            " 3   amount          294 non-null    float64\n",
            " 4   nameOrig        294 non-null    int64  \n",
            " 5   oldbalanceOrg   294 non-null    float64\n",
            " 6   newbalanceOrig  294 non-null    float64\n",
            " 7   nameDest        294 non-null    int64  \n",
            " 8   oldbalanceDest  294 non-null    float64\n",
            " 9   newbalanceDest  294 non-null    float64\n",
            " 10  isFraud         294 non-null    int64  \n",
            "dtypes: float64(5), int64(6)\n",
            "memory usage: 25.4 KB\n"
          ],
          "name": "stdout"
        }
      ]
    },
    {
      "cell_type": "code",
      "metadata": {
        "colab": {
          "base_uri": "https://localhost:8080/",
          "height": 522
        },
        "id": "HgUFppZn3O6p",
        "outputId": "dbbbc780-e3cd-4193-8ab0-83efeb1597ea"
      },
      "source": [
        "corr = balanced_df.corr()\n",
        "f, ax = plt.subplots(figsize=(16, 8))\n",
        "plt.subplot(1, 2, 1)\n",
        "plt.title('Correlation matrix of sub-sampled data')\n",
        "sns.heatmap(corrmat, vmax=1, square=True, annot=True)"
      ],
      "execution_count": null,
      "outputs": [
        {
          "output_type": "execute_result",
          "data": {
            "text/plain": [
              "<matplotlib.axes._subplots.AxesSubplot at 0x7fd3ec1dea10>"
            ]
          },
          "metadata": {
            "tags": []
          },
          "execution_count": 49
        },
        {
          "output_type": "display_data",
          "data": {
            "image/png": "[encoded data removed]",
            "text/plain": [
              "<Figure size 1152x576 with 2 Axes>"
            ]
          },
          "metadata": {
            "tags": [],
            "needs_background": "light"
          }
        }
      ]
    },
    {
      "cell_type": "markdown",
      "metadata": {
        "id": "4icU51WH2eul"
      },
      "source": [
        "The strongest correlation occurred between the oldbalanceDest and the newbalanceDest at 0.9 which was then followed the correlation between oldbalanceOrg and newbalanceOrg at 0.86."
      ]
    },
    {
      "cell_type": "code",
      "metadata": {
        "id": "j_i6uZaFxc8h"
      },
      "source": [
        "numeric_col = ['amount', 'nameOrig','oldbalanceOrg', 'newbalanceOrig', 'nameDest','oldbalanceDest','newbalanceDest']\n",
        "from sklearn.preprocessing import MinMaxScaler\n",
        "min_max=MinMaxScaler()\n",
        "# Normalising\n",
        "balanced_df[numeric_col]=min_max.fit_transform(balanced_df[numeric_col])\n",
        "\n",
        "X = balanced_df.drop('isFraud', axis = 1)\n",
        "y = balanced_df['isFraud']\n"
      ],
      "execution_count": null,
      "outputs": []
    },
    {
      "cell_type": "code",
      "metadata": {
        "id": "Tuhj93L9alEL"
      },
      "source": [
        "from sklearn.model_selection import train_test_split\n",
        "X_train, X_test, y_train, y_test = train_test_split(X, y, test_size = 0.20, stratify = y)"
      ],
      "execution_count": null,
      "outputs": []
    },
    {
      "cell_type": "markdown",
      "metadata": {
        "id": "8WvilLpr4GtZ"
      },
      "source": [
        "##SUPPORT VECTOR MACHINE(SVM) MODEL"
      ]
    },
    {
      "cell_type": "code",
      "metadata": {
        "colab": {
          "base_uri": "https://localhost:8080/"
        },
        "id": "8RjmEioTLBf4",
        "outputId": "5a116ee2-2720-494d-a3a3-60d5467b579c"
      },
      "source": [
        "from sklearn.svm import SVC\n",
        "svclassifier = SVC(kernel='linear')\n",
        "svclassifier.fit(X_train, y_train)"
      ],
      "execution_count": null,
      "outputs": [
        {
          "output_type": "execute_result",
          "data": {
            "text/plain": [
              "SVC(C=1.0, break_ties=False, cache_size=200, class_weight=None, coef0=0.0,\n",
              "    decision_function_shape='ovr', degree=3, gamma='scale', kernel='linear',\n",
              "    max_iter=-1, probability=False, random_state=None, shrinking=True,\n",
              "    tol=0.001, verbose=False)"
            ]
          },
          "metadata": {
            "tags": []
          },
          "execution_count": 52
        }
      ]
    },
    {
      "cell_type": "code",
      "metadata": {
        "colab": {
          "base_uri": "https://localhost:8080/"
        },
        "id": "HxRT4SixW6ys",
        "outputId": "1ea719fa-3ee3-4b0c-d649-11e360534401"
      },
      "source": [
        "from sklearn.metrics import classification_report, confusion_matrix\n",
        "\n",
        "y_pred = svclassifier.predict(X_test)\n",
        "\n",
        "print(classification_report(y_test,y_pred))"
      ],
      "execution_count": null,
      "outputs": [
        {
          "output_type": "stream",
          "text": [
            "              precision    recall  f1-score   support\n",
            "\n",
            "           0       0.75      0.93      0.83        29\n",
            "           1       0.91      0.70      0.79        30\n",
            "\n",
            "    accuracy                           0.81        59\n",
            "   macro avg       0.83      0.82      0.81        59\n",
            "weighted avg       0.83      0.81      0.81        59\n",
            "\n"
          ],
          "name": "stdout"
        }
      ]
    },
    {
      "cell_type": "code",
      "metadata": {
        "id": "zLFqNYFBDJmN",
        "colab": {
          "base_uri": "https://localhost:8080/",
          "height": 377
        },
        "outputId": "a8e8c673-c47a-4c65-90e2-a76acecfa194"
      },
      "source": [
        "!pip install -U git+https://github.com/apogiatzis/etherscan_py\n",
        "!pip install neo4j"
      ],
      "execution_count": null,
      "outputs": [
        {
          "output_type": "stream",
          "text": [
            "Collecting git+https://github.com/apogiatzis/etherscan_py\n",
            "  Cloning https://github.com/apogiatzis/etherscan_py to /tmp/pip-req-build-2q_oqf57\n",
            "  Running command git clone -q https://github.com/apogiatzis/etherscan_py /tmp/pip-req-build-2q_oqf57\n",
            "Building wheels for collected packages: etherscan-py\n",
            "  Building wheel for etherscan-py (setup.py) ... \u001b[?25l\u001b[?25hdone\n",
            "  Created wheel for etherscan-py: filename=etherscan_py-0.2.4-py2.py3-none-any.whl size=6578 sha256=cbaaa3449914a9af614c073950b768ab6f19d8b954c8f919233790c0eea13403\n",
            "  Stored in directory: /tmp/pip-ephem-wheel-cache-3pumw2gq/wheels/35/56/cf/ac7e9d2250b53dec727905714a99f4d5c7b2f613139324aa42\n",
            "Successfully built etherscan-py\n",
            "Installing collected packages: etherscan-py\n",
            "  Found existing installation: etherscan-py 0.2.4\n",
            "    Uninstalling etherscan-py-0.2.4:\n",
            "      Successfully uninstalled etherscan-py-0.2.4\n",
            "Successfully installed etherscan-py-0.2.4\n"
          ],
          "name": "stdout"
        },
        {
          "output_type": "display_data",
          "data": {
            "application/vnd.colab-display-data+json": {
              "pip_warning": {
                "packages": [
                  "etherscan_py"
                ]
              }
            }
          },
          "metadata": {
            "tags": []
          }
        },
        {
          "output_type": "stream",
          "text": [
            "Requirement already satisfied: neo4j in /usr/local/lib/python3.7/dist-packages (4.2.1)\n",
            "Requirement already satisfied: pytz in /usr/local/lib/python3.7/dist-packages (from neo4j) (2018.9)\n"
          ],
          "name": "stdout"
        }
      ]
    },
    {
      "cell_type": "code",
      "metadata": {
        "id": "8A2dcIWMDXAH"
      },
      "source": [
        "from neo4j import GraphDatabase\n",
        "# change these to your credentials and url\n",
        "BOLT_URL = \"bolt://3.237.87.62:7687\"\n",
        "USER = \"neo4j\"\n",
        "PWD = \"sir-lengths-hotel\"\n",
        "\n",
        "class Neo4jConnection:\n",
        "    \n",
        "    def __init__(self, uri, user, pwd):\n",
        "        self.__uri = uri\n",
        "        self.__user = user\n",
        "        self.__pwd = pwd\n",
        "        self.__driver = None\n",
        "        try:\n",
        "            self.__driver = GraphDatabase.driver(self.__uri, auth=(self.__user, self.__pwd))\n",
        "        except Exception as e:\n",
        "            print(\"Failed to create the driver:\", e)\n",
        "        \n",
        "    def close(self):\n",
        "        if self.__driver is not None:\n",
        "            self.__driver.close()\n",
        "        \n",
        "    def query(self, query, parameters=None, db=None):\n",
        "        assert self.__driver is not None, \"Driver not initialized!\"\n",
        "        session = None\n",
        "        response = None\n",
        "        try: \n",
        "            session = self.__driver.session(database=db) if db is not None else self.__driver.session() \n",
        "            response = list(session.run(query, parameters))\n",
        "        except Exception as e:\n",
        "            print(\"Query failed:\", e)\n",
        "        finally: \n",
        "            if session is not None:\n",
        "                session.close()\n",
        "        return response\n",
        "\n",
        "\n",
        "conn = Neo4jConnection(uri=BOLT_URL, user=USER, pwd=PWD)"
      ],
      "execution_count": null,
      "outputs": []
    },
    {
      "cell_type": "code",
      "metadata": {
        "id": "SxP45a2_Di5B",
        "colab": {
          "base_uri": "https://localhost:8080/"
        },
        "outputId": "b5628378-0e2d-4f5c-c983-70ca8160604f"
      },
      "source": [
        "conn.query('CREATE CONSTRAINT transactions IF NOT EXISTS ON (t:Transaction) ASSERT t.hash IS UNIQUE')\n",
        "conn.query('CREATE CONSTRAINT addresses IF NOT EXISTS ON (a:Address) ASSERT a.public_key IS UNIQUE')"
      ],
      "execution_count": null,
      "outputs": [
        {
          "output_type": "execute_result",
          "data": {
            "text/plain": [
              "[]"
            ]
          },
          "metadata": {
            "tags": []
          },
          "execution_count": 56
        }
      ]
    },
    {
      "cell_type": "code",
      "metadata": {
        "id": "lwUND2iVDuwF"
      },
      "source": [
        "def insert_data(query, rows, batch_size = 10000):\n",
        "    # Function to handle the updating the Neo4j database in batch mode.\n",
        "    \n",
        "    total = 0\n",
        "    batch = 0\n",
        "    start = time.time()\n",
        "    result = None\n",
        "    \n",
        "    while batch * batch_size < len(rows):\n",
        "\n",
        "        res = conn.query(query, \n",
        "                         parameters= {\n",
        "                         'rows': rows[batch*batch_size:(batch+1)*batch_size].to_dict('records')})\n",
        "        total += res[0]['total']\n",
        "        batch += 1\n",
        "        result = {\"total\":total, \n",
        "                  \"batches\":batch, \n",
        "                  \"time\":time.time()-start}\n",
        "        print(result)\n",
        "\n",
        "        return result"
      ],
      "execution_count": null,
      "outputs": []
    },
    {
      "cell_type": "code",
      "metadata": {
        "id": "ru7XaFqCD2vU"
      },
      "source": [
        "def add_transactions(address, transactions, direction=\"forward\"):\n",
        "    # Adds transactions nodes to the Neo4j graph.\n",
        "    query = '''\n",
        "      UNWIND $rows AS row\n",
        "      MERGE (t:Transaction {txhash: row.txhash})\n",
        "      ON CREATE SET\n",
        "        t.gas_used = row.gas_used,\n",
        "        t.value = row.value\n",
        "      RETURN count(*) as total\n",
        "    '''\n",
        "\n",
        "    if direction == \"forward\":\n",
        "      rel_query = \"\"\"\n",
        "        UNWIND $rows AS row\n",
        "        MATCH\n",
        "          (t:Transaction),\n",
        "          (from_a:Address),\n",
        "          (to_a:Address)\n",
        "        WHERE t.txhash = row.txhash AND from_a.public_key = $address AND to_a.public_key = row.to_address\n",
        "        CREATE (from_a)-[r_created:CREATED]->(t)\n",
        "        CREATE (t)-[r_to:TO]->(to_a)\n",
        "        RETURN  count(*) as total\n",
        "      \"\"\"\n",
        "    elif direction == \"backward\":\n",
        "      rel_query = \"\"\"\n",
        "        UNWIND $rows AS row\n",
        "        MATCH\n",
        "          (t:Transaction),\n",
        "          (from_a:Address),\n",
        "          (to_a:Address)\n",
        "        WHERE t.txhash = row.txhash AND from_a.public_key = row.from_address AND to_a.public_key = $address\n",
        "        CREATE (from_a)-[r_created:CREATED]->(t)\n",
        "        CREATE (t)-[r_to:TO]->(to_a)\n",
        "        RETURN  count(*) as total\n",
        "      \"\"\"\n",
        "\n",
        "    transactions_added =  conn.query(query, parameters = {'rows':transactions})\n",
        "    address_added =  conn.query(rel_query, parameters = {'rows':transactions, \"address\": address})\n",
        "\n",
        "    return transactions_added\n",
        "\n",
        "def add_addresses(addresses):\n",
        "    # Adds transactions nodes to the Neo4j graph.\n",
        "    query = '''\n",
        "        UNWIND $rows AS row\n",
        "        MERGE (a:Address {public_key: row})\n",
        "        RETURN count(*) as total\n",
        "    '''\n",
        "    return conn.query(query, parameters = {'rows':addresses})\n",
        "\n",
        "def save_to_neo4j(data, direction=\"forward\"):\n",
        "  # Create addresses\n",
        "  add_addresses(list(data.keys()))\n",
        "\n",
        "  # Create transactions\n",
        "  for addr, transactions in data.items():\n",
        "    add_transactions(addr, transactions, direction=direction)"
      ],
      "execution_count": null,
      "outputs": []
    },
    {
      "cell_type": "code",
      "metadata": {
        "id": "Wj53pxLJEB_3"
      },
      "source": [
        "from etherscan_py import etherscan_py\n",
        "\n",
        "# Change this with your API key\n",
        "ETHERSCAN_API_KEY=\"TY5KMKGUBKWVGRCKBNQJPHTEPXHDKSHDB2\"\n",
        "\n",
        "goerli_client = etherscan_py.Client(ETHERSCAN_API_KEY,network=\"goerli\")\n",
        "mainnet_client = etherscan_py.Client(ETHERSCAN_API_KEY)"
      ],
      "execution_count": null,
      "outputs": []
    },
    {
      "cell_type": "code",
      "metadata": {
        "id": "s4yj3RZSENL7"
      },
      "source": [
        "import time\n",
        "\n",
        "addresses = {}\n",
        "\n",
        "def forward_address_intel(client, address, depth=1, checked_addresses=set()):\n",
        "  if depth == 0: return\n",
        "\n",
        "  # Avoid rate limitting\n",
        "  time.sleep(1.5)\n",
        "\n",
        "  address = address.lower()\n",
        "  print(\"Forward tracking from: \", address)\n",
        "\n",
        "  # Get all transactions sent by that address\n",
        "  transactions = client.get_all_transactions(from_address=address, status=2)\n",
        "\n",
        "  outgoing_transactions = [t for t in transactions if t.from_address == address]\n",
        "\n",
        "  addresses[address] = addresses.get(address, set())\n",
        "  addresses[address] |= set(outgoing_transactions)\n",
        "  checked_addresses.add(address)\n",
        "  \n",
        "  unchecked_addresses = set([t.to_address for t in outgoing_transactions]) - checked_addresses\n",
        "    \n",
        "  # Do the same thing on each distinct recipient address of the transactions\n",
        "  for addr in unchecked_addresses:\n",
        "    forward_address_intel(client=client, address=addr, depth=depth-1, checked_addresses=checked_addresses)\n",
        "\n",
        "def backtrack_address_intel(client, address, depth=1, checked_addresses=set()):\n",
        "  if depth == 0: return\n",
        "\n",
        "  # Avoid rate limitting\n",
        "  time.sleep(1.5)\n",
        "\n",
        "  address = address.lower()\n",
        "  print(\"Backtracking from: \", address)\n",
        "\n",
        "  # Get all transactions sent by that address\n",
        "  transactions = client.get_all_transactions(from_address=address, status=2)\n",
        "\n",
        "  incoming_transactions = [t for t in transactions if t.to_address == address]\n",
        "  # print(incoming_transactions)\n",
        "  addresses[address] = addresses.get(address, set())\n",
        "  addresses[address] |= set(incoming_transactions)\n",
        "  checked_addresses.add(address)\n",
        "  \n",
        "  unchecked_addresses = set([t.from_address for t in incoming_transactions]) - checked_addresses\n",
        "    \n",
        "  # # Do the same thing on each distinct recipient address of the transactions\n",
        "  for addr in unchecked_addresses:\n",
        "    backtrack_address_intel(client=client, address=addr, depth=depth-1, checked_addresses=checked_addresses)"
      ],
      "execution_count": null,
      "outputs": []
    },
    {
      "cell_type": "code",
      "metadata": {
        "id": "0LRvUHeRE0Bc",
        "colab": {
          "base_uri": "https://localhost:8080/"
        },
        "outputId": "366d78a4-9b63-44cd-9914-2143f4af683b"
      },
      "source": [
        "addresses = {}\n",
        "backtrack_address_intel(client=goerli_client, address=\"0x5d0ca2Bb3c0ba222128a21b7e66bC5ffF1D22d0A\", depth=10, checked_addresses=set())"
      ],
      "execution_count": null,
      "outputs": [
        {
          "output_type": "stream",
          "text": [
            "Backtracking from:  0x5d0ca2bb3c0ba222128a21b7e66bc5fff1d22d0a\n",
            "Backtracking from:  0xa043e374b55ce45e8ded83aa89b1790754ff5a4c\n",
            "Backtracking from:  0x8ced5ad0d8da4ec211c17355ed3dbfec4cf0e5b9\n",
            "Backtracking from:  0x9d525e28fe5830ee92d7aa799c4d21590567b595\n",
            "Backtracking from:  0x4c2ae482593505f0163cdefc073e81c63cda4107\n",
            "Backtracking from:  0x36f4bfc9f49dc5d4b2d10c4a48a6b30128bd79bc\n",
            "Backtracking from:  0x77109d07741d353fe4914fcb7eb8586e1567696c\n",
            "Backtracking from:  0x708ddb973e78fe1fbcdf4adb02b145f70598e428\n",
            "Backtracking from:  0xd77e2c03d27781804a10dbc92eff2b41b86041bd\n",
            "Backtracking from:  0xebff84959258419111e06bc1179ce3fcb9e6d9be\n",
            "Backtracking from:  0x1efe4e81daaabfa98dc0c8126e600bd99d6716ac\n",
            "Backtracking from:  0x1ecb66ccd8954a922611b963bffe80fae64d7f23\n",
            "Backtracking from:  0xd6d40829e8f06301261cda7bb14a000bc9be0886\n",
            "Backtracking from:  0x1283064bbff3868de999d21610005e98a273aadc\n",
            "Backtracking from:  0x2af2438fc3da208a196528d5b8d66e178d94a31f\n",
            "Backtracking from:  0xa45641fb6dc462c8c51f0e12d4a88cfb79805a01\n",
            "Backtracking from:  0xcb71f74ab3d99cbfb2c6aecbf508f386b1023036\n",
            "Backtracking from:  0x260302c5208622669ca0b0b7e93b11324c19e540\n",
            "Backtracking from:  0x1c50819ffd4db654eac90d94aa34d474eeca1f76\n",
            "Backtracking from:  0x35c1e0448ddf1bcaf585b23bb86918689444d0fa\n",
            "Backtracking from:  0x780404199843a8d5b15fc974f87c555b206c0adb\n",
            "Backtracking from:  0x71de62c8a571fb284619a699876bd131fc3b743d\n",
            "Backtracking from:  0x58937a30c3acd12351b0efa1244b1cce39350d68\n",
            "Backtracking from:  0xbbc43c78097af35335680ff7ae9765649cf2b6be\n",
            "Backtracking from:  0x08e1ade841685067d768e1b69cbafec9f445713d\n",
            "Backtracking from:  0x91cd4db4f6b0b8a4d3c076364380ea7b2e0150fc\n",
            "Backtracking from:  0xbd8a5df76ec6c18784b7733ef988a7702f466dc3\n",
            "Backtracking from:  0xc0b3aaae3c32e027498bb286ab30ae3d2768d95d\n",
            "Backtracking from:  0x497afb00d00c648f565696e8ebe526cb5a70d50a\n",
            "Backtracking from:  0x528ba936eaaec40bcf000312de2cd4578cc5ed20\n",
            "Backtracking from:  0x8441e6ae36aa8fdc9cefd61ff3ac51d86e408885\n",
            "Backtracking from:  0xf2b7d5c1c30958bb5af11c1479b55b999d91eed4\n",
            "Backtracking from:  0x9f59749a371b65831845c665b7cbbcef2495075b\n",
            "Backtracking from:  0xff6d102f7a5b52b6a2b654a048b0ba650be90c59\n",
            "Backtracking from:  0x7991a3914e1278f03da331962b84b7bb15c1e794\n",
            "Backtracking from:  0x8c1e1e5b47980d214965f3bd8ea34c413e120ae4\n",
            "Backtracking from:  0x507f95cc3bfa17ad99f44f36eb430ce0dca39a1c\n",
            "Backtracking from:  0x1c277bd41a276f87d3e92bccd50c7364aa2ffc69\n",
            "Backtracking from:  0x2b4eff698d8ba4fe6e86ef4240039db9688b890f\n",
            "Backtracking from:  0x8b24eb4e6aae906058242d83e51fb077370c4720\n",
            "Backtracking from:  0x170107c3e51cf14f3b266bc3a2c65c0417fb11ef\n",
            "Backtracking from:  0x41ae3679089e52ddcd369040b9fe4a3753202e18\n",
            "Backtracking from:  0x75efb71932c2ff5226baf1771dadd99abe13f389\n",
            "Backtracking from:  0xde559380abbae4f0e055bbb165e43a0711690093\n",
            "Backtracking from:  0x1464d4e3c815de3028572b850c6c34dfc57e9320\n",
            "Backtracking from:  0xfcc77c127912241c8b62955e4e1369b20d08b888\n",
            "Backtracking from:  0xe0a2bd4258d2768837baa26a28fe71dc079f84c7\n",
            "Backtracking from:  0x7608d46255c76163ce6dd78dec00d9e5cb9aa734\n",
            "Backtracking from:  0xbf49e0acd6487452a085e8906bdf0c7d17afca9c\n",
            "Backtracking from:  0xfcf7a2794d066110162addce3085dfd6221d4ddd\n",
            "Backtracking from:  0x3bce4a6ec1988532885035a5c5850da2823f0267\n",
            "Backtracking from:  0x5b845cc27616a10b30ed41e7bb4b87c2eaad3f0c\n",
            "Backtracking from:  0x1cfd89b8f720f93f0e52354ec214682beeedab6a\n",
            "Backtracking from:  0xcc153b75e89cbf7ced686cab061888d2e9b2f250\n",
            "Backtracking from:  0x8fc2acd0187f062560bf218d11db39dd7667b9dd\n",
            "Backtracking from:  0xd30e3bd1586ec5f3b3fc6dc2b39591a2ef0767bc\n",
            "Backtracking from:  0xc0b3aaae3c32e027498bb286ab30ae3d2768d95d\n",
            "Backtracking from:  0x8c1e1e5b47980d214965f3bd8ea34c413e120ae4\n",
            "Backtracking from:  0xa1569864fe6ec0323083ea8fbd9ba1be42053f02\n",
            "Backtracking from:  0x7d0047c437f03a8a799bed15d3129eb9a907d011\n",
            "Backtracking from:  0x2a424eeb002fdfcac348da14f01ffc8515606f91\n",
            "Backtracking from:  0xc5499f40e2a4249445293a1a824bbd7bbdd1af40\n",
            "Backtracking from:  0x4cfd9045824bedf3c6309808673d135a976f8367\n",
            "Backtracking from:  0xdab1109e1b1a3ec348e6a247002cd8431721a4a2\n",
            "Backtracking from:  0x29c5d97b852b4900104546522fe8930d70bf1e96\n",
            "Backtracking from:  0x3be4bed492d8e5d1cdc1d4cbd2b1daaa16be1b81\n",
            "Backtracking from:  0xb58cc42a6c35025b96b4b27616d5c3d0520e6600\n",
            "Backtracking from:  0x948282e9eba2cf5dffc815490a6dd9f7067a1aee\n",
            "Backtracking from:  0x05536ede0bc3598c214889289a786419b3c03d8e\n",
            "Backtracking from:  0x3a36bbbcc8746ba5e74fe405ae7e0a865b4547f0\n",
            "Backtracking from:  0x5e0d664100675e9de72269cdacef324bd675061d\n",
            "Backtracking from:  0xdab1109e1b1a3ec348e6a247002cd8431721a4a2\n",
            "Backtracking from:  0xa4969e8963d7448862b459795210d8d6720d7931\n",
            "Backtracking from:  0xa5a1de6bf1a1e06475067edb30e33f79dbefd407\n",
            "Backtracking from:  0x63a664d1987e60509fb42f9d20021ee95e29ae7a\n",
            "Backtracking from:  0xbc133c2581258bad02432ac9197ec426f8a64b4a\n",
            "Backtracking from:  0xc9a421b84d6e9dc632e131f388719e3df8f040d6\n",
            "Backtracking from:  0x92fd861aec1b5a2c30087bb2bb3051092e3f57e5\n",
            "Backtracking from:  0xea18ff241f94371a7392b1b4b900a2dd64b5066c\n",
            "Backtracking from:  0x42619d2fb32733fde802a286abea21d18f3b67c4\n",
            "Backtracking from:  0x46fbd043ab3c58046f8220019cbc22c7c409f723\n",
            "Backtracking from:  0x3f9949b43a3ee18c58df65b514d3473fa6fc0896\n",
            "Backtracking from:  0x34bbde0848f6581bd437fa35becdd7da2d694339\n",
            "Backtracking from:  0xb3f85b59f538fec881b80c04fac192abc0bca72a\n",
            "Backtracking from:  0x372ea9ad4a7961007151d64d1f153dd16f14e372\n",
            "Backtracking from:  0x572a37a34b0431a2c5ec0ed6db3469e4d65dbd46\n",
            "Backtracking from:  0x4c8cfceb23a1862796cd0405e1b512e25a3e573b\n",
            "Backtracking from:  0x600b196dccd588d6a0e76b9e3fa75cc9ca7f8868\n",
            "Backtracking from:  0x74eba53e3324d744296ccfce999e295f4e6ffdf7\n",
            "Backtracking from:  0x2560b9749dbee72d4689865d94f5e3dc34096767\n",
            "Backtracking from:  0x73113e4ef2955060a15680c64b68d33d5cafbd92\n",
            "Backtracking from:  0x589addceb3097fb486632cd229fceb4c1c35b3d7\n",
            "Backtracking from:  0x763f0d32ba34ff6baa4a08bdae612e3597da2647\n",
            "Backtracking from:  0x7913c227b3219c4eb081e5e570dfb57700db3645\n",
            "Backtracking from:  0x08e1ade841685067d768e1b69cbafec9f445713d\n",
            "Backtracking from:  0x6b817eed771c6538099481ad9dfae28a22273455\n",
            "Backtracking from:  0xc4d4b69824c927f46c6b734eef6c0945b95994ab\n",
            "Backtracking from:  0x164a3b628cbbea25f8476d1d3c2eb12b79995210\n",
            "Backtracking from:  0xd64c4357e92bcbbcc5ce8c18f3707bd0379c5159\n",
            "Backtracking from:  0x2a424eeb002fdfcac348da14f01ffc8515606f91\n",
            "Backtracking from:  0xfcb07b9ff29b2e0bb2f1806cd0aa480c4a0a2dcf\n",
            "Backtracking from:  0x9ffd74effed01089a83f02db71b128ebb50ae50c\n",
            "Backtracking from:  0x49952c7a4ef4a179b5901bdaa1cce7832fd96df3\n",
            "Backtracking from:  0x00f6957140c8d78e584938c432d91548d58c418d\n",
            "Backtracking from:  0x9735403fc5365c42afd0ad9c6d3966eccc44ff35\n",
            "Backtracking from:  0xc57c9d94b5c50f69d91faf81ed2ab400262c45ac\n",
            "Backtracking from:  0xfd1f49d643fa28ac5a4c20751ca017e6ebb72917\n",
            "Backtracking from:  0x587ad07b32ac95599a6a4b4a9dd1af62569cf867\n",
            "Backtracking from:  0xd77e2c03d27781804a10dbc92eff2b41b86041bd\n",
            "Backtracking from:  0x1c50819ffd4db654eac90d94aa34d474eeca1f76\n",
            "Backtracking from:  0x780404199843a8d5b15fc974f87c555b206c0adb\n",
            "Backtracking from:  0xb9dce4552f39901c2ef5957726ac541699d7764d\n",
            "Backtracking from:  0x3c39ed8fe7a8be7dcf7cc452c0186e74d7eb9772\n",
            "Backtracking from:  0x040923c64d5cb1d0efad9ec9d3f8a14cacacc9e3\n",
            "Backtracking from:  0x7c9fa2236246b8da7fb4c21727c309dfd9a43fb5\n",
            "Backtracking from:  0x90aeb17bb31595f34e59212ca374f0a1e4bc968d\n",
            "Backtracking from:  0x0474ed174f461f269c39b7a1f20048c94b36438f\n",
            "Backtracking from:  0x6119c8210c04d80a8e86834c467cab684203f538\n",
            "Backtracking from:  0xba4adb50041718eee55becdef43d3a2de59ba73a\n",
            "Backtracking from:  0x3a18468faf752c281c911977211029713713f911\n",
            "Backtracking from:  0x34c2a6842ead01ec21e9a14c0b665d78e7b06bdc\n",
            "Backtracking from:  0x02b3a1b85df55845f5bc6e5509fa15c6e023723a\n",
            "Backtracking from:  0x02b10a64b6b5744c2ba29a03afcaf1a496ce3b35\n",
            "Backtracking from:  0x9722927c368f2b8617f54af7b6f46bb723f00b1e\n",
            "Backtracking from:  0x8ddc9f9472b99e45dca30e7a299ed36d030c0102\n",
            "Backtracking from:  0xaf9cb4a50d8d7d989a958e8f15a0a3708e719bcb\n",
            "Backtracking from:  0x5c7c88e07e3899fff3cc0effe23494591dfe87b6\n",
            "Backtracking from:  0x19fc2ed6364a0a28f4fc912971234f09083e5da1\n",
            "Backtracking from:  0x7f441b365d1537f09a023452c7a8bdc60257023d\n",
            "Backtracking from:  0xd854164dcc064ae13c076853fdfc6c331664a7d7\n",
            "Backtracking from:  0x528e19cbc3aeafaa7970a3c3cb08ae3f9dd43078\n",
            "Backtracking from:  0x480035a5460cd0ebd2b9f5617d78801b80256d99\n",
            "Backtracking from:  0x1d8256b22c7e92b9265879dd7a5df302cf162eff\n",
            "Backtracking from:  0xa4fc3ec03cf08181f7cbea4a01d0ba44755815f0\n",
            "Backtracking from:  0xa86c436fd5178ca47a1f72d2424949d4e38ed7e9\n",
            "Backtracking from:  0x17a8b728afdfdf48a6ce9d139ad71f8e378fd913\n",
            "Backtracking from:  0xda58ae65cb63ab2bf899c2dea51f50d6ee36807a\n",
            "Backtracking from:  0xd76b90fde795696678f13d52a7f891b846715aab\n",
            "Backtracking from:  0x9510dda2f9729a131747cacb2c3db1fd2a29dc2c\n",
            "Backtracking from:  0x600b196dccd588d6a0e76b9e3fa75cc9ca7f8868\n",
            "Backtracking from:  0x53abf0331792e94a0b50bfd880a46f1e6bcfbc46\n",
            "Backtracking from:  0x5e0d664100675e9de72269cdacef324bd675061d\n",
            "Backtracking from:  0x449fcc91d3635e780662f20e05f165d73d4c38d4\n",
            "Backtracking from:  0xded57a309f5f18e4c06dde0ec634bd14e435d253\n",
            "Backtracking from:  0x8e11372117f3c156f3b925119f648259944a6fff\n",
            "Backtracking from:  0x38adde6da8809783e6ed17c1a78b5fb6268bee72\n",
            "Backtracking from:  0x4b94cb92494e2dbde7db5112651766ec83278e9a\n",
            "Backtracking from:  0xaac1423a004d5fae379c4b5c06f68950ae4965ba\n",
            "Backtracking from:  0x03fb50149f5a25ac51bece5f4737262beb31c13e\n",
            "Backtracking from:  0x476be119e77de6321a7f4744e935279d65547640\n",
            "Backtracking from:  0x48c5b5a23dc086f86d1816d8c033bdd5a63f6b64\n",
            "Backtracking from:  0x6119c8210c04d80a8e86834c467cab684203f538\n",
            "Backtracking from:  0x03cce40fae2ac330b508ce46819f791f4ba43386\n",
            "Backtracking from:  0x9f80d2a6ad809f3749ecd3346be90021d1a28acd\n",
            "Backtracking from:  0xe7deff7153b49118c5236ccfbcf896ea52e030ba\n",
            "Backtracking from:  0x2cfaad807c48e93417889edf4273d0657be61a01\n",
            "Backtracking from:  0xa4969e8963d7448862b459795210d8d6720d7931\n",
            "Backtracking from:  0x497afb00d00c648f565696e8ebe526cb5a70d50a\n",
            "Backtracking from:  0x7fbef695e7a1e10f2d06f40c6dee53059701cd15\n",
            "Backtracking from:  0x0f311fee8803e0bdad7570aa1a7e888fc808dbca\n",
            "Backtracking from:  0x6233556df775cf3693d4e354a1358eed89dbd64c\n",
            "Backtracking from:  0xcdc2b2accffe639c96c2f99f015fff3f71eb91a6\n",
            "Backtracking from:  0x9f4a68e1379fca6e54822fa27daab2bad91c2924\n",
            "Backtracking from:  0x5fa68f5ac506045f54d82478cf79253c17e247f5\n",
            "Backtracking from:  0x63db228a0306f306532f727056a64b4fafda659b\n",
            "Backtracking from:  0xad1e6eefe2edce2b84994cd8f7242582edc746fc\n",
            "Backtracking from:  0x51da44a79d05a2c99c5aea2fdb57dd8b78b320e1\n",
            "Backtracking from:  0x7e3d830df087bf7d5cdd39e2aa9fda05990255f9\n",
            "Backtracking from:  0x6aacf2a95deac421053c6316bffb9a8cc2514151\n",
            "Backtracking from:  0x6793e98b332bf8a3ea3c818ce949b55735378aea\n",
            "Backtracking from:  0x57d261a378cdc25fa467edb54f92f1a376e3b0da\n",
            "Backtracking from:  0x1aeae2817e002937a44dd7e352c505010930e5f1\n",
            "Backtracking from:  0x1aeae2817e002937a44dd7e352c505010930e5f1\n",
            "Backtracking from:  0x1efe4e81daaabfa98dc0c8126e600bd99d6716ac\n",
            "Backtracking from:  0x3f6b4129ce39a34a1244ca78112c5b4fc8351264\n",
            "Backtracking from:  0x21fd5ebfca335bb6f099a6c64889188072e1f073\n",
            "Backtracking from:  0x91f7ca21a3cbede92392d9742aa45d0f825b0fab\n",
            "Backtracking from:  0x87f2b9310d9538061efae4b080652bc76f719f8c\n",
            "Backtracking from:  0xc4d4b69824c927f46c6b734eef6c0945b95994ab\n",
            "Backtracking from:  0x06f8741e3847b6a3e1c4e2ff96635d21bd8aa72a\n",
            "Backtracking from:  0x06e1580b4461284aaa7f32cf6f6ab3b1a516e755\n",
            "Backtracking from:  0x06df7d8622a3bf8c4218c7b5ab643b1c39358a56\n",
            "Backtracking from:  0x06927f5384f8feda07baf30410e6fa4cc67d2b28\n",
            "Backtracking from:  0xf777605b247acd99025e7979bf39269834b02c36\n",
            "Backtracking from:  0x49952c7a4ef4a179b5901bdaa1cce7832fd96df3\n",
            "Backtracking from:  0xe046056b541a82c97b8ac9f8b6a53257328067a5\n",
            "Backtracking from:  0xe92c6e5d54017482e0107c8e20d55049e0219849\n",
            "Backtracking from:  0xf2b7d5c1c30958bb5af11c1479b55b999d91eed4\n",
            "Backtracking from:  0xa0facdf7fe2571395b6eff1ae87561bac64d9b04\n",
            "Backtracking from:  0xb0a2735779d2324dfece27114cdef89aaa0fc7fd\n",
            "Backtracking from:  0x03099ff0d0783f38ae9945dcb9613ac88018b51b\n",
            "Backtracking from:  0x02f7062f865b4140badc8183dee9b2342e5cd0ff\n",
            "Backtracking from:  0x02ee56836f117c4401a872ff40f426522137d54b\n",
            "Backtracking from:  0xce3517fdd3768d328d60bb9148654356aa03c56a\n",
            "Backtracking from:  0x7314bca0095652e632d2d0dc033505e8e8bc30c9\n",
            "Backtracking from:  0x11f21454aa1c31ddf3142a8da9870949a421bcbc\n",
            "Backtracking from:  0x7d0047c437f03a8a799bed15d3129eb9a907d011\n",
            "Backtracking from:  0x3a36bbbcc8746ba5e74fe405ae7e0a865b4547f0\n",
            "Backtracking from:  0xfbcf49e28a6061357d54927ab8c1b0a059df5b22\n",
            "Backtracking from:  0x9ca05b4fb2afe87409677e865a30af57bff19119\n",
            "Backtracking from:  0x1b9ea7d02a0dc501745cf4c6c462c63bd29ccc7c\n",
            "Backtracking from:  0x027b18b06881da580e6f450237ef07a2df241bc9\n",
            "Backtracking from:  0x9551d4ea20132843b15e2fab56eef7bb0f963a58\n",
            "Backtracking from:  0x1340c1ce9ee428bd0b1a69f244f0fbe7ebaec49c\n",
            "Backtracking from:  0xded57a309f5f18e4c06dde0ec634bd14e435d253\n",
            "Backtracking from:  0xff760d0a89166421044f346b5e25028ceec18bb8\n",
            "Backtracking from:  0xffa4a35e2199959a365158dcb994165604dc78e6\n",
            "Backtracking from:  0xffcf6695e2af89901a4d5b090460e64493f883d2\n",
            "Backtracking from:  0xffd4b6cb3cc34484edd80af40e497562913fae58\n",
            "Backtracking from:  0xb58cc42a6c35025b96b4b27616d5c3d0520e6600\n",
            "Backtracking from:  0xff6d102f7a5b52b6a2b654a048b0ba650be90c59\n",
            "Backtracking from:  0x93135a54b16073400f4d1d25bcba2a18ebe1b267\n",
            "Backtracking from:  0xd656b360504493e22e0039ae8d3aef17b49e81cc\n",
            "Backtracking from:  0x7866b072657d4cc5a936c84c5ff3348082615898\n",
            "Backtracking from:  0x038652fc06fcf04827d2b7a72d48205dd841dd82\n",
            "Backtracking from:  0x92fd861aec1b5a2c30087bb2bb3051092e3f57e5\n",
            "Backtracking from:  0x23565f4f4cb3154fdc0b59a7382b7fee09ec9493\n",
            "Backtracking from:  0x419e66cc89605523e20294b1ae2eb426d1de6b9d\n",
            "Backtracking from:  0xb093ac05af5070e4c14df9be0ad51113177d0fe8\n",
            "Backtracking from:  0x2b2ad0f250a29a02fad5b6bea74e5f495fe5ce82\n",
            "Backtracking from:  0xaa3802438a2546cee38207a14e6afc789a9102d4\n",
            "Backtracking from:  0x179e449d910de99d9b57575562d63dd04e2d4541\n",
            "Backtracking from:  0x8425e967e884c92f035dc890e97769f2f35a475e\n",
            "Backtracking from:  0x5c39e7db2dbc0da17b7661addd2a653420b71667\n",
            "Backtracking from:  0xf88fc8e98e719055f397f4b2fbf38a17d6231061\n",
            "Backtracking from:  0x083b29c172d4ed89b5c8dc82113ff7171f8d77a2\n",
            "Backtracking from:  0xb02dc25475988ca3f89f3b62cb1ff6b3031417df\n",
            "Backtracking from:  0x22475cfb5eac6d396d679b7f7fa2ccd3fbf88d45\n",
            "Backtracking from:  0xfa64d0fea6d8b109df0291c78e5c8039550cc874\n",
            "Backtracking from:  0xb96f88f23d2be3d9f7ab20f15264d6bca9cfd8bc\n",
            "Backtracking from:  0x460acd191ccf1de714100d8338ed3da7e9920c35\n",
            "Backtracking from:  0x0077474d764b18693d416345da785b32bfe4aa24\n",
            "Backtracking from:  0xa304ecfcf369847e7988a34bb21859832cab26df\n",
            "Backtracking from:  0x3e2400d2664de98f7f67c2c571feb6aed81ca311\n",
            "Backtracking from:  0x28edc62a3f1ad05e236c718dc8b726b7486b4d6e\n",
            "Backtracking from:  0x2b2ad0f250a29a02fad5b6bea74e5f495fe5ce82\n",
            "Backtracking from:  0x385d8831b64327745e577825526d4caca9e313dd\n",
            "Backtracking from:  0xa304ecfcf369847e7988a34bb21859832cab26df\n",
            "Backtracking from:  0x89ff80068d6aef54a9f615427472286c98e461e4\n",
            "Backtracking from:  0x10839ab28ff1310006cb4aaad5a53247eade2273\n",
            "Backtracking from:  0x72fb15f502af58765015972a85f2c58551ef3fa1\n",
            "Backtracking from:  0xc975a99e90979fae9dc9a27f3a7463a267c99515\n",
            "Backtracking from:  0x083b29c172d4ed89b5c8dc82113ff7171f8d77a2\n",
            "Backtracking from:  0x0922b8f14c69bf3e4dbc4d3e3c506674c38e9dc1\n",
            "Backtracking from:  0x75cbeaef96279e0d332866d63d7ef45b6cd5734e\n",
            "Backtracking from:  0x039d39d6293d4bc6f28d3856d59fda1812d1f3f7\n",
            "Backtracking from:  0x4555d2c72823da9569271d8eec821b13e265b61d\n",
            "Backtracking from:  0x12cb148dd39c5ab44cdd9abe4db3d9c91a8aca68\n",
            "Backtracking from:  0x22475cfb5eac6d396d679b7f7fa2ccd3fbf88d45\n",
            "Backtracking from:  0xc13244e4958e96cf4f41a6c97b6dac202ebed308\n",
            "Backtracking from:  0x51fa4d69a9cb26385d449837dcd3cd35a09c7527\n",
            "Backtracking from:  0x2991bd53194b1d67dbf7d82651f2cb267b7a97ef\n",
            "Backtracking from:  0xd9a5179f091d85051d3c982785efd1455cec8699\n",
            "Backtracking from:  0x357af6d83b99781c9e9c4c103f16a1b6d729865d\n",
            "Backtracking from:  0xf60fec30511f94aa0ded99bdeca858db8feeff2e\n",
            "Backtracking from:  0xfe7e5c99f27cbf2e456c7dd7b19f16e966347481\n",
            "Backtracking from:  0xf36f155486299ecaff2d4f5160ed5114c1f66000\n",
            "Backtracking from:  0x99e060e20eca95fed24ecfb291161cb8069bfe85\n",
            "Backtracking from:  0x13f527cca1f23e682eb86b0e869fb5e90110173d\n",
            "Backtracking from:  0xb980a0b74dfae67d4779be6f9f0b742faeea255b\n",
            "Backtracking from:  0xe4800b3c94fefd49f8de1794516598c17f20ba77\n",
            "Backtracking from:  0xfe73ed50390b3fff604a1eab84b85ca7685b1759\n",
            "Backtracking from:  0x772bd1786c427c8e08d5cf3d2cdbcc9b408255bc\n",
            "Backtracking from:  0x0feb95c4c5d199daa3dc9dd6d6e38280104d7d52\n",
            "Backtracking from:  0x123b35778969159f933bf9091e640f972aedd648\n",
            "Backtracking from:  0x8882042b8e93c85312f623f058ef252c8025a7ae\n",
            "Backtracking from:  0x12632ffee21b80c4bf8a2dd24747bd7be02c01e0\n",
            "Backtracking from:  0x4cc54cb2e27d74967831f7af748ea793aba5989c\n",
            "Backtracking from:  0x3452ece3aadd9e071695f1f70e9c5702ecbd1d45\n",
            "Backtracking from:  0x8f795016607fb813d4bd535a0d12a76f50089503\n",
            "Backtracking from:  0xb2cc61c28424df7f1aa4606a5d3c3fb003af6a33\n",
            "Backtracking from:  0x63c6c732d603338ab1aeba137aa79cda6effb350\n",
            "Backtracking from:  0xdd8c81b982e3ac663b2d46a47fdfd5c9c66514a5\n",
            "Backtracking from:  0x4cc54cb2e27d74967831f7af748ea793aba5989c\n",
            "Backtracking from:  0x4069091de0fdb7d43e480f4f43b29f4046e6aab8\n",
            "Backtracking from:  0xcfaf04a029d580864a8ff57c0d0a72a95f197205\n",
            "Backtracking from:  0xd70656b99b860ad03aedef63f21275a1e3bf32e7\n",
            "Backtracking from:  0x4da58ae16e8be6944b2dabcae403ad3c0653713f\n",
            "Backtracking from:  0x19f4ac5a7e0ff669138bc0524aeb97698061540f\n",
            "Backtracking from:  0x68f5d6e854a912cb9f47e67ad8307ddbe9ae7d55\n",
            "Backtracking from:  0x98c441d93a0ebbe0f6ff759973bbc312d866eada\n",
            "Backtracking from:  0xaa3802438a2546cee38207a14e6afc789a9102d4\n",
            "Backtracking from:  0xb978f9a5423e8fb269a6c7325a67f24d8d095fc2\n",
            "Backtracking from:  0x53328c33d31dc3b6279c01613bc0223a5d1252ee\n",
            "Backtracking from:  0x8ddc9f9472b99e45dca30e7a299ed36d030c0102\n",
            "Backtracking from:  0x6aacf2a95deac421053c6316bffb9a8cc2514151\n",
            "Backtracking from:  0x9f59749a371b65831845c665b7cbbcef2495075b\n",
            "Backtracking from:  0x23731e96d97ea153a0450964630b001e7223aff7\n",
            "Backtracking from:  0x04f6d6379b0eda72f573487d84a9d8a5548fa245\n",
            "Backtracking from:  0x11d67f24ef99a06e6d2eb3ae0aa6da86de513dde\n",
            "Backtracking from:  0x6e9a240556fddcbe81507d103a7fc7632cd57c37\n",
            "Backtracking from:  0x34bbde0848f6581bd437fa35becdd7da2d694339\n",
            "Backtracking from:  0x42619d2fb32733fde802a286abea21d18f3b67c4\n",
            "Backtracking from:  0xc9a421b84d6e9dc632e131f388719e3df8f040d6\n",
            "Backtracking from:  0xba4adb50041718eee55becdef43d3a2de59ba73a\n",
            "Backtracking from:  0xcb71f74ab3d99cbfb2c6aecbf508f386b1023036\n",
            "Backtracking from:  0xd8247ba35e46f8dc6e2497612eb608ee18163b1f\n",
            "Backtracking from:  0xc03d1e76e86a32869e4f3be55b77796ebb9b5827\n",
            "Backtracking from:  0x152d66b2330e860ed05ed2f7478542ccd1b3d36e\n",
            "Backtracking from:  0xce00f57400ff920cc03e717a43caacf5f77847b0\n",
            "Backtracking from:  0x1dcc17dd8f8aa0c67679a39907ee9303718a97a9\n",
            "Backtracking from:  0x57d261a378cdc25fa467edb54f92f1a376e3b0da\n",
            "Backtracking from:  0x0070ba949a6038b1abdb90af41ddc6a48626d7bf\n",
            "Backtracking from:  0x15843012f98265315160d0205b52354a0da125c4\n",
            "Backtracking from:  0x00550e62d922c84597b069a3368cfc1bd8fc8a3d\n",
            "Backtracking from:  0x00396df9201ac9cdae65e954af10d9822baec621\n",
            "Backtracking from:  0x1e890aee07eaccbb34a4dab5dbd16abc832a3fe7\n",
            "Backtracking from:  0x284101a87b603f7b2eb430537f2f3be6711f373f\n",
            "Backtracking from:  0x00f6957140c8d78e584938c432d91548d58c418d\n",
            "Backtracking from:  0x00cd8cfc4b04724974989a27eaa69fcb45400e68\n",
            "Backtracking from:  0x008febf5526d90ea62ac5da895a6c2b9cb26b085\n",
            "Backtracking from:  0x00743aa4f2b83620d8a2d2cebc8d7fac4e56a5d8\n",
            "Backtracking from:  0xd254e306dbfec3a376c7f7b261a49aebf1442a37\n",
            "Backtracking from:  0x9a58e88ebbe1f370a89e5be4319a57c98cecf61b\n",
            "Backtracking from:  0xe7deff7153b49118c5236ccfbcf896ea52e030ba\n",
            "Backtracking from:  0x9735403fc5365c42afd0ad9c6d3966eccc44ff35\n",
            "Backtracking from:  0x30189348e28c56624926f94f9d990e4c6e532c76\n",
            "Backtracking from:  0xc51024a772748c044a0680d195baf16a82e957f5\n",
            "Backtracking from:  0x5b35312cba3adb2787d148d36059e3e8f30952d1\n",
            "Backtracking from:  0xa45641fb6dc462c8c51f0e12d4a88cfb79805a01\n",
            "Backtracking from:  0x3a18468faf752c281c911977211029713713f911\n",
            "Backtracking from:  0x528ba936eaaec40bcf000312de2cd4578cc5ed20\n",
            "Backtracking from:  0x5caf336a823d76a040a30dfb892a3159fa05739d\n",
            "Backtracking from:  0x4641b3152eeae6520936a9e216756f56c9a2ef2d\n",
            "Backtracking from:  0x03f5c28a6056a20b3c82446451f9989ed9e3dba3\n",
            "Backtracking from:  0x1a4c520099e69662e0b58a7d2b3e867890e88592\n",
            "Backtracking from:  0xfac82fb44ef3df1131aa480a38b1d559c60c8ff8\n",
            "Backtracking from:  0xcc07bd42344a487f6ef3d66419eec0c1598a10e6\n",
            "Backtracking from:  0x5ca7659b90792987603a6f2b13071424397e0d05\n",
            "Backtracking from:  0xe79f0405208f5d23001aef0a1de9cf1083a03a2a\n",
            "Backtracking from:  0xc87e5f63d3fd25a73ede14690d274633969fd4af\n",
            "Backtracking from:  0x5ca7659b90792987603a6f2b13071424397e0d05\n",
            "Backtracking from:  0x8847c1717efb938130461a409598e8794398c664\n",
            "Backtracking from:  0x7d7b08dfea6bce1d7e4760b2502f3a5ec21b33f8\n",
            "Backtracking from:  0x86ea2989f331719e38809d65dcfabbaaa51c4376\n",
            "Backtracking from:  0x93abf1dc79a4dd1aba83c9ff6276301b905de029\n",
            "Backtracking from:  0x8b24eb4e6aae906058242d83e51fb077370c4720\n",
            "Backtracking from:  0x7da54afb25e4b79274c1e48f9200e9a4cd5ac06b\n",
            "Backtracking from:  0x36f4bfc9f49dc5d4b2d10c4a48a6b30128bd79bc\n",
            "Backtracking from:  0x7b88df8af7a283e3dc84a7fd97fde19cabb90ed4\n",
            "Backtracking from:  0x10046b9f6dfad2cc317f5a78e0e3d86144d54697\n",
            "Backtracking from:  0x8f3bb0d46b9453e3a9c139286ac03378fd4693a8\n",
            "Backtracking from:  0xe58b7ea363fce5b70af86be7c44362095eeb4906\n",
            "Backtracking from:  0x3b86356f3ed7ce7453b817b5edb11b7be8d2dfaa\n",
            "Backtracking from:  0x7ef2bd0cbdc4518d773a7a46b65aa3d67494b359\n",
            "Backtracking from:  0x6532386adb3def4d5c148a87140b0148d8f235cf\n",
            "Backtracking from:  0xe0a2bd4258d2768837baa26a28fe71dc079f84c7\n",
            "Backtracking from:  0x4212ea99d91305056191f86a232d7bb370babb4d\n",
            "Backtracking from:  0x3aaee299238bb0f98b4cab65f26779611278b1b1\n",
            "Backtracking from:  0x947a47eb8e0c363523f3d738692a9e90fcb99c5d\n",
            "Backtracking from:  0xd8d0a5eae5477116b3d5b853a3dd04cfabb982ec\n",
            "Backtracking from:  0x0a7e8bdb873a624fab464c39d965329f825fba4d\n",
            "Backtracking from:  0xd73209e3159ae0c491e611d8a0bfbc63ab9046d1\n",
            "Backtracking from:  0xdc5aa76ba66e05e928e0e9aab4e02ed95a4d0aab\n",
            "Backtracking from:  0x1c2ae2a46c771df72c084732af940c5f0a88801d\n",
            "Backtracking from:  0xe0a2bd4258d2768837baa26a28fe71dc079f84c7\n",
            "Backtracking from:  0xb8ee043c19b1d2c3c458c38a53fd87acab147ff5\n",
            "Backtracking from:  0xae1f3f522cfb1b0ed128819e8e72fda207c47e5e\n",
            "Backtracking from:  0x3d2aa5d98534737bc3e7ee26667d1a8eb02f3bbe\n",
            "Backtracking from:  0x6254f5d8282078111ce6373fe775b78eec49452b\n"
          ],
          "name": "stdout"
        }
      ]
    },
    {
      "cell_type": "markdown",
      "metadata": {
        "id": "tBAEDiDYHRMo"
      },
      "source": [
        "The code was unable to to backtrack the transactions on this address which indicate that an anonymity is used on the transaction. The anonymity technique used is coin joining as it involves some smart contract for the backtracking no to be possible."
      ]
    },
    {
      "cell_type": "code",
      "metadata": {
        "id": "IwjqJsUkLUPq"
      },
      "source": [
        "# Convert transactions to dicts (Just for exporting to Neo4J)\n",
        "backtrack_data_dict = {addr: [t.__dict__ for t in trans] for addr, trans in addresses.items()}\n",
        "\n",
        "save_to_neo4j(backtrack_data_dict, direction=\"backward\")"
      ],
      "execution_count": null,
      "outputs": []
    },
    {
      "cell_type": "code",
      "metadata": {
        "colab": {
          "base_uri": "https://localhost:8080/"
        },
        "id": "fFLxuXhSm2CL",
        "outputId": "2a0b5bbc-4b95-4d88-e55d-a986f2dad93e"
      },
      "source": [
        "addresses = {}\n",
        "backtrack_address_intel(client=goerli_client, address=\"0x4A69805B898E6f05cC3b01a8E37e51A81d46C754\", depth=5, checked_addresses=set())"
      ],
      "execution_count": null,
      "outputs": [
        {
          "output_type": "stream",
          "text": [
            "Backtracking from:  0x4a69805b898e6f05cc3b01a8e37e51a81d46c754\n",
            "Backtracking from:  0xc44b86e59bd8357de08f33d8c83251f31b57a85c\n",
            "Backtracking from:  0x8c673e60b2d30d59f3ce7598cf4134d0ef9e773d\n",
            "Backtracking from:  0x8ced5ad0d8da4ec211c17355ed3dbfec4cf0e5b9\n",
            "Backtracking from:  0x9d525e28fe5830ee92d7aa799c4d21590567b595\n",
            "Backtracking from:  0xdc5aa76ba66e05e928e0e9aab4e02ed95a4d0aab\n",
            "Backtracking from:  0xe0a2bd4258d2768837baa26a28fe71dc079f84c7\n",
            "Backtracking from:  0xb8ee043c19b1d2c3c458c38a53fd87acab147ff5\n",
            "Backtracking from:  0x6254f5d8282078111ce6373fe775b78eec49452b\n"
          ],
          "name": "stdout"
        }
      ]
    },
    {
      "cell_type": "code",
      "metadata": {
        "id": "qHvAFSn5nEMv",
        "colab": {
          "base_uri": "https://localhost:8080/"
        },
        "outputId": "bb62a2eb-1901-4de4-ea60-4ce699844567"
      },
      "source": [
        "backtrack_data_dict = {addr: [t.__dict__ for t in trans] for addr, trans in addresses.items()}\n",
        "\n",
        "save_to_neo4j(backtrack_data_dict, direction=\"backward\")"
      ],
      "execution_count": null,
      "outputs": [
        {
          "output_type": "stream",
          "text": [
            "Query failed: Integer out of bounds (64-bit signed integer values only)\n",
            "Query failed: Integer out of bounds (64-bit signed integer values only)\n",
            "Query failed: Integer out of bounds (64-bit signed integer values only)\n",
            "Query failed: Integer out of bounds (64-bit signed integer values only)\n"
          ],
          "name": "stdout"
        }
      ]
    },
    {
      "cell_type": "markdown",
      "metadata": {
        "id": "eHr-PnihnnmO"
      },
      "source": [
        "![image.png](data:image/png;base64,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)"
      ]
    },
    {
      "cell_type": "markdown",
      "metadata": {
        "id": "0qpWY_94JfeK"
      },
      "source": [
        "The origin of the funds in this Goerli Testnet Ethereum address 0x4A69805B898E6f05cC3b01a8E37e51A81d46C754 was confirmed to be 0x8c673E60b2d30D59F3CE7598CF4134d0EF9e773d. we can say that there was no anonymity techniques used in the transaction."
      ]
    }
  ]
}