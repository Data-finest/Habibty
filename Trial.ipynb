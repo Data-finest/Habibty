{
  "nbformat": 4,
  "nbformat_minor": 0,
  "metadata": {
    "colab": {
      "name": "Trial.ipynb",
      "private_outputs": true,
      "provenance": [],
      "authorship_tag": "ABX9TyOyxSHsFAwD03hYVNvy4Oav",
      "include_colab_link": true
    },
    "kernelspec": {
      "name": "python3",
      "display_name": "Python 3"
    },
    "language_info": {
      "name": "python"
    }
  },
  "cells": [
    {
      "cell_type": "markdown",
      "metadata": {
        "id": "view-in-github",
        "colab_type": "text"
      },
      "source": [
        "<a href=\"https://colab.research.google.com/github/Data-finest/Habibty/blob/main/Trial.ipynb\" target=\"_parent\"><img src=\"https://colab.research.google.com/assets/colab-badge.svg\" alt=\"Open In Colab\"/></a>"
      ]
    },
    {
      "cell_type": "code",
      "source": [
        "import pandas as pd\n",
        "import numpy as np\n",
        "import matplotlib.pyplot as plt\n",
        "%matplotlib in line\n",
        "import seaborn as sns\n",
        "from pandas_profiling import ProfileReport\n",
        "from numpy import random\n"
      ],
      "metadata": {
        "id": "tya-h5y820WQ"
      },
      "execution_count": null,
      "outputs": []
    },
    {
      "cell_type": "code",
      "source": [
        "pip install pandas-profiling"
      ],
      "metadata": {
        "id": "sjiNalY7246-"
      },
      "execution_count": null,
      "outputs": []
    },
    {
      "cell_type": "code",
      "source": [
        "pip install https://github.com/pandas-profiling/pandas-profiling/archive/master.zip"
      ],
      "metadata": {
        "id": "olmbpaEDOTDd"
      },
      "execution_count": null,
      "outputs": []
    },
    {
      "cell_type": "code",
      "source": [
        "# upgrade pip via conda update pip"
      ],
      "metadata": {
        "id": "g4evBc3ZOt1B"
      },
      "execution_count": null,
      "outputs": []
    },
    {
      "cell_type": "code",
      "source": [
        "url = \"http://www.basketball.reference.com/leagues/MBA_2020_per_game.html\"\n",
        "# html = pd.read_html(url)\n",
        "# df1 = html[0]"
      ],
      "metadata": {
        "id": "nIqvDL7J4OKZ"
      },
      "execution_count": null,
      "outputs": []
    },
    {
      "cell_type": "code",
      "source": [
        "df = pd.DataFrame(np.random.rand(100,5), columns=[\"a\",\"b\",\"c\",\"d\",\"e\"])\n",
        "profile = ProfileReport(df,title = \"pandas profiling Report\", html = {\"style\": {\"full_width\":True}})\n"
      ],
      "metadata": {
        "id": "7Rf3GDUPGomk"
      },
      "execution_count": null,
      "outputs": []
    },
    {
      "cell_type": "code",
      "source": [
        "profile"
      ],
      "metadata": {
        "id": "jBhk7HXXPb4p"
      },
      "execution_count": null,
      "outputs": []
    },
    {
      "cell_type": "code",
      "source": [
        "# merging two csv files\n",
        "data = pd.concat(map (pd.read_csv, [\"/Spotify 2010 - 2019 Top 100.csv\"]), ignore_index=True)\n"
      ],
      "metadata": {
        "id": "UNMvmbJURoUd"
      },
      "execution_count": null,
      "outputs": []
    },
    {
      "cell_type": "code",
      "source": [
        "data"
      ],
      "metadata": {
        "id": "e2Ky6J3USEiP"
      },
      "execution_count": null,
      "outputs": []
    },
    {
      "cell_type": "code",
      "source": [
        "pro = ProfileReport(data,title = \"pandas profiling Report\", html = {\"style\": {\"full_width\":True}})"
      ],
      "metadata": {
        "id": "urTe_uw1STm2"
      },
      "execution_count": null,
      "outputs": []
    },
    {
      "cell_type": "code",
      "source": [
        "pro"
      ],
      "metadata": {
        "id": "VzGmXyD5SYYj"
      },
      "execution_count": null,
      "outputs": []
    },
    {
      "cell_type": "code",
      "source": [
        "data.isnull()"
      ],
      "metadata": {
        "id": "dHtJI5QbStVm"
      },
      "execution_count": null,
      "outputs": []
    },
    {
      "cell_type": "code",
      "source": [
        "data.info()\n",
        "# data.describe()"
      ],
      "metadata": {
        "id": "CwAJXjfPS0IC"
      },
      "execution_count": null,
      "outputs": []
    },
    {
      "cell_type": "code",
      "source": [
        "data.dropna(inplace=True)"
      ],
      "metadata": {
        "id": "Rghd_p2fTBao"
      },
      "execution_count": null,
      "outputs": []
    },
    {
      "cell_type": "code",
      "source": [
        "data"
      ],
      "metadata": {
        "id": "r9Br8OJocr3M"
      },
      "execution_count": null,
      "outputs": []
    },
    {
      "cell_type": "code",
      "source": [
        "# dB = pd.get_dummies(data[\"dB\"], drop_first=True).head() # becos title is unique "
      ],
      "metadata": {
        "id": "45OUK1qDTPmr"
      },
      "execution_count": null,
      "outputs": []
    },
    {
      "cell_type": "code",
      "source": [
        "artist = pd.get_dummies(data[\"artist\"], drop_first=True)\n",
        "artist.describe()"
      ],
      "metadata": {
        "id": "Ls69oY2OdlRF"
      },
      "execution_count": null,
      "outputs": []
    },
    {
      "cell_type": "code",
      "source": [
        "top_genre = pd.get_dummies(data[\"top genre\"], drop_first=True)\n",
        "top_genre"
      ],
      "metadata": {
        "id": "_KuEo7NPeWPQ"
      },
      "execution_count": null,
      "outputs": []
    },
    {
      "cell_type": "code",
      "source": [
        "artist_type = pd.get_dummies(data[\"artist type\"], drop_first=True)\n",
        "artist_type"
      ],
      "metadata": {
        "id": "VpknvtIDeufN"
      },
      "execution_count": null,
      "outputs": []
    },
    {
      "cell_type": "code",
      "source": [
        "year_released = pd.get_dummies(data[\"year released\"], drop_first=True)\n",
        "year_released"
      ],
      "metadata": {
        "id": "yt3gwp9ohoaq"
      },
      "execution_count": null,
      "outputs": []
    },
    {
      "cell_type": "code",
      "source": [
        "data.drop([\"added\",\"spch\",\"acous\",\"dur\",\"val\",\"live\",\"nrgy\",\"dnce\",\"bpm\",\"title\",\"pop\", \"dB\"], axis=1, inplace=True)"
      ],
      "metadata": {
        "id": "gJiY8g12jK8x"
      },
      "execution_count": null,
      "outputs": []
    },
    {
      "cell_type": "code",
      "source": [
        "data"
      ],
      "metadata": {
        "id": "fIEyzL1zkJa0"
      },
      "execution_count": null,
      "outputs": []
    },
    {
      "cell_type": "code",
      "source": [
        "data1 = pd.concat([data, year_released, artist_type, top_genre, artist], axis=1)\n",
        "data1"
      ],
      "metadata": {
        "id": "9mxvyppkkamF"
      },
      "execution_count": null,
      "outputs": []
    },
    {
      "cell_type": "code",
      "source": [
        "data1.isnull()\n",
        "# data2 = data1.dropna(inplace=True)\n",
        "# data2"
      ],
      "metadata": {
        "id": "CaceyLzMlTKH"
      },
      "execution_count": null,
      "outputs": []
    },
    {
      "cell_type": "code",
      "source": [
        "data2"
      ],
      "metadata": {
        "id": "L9iwMYf_l2Lz"
      },
      "execution_count": null,
      "outputs": []
    },
    {
      "cell_type": "code",
      "source": [
        "friends = [\"sam\", \"dog\", \"cat\"]\n",
        "for friend in friends:\n",
        "    print(\"hi\", friend)"
      ],
      "metadata": {
        "id": "ppVaH5GOLoNy"
      },
      "execution_count": null,
      "outputs": []
    }
  ]
}