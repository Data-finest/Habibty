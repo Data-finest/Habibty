{
  "nbformat": 4,
  "nbformat_minor": 0,
  "metadata": {
    "colab": {
      "name": "Habeeb_Store.ipynb",
      "provenance": [],
      "collapsed_sections": [],
      "include_colab_link": true
    },
    "kernelspec": {
      "display_name": "Python 3",
      "name": "python3"
    }
  },
  "cells": [
    {
      "cell_type": "markdown",
      "metadata": {
        "id": "view-in-github",
        "colab_type": "text"
      },
      "source": [
        "<a href=\"https://colab.research.google.com/github/Data-finest/Habibty/blob/main/Habeeb_Store.ipynb\" target=\"_parent\"><img src=\"https://colab.research.google.com/assets/colab-badge.svg\" alt=\"Open In Colab\"/></a>"
      ]
    },
    {
      "cell_type": "markdown",
      "source": [
        "### Super Store Data Analysis\n",
        "\n",
        "\n"
      ],
      "metadata": {
        "id": "1WOh4oafxewn"
      }
    },
    {
      "cell_type": "code",
      "metadata": {
        "id": "k9E7L11RN3Fb",
        "outputId": "736a2680-89cf-4dbe-bee4-3698a69eda8b",
        "colab": {
          "base_uri": "https://localhost:8080/"
        }
      },
      "source": [
        "#Importing the necessary Libraries\n",
        "import pandas as pd\n",
        "import numpy as np\n",
        "import matplotlib.pyplot as plt\n",
        "from statsmodels.tsa.seasonal import seasonal_decompose\n",
        "import seaborn as sns"
      ],
      "execution_count": 1,
      "outputs": [
        {
          "output_type": "stream",
          "name": "stderr",
          "text": [
            "/usr/local/lib/python3.7/dist-packages/statsmodels/tools/_testing.py:19: FutureWarning: pandas.util.testing is deprecated. Use the functions in the public API at pandas.testing instead.\n",
            "  import pandas.util.testing as tm\n"
          ]
        }
      ]
    },
    {
      "cell_type": "code",
      "metadata": {
        "id": "qO1rZqirN-TS"
      },
      "source": [
        "#Importing the DataFrame 1\n",
        "data = pd.read_csv(\"https://tinyurl.com/ChrisCoDV/001124903/DailyCustomers.csv\", index_col=0)\n",
        "\n",
        "#Importing the DataFrame 2\n",
        "Stores_Marketing = pd.read_csv(\"https://tinyurl.com/ChrisCoDV/001124903/StoreMarketing.csv\", index_col=0)\n",
        "Store_Staff = pd.read_csv(\"https://tinyurl.com/ChrisCoDV/001124903/StoreStaff.csv\", index_col=0)\n",
        "Store_Size = pd.read_csv(\"https://tinyurl.com/ChrisCoDV/001124903/StoreSize.csv\", index_col=0)\n",
        "Store_Overheads = pd.read_csv(\"https://tinyurl.com/ChrisCoDV/001124903/StoreOverheads.csv\", index_col=0)\n",
        "pd.plotting.register_matplotlib_converters()\n",
        "data.index = pd.to_datetime(data.index)\n",
        "\n",
        "\n",
        "summary_data = pd.DataFrame(index=data.columns)\n",
        "summary_data['Size'] = Store_Size.values #The Store_size in msq for each page, with the highest being SMM(6702)and lowest being MAJ(45).\n",
        "summary_data['Staff'] = Store_Staff.values #shows the total staff serving in each of the stores with the highest being SGA store(49 staffs).\n",
        "summary_data['Customer'] = data.sum().values #These shows the totalled customer that visited the store in 2019.\n",
        "summary_data['Overheads'] = Store_Overheads.values #shows the store`s Overheads cost with the highest being TAP(98000) and least spent NAQ(11,000).\n",
        "summary_data['Marketing'] = Stores_Marketing.values #shows the Stores Marketing with the highest being PAA(32,000) and least YYO,MAJ and ZSD(1000)"
      ],
      "execution_count": null,
      "outputs": []
    },
    {
      "cell_type": "code",
      "metadata": {
        "id": "ljENJjC1zKll"
      },
      "source": [
        "summary_data.head()\n",
        "data\n",
        "summary_data.describe()\n",
        "summary_data.info()"
      ],
      "execution_count": null,
      "outputs": []
    },
    {
      "cell_type": "markdown",
      "metadata": {
        "id": "3xitzbHKzu_x"
      },
      "source": [
        "*The time period for the investigation is Year 2019 and it starts from the 1st of January to the 31st of December. *The number the company's stores are 40 (VSM-AEI). *The number of the stores visit range from; min = 41.000000, max = 00.000000 "
      ]
    },
    {
      "cell_type": "code",
      "metadata": {
        "id": "3u_655sr3Ucu"
      },
      "source": [
        "# Bar graph with all attributes \n",
        "for attribute in summary_data:\n",
        "    plt.figure(figsize=(20, 8))\n",
        "    x_pos = np.arange(len(summary_data.index))\n",
        "    plt.bar(x_pos, summary_data[attribute], align='center')\n",
        "    plt.xticks(x_pos, summary_data.index)\n",
        "    plt.xlabel('Stores', fontsize=18)\n",
        "    plt.ylabel(attribute, fontsize=18)"
      ],
      "execution_count": null,
      "outputs": []
    },
    {
      "cell_type": "code",
      "metadata": {
        "id": "AMTAU_kTzT8o"
      },
      "source": [
        "# sort the data according to the mean of each column, the largest first\n",
        "summary_data = data.reindex(data.mean().sort_values(ascending=False).index, axis=1)\n",
        "summary_data.mean()"
      ],
      "execution_count": null,
      "outputs": []
    },
    {
      "cell_type": "markdown",
      "metadata": {
        "id": "G8elCnh41k71"
      },
      "source": [
        "RAH    1030.317808\n",
        "SGA     960.961644\n",
        "SMM     878.317808\n",
        "QSN     809.594521\n",
        "\n",
        "The number of stores with highest average visit are RAH, SGA, SMM and QSN, having 1030.317808, 960.961644, 878.317808 and 809.594521 respectively."
      ]
    },
    {
      "cell_type": "markdown",
      "metadata": {
        "id": "P_yflFXh3dFY"
      },
      "source": [
        ""
      ]
    },
    {
      "cell_type": "code",
      "metadata": {
        "id": "F9FFOTKL1w8i"
      },
      "source": [
        "# Automatic Bar chart that categories summary data into four categories\n",
        "High_Number_Stores = [\"RAH\", \"SGA\", \"SMM\",\"QSN\"]\n",
        "Medium_Number_Stores = ['PAA', 'QMD', 'RGS', 'OSG', 'NAQ', 'PGL', 'OMV', 'MUY']\n",
        "Low_Number_Store = ['EFN', 'YGY', 'TSE', 'WMB', 'ENY', 'WYG', 'TAP', 'BTB', 'BZM', 'XML', 'UGJ', 'CFG', 'VSM', 'UMU']\n",
        "Very_Low_Number_Store = ['DTJ', 'VYZ', 'WGR', 'CNQ', 'ATT', 'DZT', 'XSV', 'NMO', 'NGB', 'ZMS', 'AEI', 'YYO', 'MAJ', 'ZSD']\n",
        "\n",
        "categories = [\"High_Number_Store\", \"Medium_Number_Store\", \"Low_Number_Store\", \"Very Low_Number_Store\"]\n",
        "categories_selected = [[] for i in range(len(categories))]\n",
        "for name in summary_data.columns:\n",
        "    total_visit = summary_data[name].mean()\n",
        "    if total_visit > 800:\n",
        "        category = 0\n",
        "    elif total_visit > 200:\n",
        "        category = 1\n",
        "    elif total_visit > 60:\n",
        "        category = 2  \n",
        "    else:\n",
        "        category = 3\n",
        "    categories_selected[category].append(name)\n",
        "    print('Stores ' + name + ' is ' + categories[category] + ' Visits')\n",
        "\n",
        "for i in range(len(categories)):\n",
        "    print(categories[i] + ': ' + str(categories_selected[i]))\n",
        "\n",
        "for i, selected in enumerate(categories_selected):\n",
        "    plt.figure(figsize=(10, 8))\n",
        "    x_pos = np.arange(len(summary_data[selected].columns))\n",
        "    plt.bar(x_pos, summary_data[selected].mean(), align='center')\n",
        "    plt.xticks(x_pos, summary_data[selected].columns, rotation=45)\n",
        "    plt.xlabel('All Stores', fontsize=20)\n",
        "    plt.ylabel('Customer visit', fontsize=20)\n",
        "    plt.title(categories[i] + \"Customer`s Store Visits\", fontsize=20)"
      ],
      "execution_count": null,
      "outputs": []
    },
    {
      "cell_type": "markdown",
      "metadata": {
        "id": "FguKHTTX2Zjm"
      },
      "source": [
        "The data is classified the number of customer`s store visit into High, Moderate, Low visits and Very low visits."
      ]
    },
    {
      "cell_type": "code",
      "metadata": {
        "id": "MW8P8WBS2P6K"
      },
      "source": [
        "# Automatic Bar chart that categories summary data into four categories with the use of colors\n",
        "normalised_data = summary_data / summary_data.max()\n",
        "colours = []\n",
        "for name in summary_data.columns:\n",
        "    total_hits = summary_data[name].mean()\n",
        "    if total_hits > 800:\n",
        "        colour = '#5cb85c' #Green\n",
        "    elif total_hits > 200:\n",
        "        colour = '#f0ad4e' #Orange\n",
        "    elif total_hits > 60:\n",
        "        colour = '#0275d8' #Blue\n",
        "    else:\n",
        "        colour = '#d9534f' #Red\n",
        "    colours.append(colour)\n",
        "\n",
        "plt.figure(figsize=(18, 8))\n",
        "x_pos = np.arange(len(data.columns))\n",
        "plt.bar(x_pos, summary_data.mean(), align='center', color=colours)\n",
        "plt.xticks(x_pos, summary_data.columns)\n",
        "plt.xlabel('All Stores', fontsize=18)\n",
        "plt.ylabel('Customer visit', fontsize=18)\n",
        "plt.title('Total Number of Customer`s Store Visits Throughout 2019', fontsize=20)"
      ],
      "execution_count": null,
      "outputs": []
    },
    {
      "cell_type": "markdown",
      "metadata": {
        "id": "SLBG66zG71nq"
      },
      "source": [
        "The bar chat categories the stores into a coloured form of high(green), medium(yellow), low(red) and very low(blue)."
      ]
    },
    {
      "cell_type": "code",
      "metadata": {
        "id": "EO5n88oy2yQt"
      },
      "source": [
        "#Line plot of all store visits\n",
        "plt.figure(figsize=(18, 18))\n",
        "plt.plot(summary_data, linewidth=1.5)\n",
        "plt.xlabel('Date', fontsize=18)\n",
        "plt.ylabel('Store visit', fontsize=18)\n",
        "plt.title('Customer Store Visit', fontsize=20)\n",
        "plt.legend(data.columns, loc=2)"
      ],
      "execution_count": null,
      "outputs": []
    },
    {
      "cell_type": "code",
      "metadata": {
        "id": "n3mbhMwG2xpQ"
      },
      "source": [
        "#Line plot High number of customer store visits\n",
        "\n",
        "selected = High_Number_Stores\n",
        "plt.figure(figsize=(10, 10))\n",
        "plt.plot(summary_data[selected], linewidth=1.5)\n",
        "plt.xlabel('Date', fontsize=18)\n",
        "plt.ylabel('Store visit', fontsize=18)\n",
        "plt.title('High Number Customer Store Visit', fontsize=20)\n",
        "plt.legend(data.columns, loc=2)\n"
      ],
      "execution_count": null,
      "outputs": []
    },
    {
      "cell_type": "code",
      "metadata": {
        "id": "scIbUAMz49SK"
      },
      "source": [
        "#Line plot Medium Number of customer store visits\n",
        "\n",
        "selected = Medium_Number_Stores\n",
        "plt.figure(figsize=(10, 10))\n",
        "plt.plot(summary_data[selected], linewidth=1.5)\n",
        "plt.xlabel('Date', fontsize=18)\n",
        "plt.ylabel('Store visit', fontsize=18)\n",
        "plt.title('Medium Number Customer Store Visit', fontsize=20)\n",
        "plt.legend(selected, loc=2)"
      ],
      "execution_count": null,
      "outputs": []
    },
    {
      "cell_type": "code",
      "metadata": {
        "id": "g5XT3zCT5xE6"
      },
      "source": [
        "#Line plot Low Number customer store visits\n",
        "selected = Low_Number_Store\n",
        "\n",
        "plt.figure(figsize=(10, 10))\n",
        "plt.plot(summary_data[selected], linewidth=1.5)\n",
        "plt.xlabel('Date', fontsize=18)\n",
        "plt.ylabel('Store visit', fontsize=18)\n",
        "plt.title('Low Number Customer Store Visit', fontsize=20)\n",
        "plt.legend(selected, loc=2)"
      ],
      "execution_count": null,
      "outputs": []
    },
    {
      "cell_type": "code",
      "metadata": {
        "id": "XeHi1AXN0Hni"
      },
      "source": [
        " #Lineplot for very Low Number of customer store visits\n",
        "selected = Very_Low_Number_Store\n",
        "plt.figure(figsize=(10, 10))\n",
        "plt.plot(summary_data[selected], linewidth=1.5)\n",
        "plt.xlabel('Date', fontsize=18)\n",
        "plt.ylabel('Store visit', fontsize=18)\n",
        "plt.title('Very Low Number Customer Store Visit', fontsize=20)\n",
        "plt.legend(selected, loc=2)"
      ],
      "execution_count": null,
      "outputs": []
    },
    {
      "cell_type": "code",
      "metadata": {
        "id": "MLF7_Q-b7cdS"
      },
      "source": [
        "#Lineplot for High Number axis zeroed selected\n",
        "selected = High_Number_Stores\n",
        "plt.figure(figsize=(8, 8))\n",
        "plt.plot(summary_data[selected], linewidth=1.5)\n",
        "plt.ylim(ymin=0)\n",
        "plt.xlabel('Date', fontsize=18)\n",
        "plt.ylabel('Store visit', fontsize=18)\n",
        "plt.title('High Number Customer Store Visit', fontsize=20)\n",
        "plt.legend(selected, loc=2)"
      ],
      "execution_count": null,
      "outputs": []
    },
    {
      "cell_type": "code",
      "metadata": {
        "id": "Ojxp0MoX7cO-"
      },
      "source": [
        "#Lineplot for Medium Number axis zeroed selected\n",
        "\n",
        "selected = Medium_Number_Stores\n",
        "plt.figure(figsize=(10, 10))\n",
        "plt.plot(summary_data[selected], linewidth=1.5)\n",
        "plt.ylim(ymin=0)\n",
        "plt.xlabel('Date', fontsize=18)\n",
        "plt.ylabel('Store visit', fontsize=18)\n",
        "plt.title('Medium Number Customer Store Visit', fontsize=20)\n",
        "plt.legend(selected, loc=2)"
      ],
      "execution_count": null,
      "outputs": []
    },
    {
      "cell_type": "code",
      "metadata": {
        "id": "ni0TDY9K7b-Y"
      },
      "source": [
        "#Lineplot for Low Number axis zeroed selected\n",
        "selected = Low_Number_Store\n",
        "plt.figure(figsize=(10, 10))\n",
        "plt.plot(summary_data[selected], linewidth=1.5)\n",
        "plt.ylim(ymin=0)\n",
        "plt.xlabel('Date', fontsize=18)\n",
        "plt.ylabel('Store visit', fontsize=18)\n",
        "plt.title('Low Number Customer Store Visit', fontsize=20)\n",
        "plt.legend(selected, loc=2)            "
      ],
      "execution_count": null,
      "outputs": []
    },
    {
      "cell_type": "code",
      "metadata": {
        "id": "68c9POZD-6Cu"
      },
      "source": [
        "#Lineplot for very Low vol. axis zeroed selected\n",
        "selected = Very_Low_Number_Store\n",
        "plt.figure(figsize=(10, 10))\n",
        "plt.plot(summary_data[selected], linewidth=1.5)\n",
        "plt.ylim(ymin=0)\n",
        "plt.xlabel('Date', fontsize=18)\n",
        "plt.ylabel('Store visit', fontsize=18)\n",
        "plt.title('Very_Low Number Customer Store Visit', fontsize=20)\n",
        "plt.legend(selected, loc=2)            "
      ],
      "execution_count": null,
      "outputs": []
    },
    {
      "cell_type": "code",
      "metadata": {
        "id": "VDgDOd0z9PvM"
      },
      "source": [
        "#Lineplot for High number of average store visits\n",
        "sample_rate = 'W'  # weekly\n",
        "averaged_data = summary_data.resample(sample_rate).mean()\n",
        "\n",
        "selected = High_Number_Stores\n",
        "print(summary_data[selected].head())\n",
        "print(averaged_data[selected].head())\n",
        "\n",
        "plt.figure(figsize=(10, 10))\n",
        "plt.plot(summary_data[selected], linewidth=1.5)\n",
        "plt.gca().set_prop_cycle(None)\n",
        "plt.plot(averaged_data[selected], linewidth=2)\n",
        "plt.xlabel('Date', fontsize=18)\n",
        "plt.ylabel('Store Visit', fontsize=18)\n",
        "plt.title('High Number Visit with Weekly Averages', fontsize=20)\n",
        "plt.legend(selected, loc=2)"
      ],
      "execution_count": null,
      "outputs": []
    },
    {
      "cell_type": "code",
      "metadata": {
        "id": "VS2iSPW29Pe_"
      },
      "source": [
        "#Lineplot Medium number average for store visits\n",
        "sample_rate = 'W'  # weekly\n",
        "averaged_data = summary_data.resample(sample_rate).mean()\n",
        "\n",
        "selected = Medium_Number_Stores\n",
        "print(summary_data[selected].head())\n",
        "print(averaged_data[selected].head())\n",
        "\n",
        "plt.figure(figsize=(10, 10))\n",
        "plt.plot(summary_data[selected], linewidth=1.5)\n",
        "plt.gca().set_prop_cycle(None)\n",
        "plt.plot(averaged_data[selected], linewidth=2)\n",
        "plt.xlabel('Date', fontsize=18)\n",
        "plt.ylabel('Store Visit', fontsize=18)\n",
        "plt.title('Medium Number Visit with Weekly Averages', fontsize=20)\n",
        "plt.legend(selected, loc=2)"
      ],
      "execution_count": null,
      "outputs": []
    },
    {
      "cell_type": "code",
      "metadata": {
        "id": "hhSnQEpR9PR4"
      },
      "source": [
        "#Lineplot Low average for store visits\n",
        "sample_rate = 'W'  # weekly\n",
        "averaged_data = summary_data.resample(sample_rate).mean()\n",
        "\n",
        "selected = Low_Number_Store \n",
        "print(summary_data[selected].head())\n",
        "print(averaged_data[selected].head())\n",
        "\n",
        "plt.figure(figsize=(10, 10))\n",
        "plt.plot(summary_data[selected], linewidth=1.5)\n",
        "plt.gca().set_prop_cycle(None)\n",
        "plt.plot(averaged_data[selected], linewidth=2)\n",
        "plt.xlabel('Date', fontsize=18)\n",
        "plt.ylabel('Store Visit', fontsize=18)\n",
        "plt.title('Low Volume Visit with Weekly Averages', fontsize=20)\n",
        "plt.legend(selected, loc=2)"
      ],
      "execution_count": null,
      "outputs": []
    },
    {
      "cell_type": "code",
      "metadata": {
        "id": "kQtdg7FkAF1R"
      },
      "source": [
        "#Lineplot Very Low number average for store visits\n",
        "sample_rate = 'W'  # weekly\n",
        "averaged_data = summary_data.resample(sample_rate).mean()\n",
        "selected = ['DTJ', 'VYZ', 'WGR', 'CNQ', 'ATT', 'DZT']\n",
        "print(summary_data[selected])\n",
        "print(averaged_data[selected].head())\n",
        "\n",
        "plt.figure(figsize=(20, 10))\n",
        "plt.plot(summary_data[selected], linewidth=1.5)\n",
        "plt.gca().set_prop_cycle(None)\n",
        "plt.plot(averaged_data[selected], linewidth=2)\n",
        "plt.xlabel('Date', fontsize=18)\n",
        "plt.ylabel('Store Visit', fontsize=18)\n",
        "plt.title('Very Low Customer Visit with Weekly Averages', fontsize=20)\n",
        "plt.legend(selected, loc=2)"
      ],
      "execution_count": null,
      "outputs": []
    },
    {
      "cell_type": "code",
      "metadata": {
        "id": "JHd4HcOnvHFJ"
      },
      "source": [
        "#Lineplot to show the stores that were closed and opened during the year\n",
        "sample_rate = 'W'  # weekly\n",
        "averaged_data = summary_data.resample(sample_rate).mean()\n",
        "select =  ['NMO', 'NGB', 'ZMS', 'AEI', 'YYO', 'MAJ', 'XSV', 'ZSD']\n",
        "\n",
        "print(summary_data[select])\n",
        "print(averaged_data[select].head())\n",
        "\n",
        "plt.figure(figsize=(20, 10))\n",
        "plt.plot(summary_data[select], linewidth=1.5)\n",
        "plt.gca().set_prop_cycle(None)\n",
        "plt.plot(averaged_data[select], linewidth=2)\n",
        "plt.xlabel('Date', fontsize=18)\n",
        "plt.ylabel('Store Visit', fontsize=18)\n",
        "plt.title('Stores that closed/opened during the year with Weekly Averages', fontsize=20)\n",
        "plt.legend(select, loc=2)"
      ],
      "execution_count": null,
      "outputs": []
    },
    {
      "cell_type": "markdown",
      "metadata": {
        "id": "cNAL-GsrRSBr"
      },
      "source": [
        "The plot shows that store ZMS,XSV  opened it store at January and closed at in the months of July, while stores NMO and AEI started running in the month of April, YYO and NGB opened it stores in July and MAJand ZSD opened in October 2019."
      ]
    },
    {
      "cell_type": "code",
      "metadata": {
        "id": "7K8nuFOE_KU3"
      },
      "source": [
        "#Lineplot for High Number rolling average \n",
        "period = 14\n",
        "rolling_average = summary_data.rolling(window=period).mean()\n",
        "\n",
        "selected = High_Number_Stores\n",
        "print(summary_data[selected].head())\n",
        "\n",
        "plt.figure(figsize=(16, 8))\n",
        "plt.plot(summary_data[selected], linewidth=1.5)\n",
        "plt.gca().set_prop_cycle(None)\n",
        "plt.plot(rolling_average[selected], linewidth=2)\n",
        "# plt.ylim(ymin=0)\n",
        "plt.xlabel('Date', fontsize=18)\n",
        "plt.ylabel('Store Visit', fontsize=18)\n",
        "plt.title('High Number Store Visit\\n with 14-day Rolling Average', fontsize=20)\n",
        "plt.legend(selected, loc=2)"
      ],
      "execution_count": null,
      "outputs": []
    },
    {
      "cell_type": "code",
      "metadata": {
        "id": "7wgiN4H3_KFe"
      },
      "source": [
        "#Lineplot for Medium Number rolling average \n",
        "period = 14\n",
        "rolling_average = data.rolling(window=period).mean()\n",
        "\n",
        "selected = Medium_Number_Stores\n",
        "\n",
        "plt.figure(figsize=(16, 8))\n",
        "plt.plot(summary_data[selected], linewidth=1.5)\n",
        "plt.gca().set_prop_cycle(None)\n",
        "plt.plot(rolling_average[selected], linewidth=2)\n",
        "# plt.ylim(ymin=0)\n",
        "plt.xlabel('Date', fontsize=18)\n",
        "plt.ylabel('Store Visit', fontsize=18)\n",
        "plt.title('Medium Number Store Visit\\n with 14-day Rolling Average', fontsize=20)\n",
        "plt.legend(selected, loc=2)"
      ],
      "execution_count": null,
      "outputs": []
    },
    {
      "cell_type": "code",
      "metadata": {
        "id": "gYrVI9lY_J1c"
      },
      "source": [
        "#Lineplot for Low vol. rolling average \n",
        "period = 14\n",
        "rolling_average = summary_data.rolling(window=period).mean()\n",
        "\n",
        "selected = Low_Number_Store\n",
        "print(summary_data[selected].head())\n",
        "\n",
        "plt.figure(figsize=(16, 8))\n",
        "plt.plot(summary_data[selected], linewidth=0.5)\n",
        "plt.gca().set_prop_cycle(None)\n",
        "plt.plot(rolling_average[selected], linewidth=2)\n",
        "# plt.ylim(ymin=0)\n",
        "plt.xlabel('Date', fontsize=18)\n",
        "plt.ylabel('Store Visit', fontsize=18)\n",
        "plt.title('Low Number Store Visit\\n with 14-day Rolling Average', fontsize=20)\n",
        "plt.legend(selected, loc=2)"
      ],
      "execution_count": null,
      "outputs": []
    },
    {
      "cell_type": "code",
      "metadata": {
        "id": "dQiVdlU0zdsK"
      },
      "source": [
        "#Lineplot for Very Low Number rolling average \n",
        "period = 14\n",
        "rolling_average = summary_data.rolling(window=period).mean()\n",
        "selected = Very_Low_Number_Store\n",
        "\n",
        "plt.figure(figsize=(16, 8))\n",
        "plt.plot(summary_data[selected], linewidth=1.0)\n",
        "plt.gca().set_prop_cycle(None)\n",
        "plt.plot(rolling_average[selected], linewidth=2)\n",
        "plt.ylim(ymin=0)\n",
        "plt.xlabel('Date', fontsize=18)\n",
        "plt.ylabel('Store Visit', fontsize=18)\n",
        "plt.title('Very Low Number Store Visit\\n with 14-day Rolling Average', fontsize=20)\n",
        "plt.legend(selected, loc=2)\n",
        "plt.show()"
      ],
      "execution_count": null,
      "outputs": []
    },
    {
      "cell_type": "code",
      "metadata": {
        "id": "zrKWhUG-wNFo"
      },
      "source": [
        "period = 14\n",
        "rolling_average = summary_data.rolling(window=period).mean()\n",
        "select =  ['NMO', 'NGB', 'ZMS', 'AEI', 'YYO', 'MAJ', 'ZSD']\n",
        "plt.figure(figsize=(16, 8))\n",
        "plt.plot(summary_data[select], linewidth=1.0)\n",
        "plt.gca().set_prop_cycle(None)\n",
        "plt.plot(rolling_average[select], linewidth=2)\n",
        "plt.ylim(ymin=0)\n",
        "plt.xlabel('Date', fontsize=18)\n",
        "plt.ylabel('Store Visit', fontsize=18)\n",
        "plt.title('Very Low Number Store Visit\\n with 14-day Rolling Average', fontsize=20)\n",
        "plt.legend(select, loc=2)"
      ],
      "execution_count": null,
      "outputs": []
    },
    {
      "cell_type": "code",
      "metadata": {
        "id": "r68KgJYcyyko"
      },
      "source": [
        "#comparative Bar Chart for High number of visit\n",
        "normalised_data = summary_data / summary_data.max()\n",
        "print(normalised_data.head())\n",
        "\n",
        "selected = High_Number_Stores\n",
        "colours = ['b', 'g', 'r', 'c', 'm', 'y', 'k']\n",
        "plt.figure(figsize=(8, 8))\n",
        "c = 0\n",
        "n_bars = len(selected)\n",
        "x_pos_base = np.arange(len(summary_data.columns))\n",
        "bar_width = 0.8 / n_bars\n",
        "for name in selected:\n",
        "    values = normalised_data.loc[[name]].values.flatten().tolist()\n",
        "    x_pos = [x + (bar_width * c) for x in x_pos_base]\n",
        "    plt.bar(x_pos, values, color=colours[c % len(colours)],\n",
        "            width=bar_width, edgecolor='white', label='Stores ' + name)\n",
        "    c += 1\n",
        "plt.yticks([0.2, 0.4, 0.6, 0.8, 1.0])\n",
        "x_pos = [x + (bar_width * (c - 1) / 2) for x in x_pos_base]\n",
        "plt.xticks(x_pos, summary_data.columns)\n",
        "plt.legend()\n"
      ],
      "execution_count": null,
      "outputs": []
    },
    {
      "cell_type": "code",
      "metadata": {
        "id": "keH0_a977Ads"
      },
      "source": [
        "#comparative Bar Chart for Medium number of visit\n",
        "normalised_data = summary_data / summary_data.max()\n",
        "print(normalised_data.head())\n",
        "\n",
        "selected = Medium_Number_Stores\n",
        "colours = ['b', 'g', 'r', 'c', 'm', 'y', 'k']\n",
        "plt.figure(figsize=(8, 8))\n",
        "c = 0\n",
        "n_bars = len(selected)\n",
        "x_pos_base = np.arange(len(summary_data.columns))\n",
        "bar_width = 0.8 / n_bars\n",
        "for name in selected:\n",
        "    values = normalised_data.loc[[name]].values.flatten().tolist()\n",
        "    x_pos = [x + (bar_width * c) for x in x_pos_base]\n",
        "    plt.bar(x_pos, values, color=colours[c % len(colours)],\n",
        "            width=bar_width, edgecolor='white', label='Stores ' + name)\n",
        "    c += 1\n",
        "plt.yticks([0.2, 0.4, 0.6, 0.8, 1.0])\n",
        "x_pos = [x + (bar_width * (c - 1) / 2) for x in x_pos_base]\n",
        "plt.xticks(x_pos, summary_data.columns)\n",
        "plt.legend()"
      ],
      "execution_count": null,
      "outputs": []
    },
    {
      "cell_type": "code",
      "metadata": {
        "id": "4naLUOiW8IoY"
      },
      "source": [
        "#comparative Bar Chart for Low number of visit\n",
        "normalised_data = summary_data / summary_data.max()\n",
        "print(normalised_data.head())\n",
        "\n",
        "selected = Low_Number_Store \n",
        "colours = ['b', 'g', 'r', 'c', 'm', 'y', 'k']\n",
        "plt.figure(figsize=(26, 8))\n",
        "c = 0\n",
        "n_bars = len(selected)\n",
        "x_pos_base = np.arange(len(summary_data.columns))\n",
        "bar_width = 1.0 / n_bars\n",
        "for name in selected:\n",
        "    values = normalised_data.loc[[name]].values.flatten().tolist()\n",
        "    x_pos = [x + (bar_width * c) for x in x_pos_base]\n",
        "    plt.bar(x_pos, values, color=colours[c % len(colours)],\n",
        "            width=bar_width, edgecolor='white', label='Stores ' + name)\n",
        "    c += 1\n",
        "plt.yticks([0.2, 0.4, 0.6, 0.8, 1.0])\n",
        "x_pos = [x + (bar_width * (c - 1) / 2) for x in x_pos_base]\n",
        "plt.xticks(x_pos, summary_data.columns)\n",
        "plt.legend()"
      ],
      "execution_count": null,
      "outputs": []
    },
    {
      "cell_type": "code",
      "metadata": {
        "id": "PItF5ekS0MLZ"
      },
      "source": [
        "#comparative Bar Chart for Very Low number of visit\n",
        "normalised_data = summary_data / summary_data.max()\n",
        "print(normalised_data.head())\n",
        "\n",
        "selected = Very_Low_Number_Store\n",
        "colours = ['b', 'g', 'r', 'c', 'm', 'y', 'k']\n",
        "plt.figure(figsize=(26, 8))\n",
        "c = 0\n",
        "n_bars = len(selected)\n",
        "x_pos_base = np.arange(len(summary_data.columns))\n",
        "bar_width = 1.0 / n_bars\n",
        "for name in selected:\n",
        "    values = normalised_data.loc[[name]].values.flatten().tolist()\n",
        "    x_pos = [x + (bar_width * c) for x in x_pos_base]\n",
        "    plt.bar(x_pos, values, color=colours[c % len(colours)],\n",
        "            width=bar_width, edgecolor='white', label='Stores ' + name)\n",
        "    c += 1\n",
        "plt.yticks([0.2, 0.4, 0.6, 0.8, 1.0])\n",
        "x_pos = [x + (bar_width * (c - 1) / 2) for x in x_pos_base]\n",
        "plt.xticks(x_pos, summary_data.columns)\n",
        "plt.legend()            "
      ],
      "execution_count": null,
      "outputs": []
    },
    {
      "cell_type": "code",
      "metadata": {
        "id": "q5N1QPg0P_yT"
      },
      "source": [
        "#Radar plot for High visited stores \n",
        "normalised_data = summary_data / summary_data.max()\n",
        "print(normalised_data.head())\n",
        "\n",
        "selected = High_Number_Stores\n",
        "\n",
        "n_attributes = len(normalised_data.columns)\n",
        "angles = [n / float(n_attributes) * 2 * np.pi for n in range(n_attributes + 1)]\n",
        "plt.figure(figsize=(8, 8))\n",
        "counter = 1\n",
        "for name in selected:\n",
        "    values = normalised_data.loc[[name]].values.flatten().tolist()\n",
        "    values += values[:1]\n",
        "    sub = plt.subplot(2, 2, counter, polar=True)\n",
        "    sub.plot(angles, values)\n",
        "    sub.fill(angles, values, alpha=0.1)\n",
        "    sub.set_ylim(ymax=1.05)\n",
        "    sub.set_yticks([0.2, 0.4, 0.6, 0.8, 1.0])\n",
        "    sub.set_xticks(angles[0:-1])\n",
        "    sub.set_xticklabels(normalised_data.columns, fontsize=8)\n",
        "    sub.set_title('Stores ' + name, fontsize=12, loc='left')\n",
        "    counter += 1\n",
        "plt.tight_layout()"
      ],
      "execution_count": null,
      "outputs": []
    },
    {
      "cell_type": "code",
      "metadata": {
        "id": "ej-TByGW-CkY"
      },
      "source": [
        "#Radar plot for Medium visited stores \n",
        "normalised_data = summary_data / summary_data.max()\n",
        "print(normalised_data.head())\n",
        "\n",
        "selected = Medium_Number_Stores\n",
        "\n",
        "n_attributes = len(normalised_data.columns)\n",
        "angles = [n / float(n_attributes) * 2 * np.pi for n in range(n_attributes + 1)]\n",
        "plt.figure(figsize=(10, 10))\n",
        "counter = 1\n",
        "for name in selected:\n",
        "    values = normalised_data.loc[[name]].values.flatten().tolist()\n",
        "    values += values[:1]\n",
        "    sub = plt.subplot(3, 3, counter, polar=True)\n",
        "    sub.plot(angles, values)\n",
        "    sub.fill(angles, values, alpha=0.1)\n",
        "    sub.set_ylim(ymax=1.05)\n",
        "    sub.set_yticks([0.2, 0.4, 0.6, 0.8, 1.0])\n",
        "    sub.set_xticks(angles[0:-1])\n",
        "    sub.set_xticklabels(normalised_data.columns, fontsize=8)\n",
        "    sub.set_title('Stores ' + name, fontsize=12, loc='left')\n",
        "    counter += 1\n",
        "plt.tight_layout()"
      ],
      "execution_count": null,
      "outputs": []
    },
    {
      "cell_type": "code",
      "metadata": {
        "id": "1fy2_sZkOE3H"
      },
      "source": [
        "#Radarplot for high number overlaid visiting\n",
        "normalised_data = summary_data / summary_data.max()\n",
        "print(normalised_data.head())\n",
        "\n",
        "selected = High_Number_Stores\n",
        "\n",
        "\n",
        "n_attributes = len(normalised_data.columns)\n",
        "angles = [n / float(n_attributes) * 2 * np.pi for n in range(n_attributes + 1)]\n",
        "colours = ['b', 'g', 'r', 'c', 'm', 'y', 'k', 'w']\n",
        "c = 0\n",
        "plt.figure(figsize=(8, 8))\n",
        "sub = plt.subplot(1, 1, 1, polar=True)\n",
        "for name in selected:\n",
        "    values = normalised_data.loc[[name]].values.flatten().tolist()\n",
        "    values += values[:1]\n",
        "    sub.plot(angles, values, colours[c % len(colours)], label='Product ' + name)\n",
        "    sub.fill(angles, values, colours[c % len(colours)], alpha=0.1)\n",
        "    sub.set_ylim(ymax=1.05)\n",
        "    sub.set_yticks([0.2, 0.4, 0.6, 0.8, 1.0])\n",
        "    sub.set_xticks(angles[0:-1])\n",
        "    sub.set_xticklabels(normalised_data.columns)\n",
        "    c += 1\n",
        "plt.legend(loc=1)"
      ],
      "execution_count": null,
      "outputs": []
    },
    {
      "cell_type": "code",
      "metadata": {
        "id": "ZsCjG4N9vcBr"
      },
      "source": [
        "#Radarplot for Medium number overlaid visiting\n",
        "normalised_data = summary_data / summary_data.max()\n",
        "print(normalised_data.head())\n",
        "\n",
        "selected = Medium_Number_Stores\n",
        "\n",
        "n_attributes = len(normalised_data.columns)\n",
        "angles = [n / float(n_attributes) * 2 * np.pi for n in range(n_attributes + 1)]\n",
        "colours = ['b', 'g', 'r', 'c', 'm', 'y', 'k', 'w']\n",
        "c = 0\n",
        "plt.figure(figsize=(8, 8))\n",
        "sub = plt.subplot(1, 1, 1, polar=True)\n",
        "for name in selected:\n",
        "    values = normalised_data.loc[[name]].values.flatten().tolist()\n",
        "    values += values[:1]\n",
        "    sub.plot(angles, values, colours[c % len(colours)], label='Product ' + name)\n",
        "    sub.fill(angles, values, colours[c % len(colours)], alpha=0.1)\n",
        "    sub.set_ylim(ymax=1.05)\n",
        "    sub.set_yticks([0.2, 0.4, 0.6, 0.8, 1.0])\n",
        "    sub.set_xticks(angles[0:-1])\n",
        "    sub.set_xticklabels(normalised_data.columns)\n",
        "    c += 1\n",
        "plt.legend(loc=\"best\")"
      ],
      "execution_count": null,
      "outputs": []
    },
    {
      "cell_type": "code",
      "metadata": {
        "id": "0nzDjh_LPHve"
      },
      "source": [
        "#correlogram plot showing the correlation between various categories of the summary data\n",
        "\n",
        "sns.pairplot(summary_data, height=1.5, plot_kws={'s': 20})"
      ],
      "execution_count": null,
      "outputs": []
    },
    {
      "cell_type": "code",
      "metadata": {
        "id": "BS02dDd35-3X"
      },
      "source": [
        "#scatter plot for Marketing against Customers\n",
        "plt.figure(figsize=(8, 8))\n",
        "plt.scatter(summary_data['Customer'], summary_data['Marketing'])\n",
        "z = np.polyfit(summary_data['Customer'], summary_data['Marketing'], 1)\n",
        "trend = np.poly1d(z)\n",
        "plt.plot(summary_data['Customer'], trend(summary_data['Customer']))\n",
        "plt.title('Marketing spend for stores vs Customer visit', fontsize=20)\n",
        "plt.xlabel('Marketing spend (£)', fontsize=18)\n",
        "plt.ylabel('Customer visit', fontsize=18)\n",
        "plt.show()\n"
      ],
      "execution_count": null,
      "outputs": []
    },
    {
      "cell_type": "code",
      "metadata": {
        "id": "A-NHI8XL6EXM"
      },
      "source": [
        "#scatter plot for Marketing against store`s size\n",
        "plt.figure(figsize=(8, 8))\n",
        "plt.scatter(summary_data['Customer'], summary_data['size'])\n",
        "z = np.polyfit(summary_data['Customer'], summary_data['size'], 1)\n",
        "trend = np.poly1d(z)\n",
        "plt.plot(summary_data['Customer'], trend(summary_data['Customer']))\n",
        "plt.title('store size vs Customer visit', fontsize=20)\n",
        "plt.xlabel('store_size (msq)', fontsize=18)\n",
        "plt.ylabel('Customer visit', fontsize=18)\n"
      ],
      "execution_count": null,
      "outputs": []
    },
    {
      "cell_type": "code",
      "metadata": {
        "id": "oTjK6Ulp6xeq"
      },
      "source": [
        "#scatter plot for Marketing against Overhead cost\n",
        "plt.figure(figsize=(8, 8))\n",
        "plt.scatter(summary_data['Overhead'], summary_data['Marketing'])\n",
        "z = np.polyfit(summary_data['Overhead'], summary_data['Marketing'], 1)\n",
        "trend = np.poly1d(z)\n",
        "plt.plot(summary_data['Overhead'], trend(summary_data['Overhead']))\n",
        "plt.title('Marketing spend for stores vs Overhead cost', fontsize=20)\n",
        "plt.xlabel('Marketing spend (£)', fontsize=18)\n",
        "plt.ylabel('Overhead cost (£)', fontsize=18)\n",
        "plt.show()\n"
      ],
      "execution_count": null,
      "outputs": []
    },
    {
      "cell_type": "code",
      "metadata": {
        "id": "KHUxaBt0UY1Y"
      },
      "source": [
        "#scatter plot for high number of visit\n",
        "selected = High_Number_Stores \n",
        "for i, name_i in enumerate(selected):\n",
        "    for j in range(i + 1, len(selected)):\n",
        "        name_j = selected[j]\n",
        "        plt.figure(figsize=(8, 8))\n",
        "        plt.scatter(summary_data[name_i], summary_data[name_j])\n",
        "        plt.title('Store ' + name_i + ' vs Store ' + name_j, fontsize=20)\n",
        "        plt.xlabel('Store ' + name_i, fontsize=18)\n",
        "        plt.ylabel('Store ' + name_j, fontsize=18)\n",
        "        plt.show()\n"
      ],
      "execution_count": null,
      "outputs": []
    },
    {
      "cell_type": "code",
      "metadata": {
        "id": "hdOvvqwfU8Ra"
      },
      "source": [
        "#scatter plot medium number of visits\n",
        "selected = Medium_Number_Stores \n",
        "for i, name_i in enumerate(selected):\n",
        "    for j in range(i + 1, len(selected)):\n",
        "        name_j = selected[j]\n",
        "        plt.figure(figsize=(8, 8))\n",
        "        plt.scatter(summary_data[name_i], summary_data[name_j])\n",
        "        plt.title('Store ' + name_i + ' vs Store ' + name_j, fontsize=20)\n",
        "        plt.xlabel('Store ' + name_i, fontsize=18)\n",
        "        plt.ylabel('Store ' + name_j, fontsize=18)\n",
        "        plt.show()"
      ],
      "execution_count": null,
      "outputs": []
    },
    {
      "cell_type": "code",
      "metadata": {
        "id": "30G1HxyTWBph"
      },
      "source": [
        "#scatter plot low number of visits\n",
        "selected = Low_Number_Store\n",
        "\n",
        "for i, name_i in enumerate(selected):\n",
        "    for j in range(i + 1, len(selected)):\n",
        "        name_j = selected[j]\n",
        "        plt.figure(figsize=(8, 8))\n",
        "        plt.scatter(summary_data[name_i], data[name_j])\n",
        "        plt.title('Store ' + name_i + ' vs Store ' + name_j, fontsize=20)\n",
        "        plt.xlabel('Store ' + name_i, fontsize=18)\n",
        "        plt.ylabel('Store ' + name_j, fontsize=18)\n",
        "        plt.show()"
      ],
      "execution_count": null,
      "outputs": []
    },
    {
      "cell_type": "code",
      "metadata": {
        "id": "XbLb3LLNArYY"
      },
      "source": [
        "# scatter Plot for Very Low number of visits\n",
        "selected = Very_Low_Number_Store\n",
        "\n",
        "for i, name_i in enumerate(selected):\n",
        "    for j in range(i + 1, len(selected)):\n",
        "        name_j = selected[j]\n",
        "        plt.figure(figsize=(8, 8))\n",
        "        plt.scatter(summary_data[name_i], data[name_j])\n",
        "        plt.title('Store ' + name_i + ' vs Store ' + name_j, fontsize=20)\n",
        "        plt.xlabel('Store ' + name_i, fontsize=18)\n",
        "        plt.ylabel('Store ' + name_j, fontsize=18)\n",
        "        plt.show()"
      ],
      "execution_count": null,
      "outputs": []
    },
    {
      "cell_type": "code",
      "metadata": {
        "id": "MpQz1uu2aNyx"
      },
      "source": [
        "#scatter subplot for High number of visits\n",
        "selected = High_Number_Stores\n",
        "counter = 1\n",
        "fig = plt.figure(figsize=(12, 12))\n",
        "fig.suptitle('Stores Customer Visits correlations', fontsize=20, position=(0.5, 1.0))\n",
        "plt.subplots_adjust(wspace=0.4, hspace=0.4)\n",
        "for i, name_i in enumerate(selected):\n",
        "    for j in range(i + 1, len(selected)):\n",
        "        name_j = selected[j]\n",
        "        sub = fig.add_subplot(3, 3, counter)\n",
        "        sub.set_title(name_i + ' vs ' + name_j, fontsize=10)\n",
        "        sub.scatter(summary_data[name_i], summary_data[name_j], s=0.5)\n",
        "        counter += 1"
      ],
      "execution_count": null,
      "outputs": []
    },
    {
      "cell_type": "markdown",
      "metadata": {
        "id": "nBVFWHlEOdmb"
      },
      "source": [
        "There is no sign of correlation with the high number of visits\n"
      ]
    },
    {
      "cell_type": "code",
      "metadata": {
        "id": "kNOqxvtgbPPW"
      },
      "source": [
        "#scatter subplot for medium number of visits\n",
        "selected = Medium_Number_Stores\n",
        "counter = 1\n",
        "fig = plt.figure(figsize=(30, 30))\n",
        "fig.suptitle('Stores Customer Visits correlations', fontsize=20, position=(0.5, 1.0))\n",
        "plt.subplots_adjust(wspace=0.4, hspace=0.4)\n",
        "for i, name_i in enumerate(selected):\n",
        "    for j in range(i + 1, len(selected)):\n",
        "        name_j = selected[j]\n",
        "        sub = fig.add_subplot(6, 5, counter)\n",
        "        sub.set_title(name_i + ' vs ' + name_j, fontsize=10)\n",
        "        sub.scatter(summary_data[name_i], summary_data[name_j], s=0.5)\n",
        "        counter += 1\n",
        "plt.show()"
      ],
      "execution_count": null,
      "outputs": []
    },
    {
      "cell_type": "markdown",
      "metadata": {
        "id": "9HKnLANaOrGg"
      },
      "source": [
        "The stores with strong correlation are PAA VS QMD, PAA VS NAQ, QMD VS NAQ, QMD VS PGL and NAQ VS PGL "
      ]
    },
    {
      "cell_type": "code",
      "metadata": {
        "id": "iOKnojuotHtX"
      },
      "source": [
        "#scatter plot low number of visits\n",
        "selected = Low_Number_Store\n",
        "counter = 1\n",
        "fig = plt.figure(figsize=(40, 40))\n",
        "fig.suptitle('Stores Customer Visits correlations', fontsize=20, position=(0.5, 1.0))\n",
        "plt.subplots_adjust(wspace=0.4, hspace=0.4)\n",
        "for i, name_i in enumerate(selected):\n",
        "    for j in range(i + 1, len(selected)):\n",
        "        name_j = selected[j]\n",
        "        sub = fig.add_subplot(22, 22, counter)\n",
        "        sub.set_title(name_i + ' vs ' + name_j, fontsize=10)\n",
        "        sub.scatter(summary_data[name_i], summary_data[name_j], s=0.5)\n",
        "        counter += 1\n",
        "plt.show()\n"
      ],
      "execution_count": null,
      "outputs": []
    },
    {
      "cell_type": "markdown",
      "metadata": {
        "id": "3AniS0yEPYpn"
      },
      "source": [
        "No sign of correlation"
      ]
    },
    {
      "cell_type": "code",
      "metadata": {
        "id": "20KvVmmv26bk"
      },
      "source": [
        "#Scatter Plot for very low number of visits\n",
        "selected = Very_Low_Number_Store\n",
        "counter = 1\n",
        "fig = plt.figure(figsize=(40, 40))\n",
        "fig.suptitle('Stores Customer Visits correlations', fontsize=20, position=(0.5, 1.0))\n",
        "plt.subplots_adjust(wspace=0.4, hspace=0.4)\n",
        "for i, name_i in enumerate(selected):\n",
        "    for j in range(i + 1, len(selected)):\n",
        "        name_j = selected[j]\n",
        "        sub = fig.add_subplot(22, 22, counter)\n",
        "        sub.set_title(name_i + ' vs ' + name_j, fontsize=10)\n",
        "        sub.scatter(summary_data[name_i], summary_data[name_j], s=0.5)\n",
        "        counter += 1\n",
        "plt.show()"
      ],
      "execution_count": null,
      "outputs": []
    },
    {
      "cell_type": "code",
      "metadata": {
        "id": "lfG31Jw8wIpj"
      },
      "source": [
        "#scatter subplot inverse for high number of visits\n",
        "selected = High_Number_Stores\n",
        "counter = 1\n",
        "fig = plt.figure(figsize=(18, 18))\n",
        "fig.suptitle('Stores Customer Visits correlations', fontsize=20, position=(0.5, 1.0))\n",
        "for i, name_i in enumerate(selected):\n",
        "    for j in range(i + 1, len(selected)):\n",
        "        name_j = selected[j]\n",
        "        sub = fig.add_subplot(8, 8, counter)\n",
        "        sub.set_title(name_i + ' vs ' + name_j, fontsize=16)\n",
        "        sub.scatter(summary_data[name_i], summary_data[name_j], s=5)\n",
        "        counter += 1\n",
        "plt.subplots_adjust(wspace=0.4, hspace=0.4)\n",
        "plt.tight_layout()"
      ],
      "execution_count": null,
      "outputs": []
    },
    {
      "cell_type": "code",
      "metadata": {
        "id": "rRffY4xxu-_9"
      },
      "source": [
        "#scatter subplot inverse for medium number of visits\n",
        "selected = Medium_Number_Stores\n",
        "counter = 1\n",
        "fig = plt.figure(figsize=(18, 18))\n",
        "fig.suptitle('Stores Customer Visits correlations', fontsize=20, position=(0.5, 1.0))\n",
        "for i, name_i in enumerate(selected):\n",
        "    for j in range(i + 1, len(selected)):\n",
        "        name_j = selected[j]\n",
        "        sub = fig.add_subplot(8, 8, counter)\n",
        "        sub.set_title(name_i + ' vs ' + name_j, fontsize=16)\n",
        "        sub.scatter(summary_data[name_i], summary_data[name_j], s=5)\n",
        "        counter += 1\n",
        "plt.subplots_adjust(wspace=0.4, hspace=0.4)\n",
        "plt.tight_layout()\n"
      ],
      "execution_count": null,
      "outputs": []
    },
    {
      "cell_type": "code",
      "metadata": {
        "id": "D2-DVNSib_rr"
      },
      "source": [
        "#HeatMap showing the correlation between the summary data\n",
        "plt.figure(figsize=(8, 8))\n",
        "corr = summary_data.corr()\n",
        "ax = sns.heatmap(corr, vmin=-1, vmax=1, center=0, cmap=sns.diverging_palette(220, 20, n=200), square=True, annot=True,\n",
        "                 annot_kws={\"size\": 8})\n",
        "ax.set_xticklabels(ax.get_xticklabels(), rotation=45, horizontalalignment='right')\n",
        "ax.set_yticklabels(ax.get_yticklabels(), rotation=360, horizontalalignment='right')\n",
        "summary_data.corr()"
      ],
      "execution_count": null,
      "outputs": []
    },
    {
      "cell_type": "markdown",
      "metadata": {
        "id": "HFLADAlLK3IV"
      },
      "source": [
        "There is a strong positive correlation between size of the store and the number of staff, number of customers that visit the store and marketing.\n",
        "Also there seems to be a very strong correlation between the number of customers and marketing of the store. which shows the better the advertisment mafe to the store the more people visit the stores to buy various of eye catching items.\n",
        "whereas, the heat map shows a strong negative correlation of the overhead cost with staff and other being the strongest, followed by size of the store,"
      ]
    },
    {
      "cell_type": "code",
      "metadata": {
        "id": "-fGNO119caX9"
      },
      "source": [
        "# Bubble plot for High and Medium volume customer visits\n",
        "selected = High_Number_Stores + Medium_Number_Stores\n",
        "summary_data = summary_data.loc[selected]\n",
        "\n",
        "summary_data['BubbleSize'] = summary_data['Size'] * 0.3\n",
        "\n",
        "plt.figure(figsize=(12, 8))\n",
        "plt.scatter(summary_data['Customer'], summary_data['Marketing'], s=summary_data['BubbleSize'], alpha=0.5)\n",
        "plt.xticks([0, 50000, 100000, 150000, 200000, 250000, 300000, 350000])\n",
        "plt.yticks([0, 5000, 10000, 15000, 20000, 25000, 30000, 35000])\n",
        "plt.title('Total Customer`s Visits vs Marketing (vs Size)', fontsize=20)\n",
        "plt.xlabel('Customer', fontsize=18)\n",
        "plt.ylabel('Marketing', fontsize=18)\n",
        "for i, name in enumerate(summary_data.index):\n",
        "    plt.annotate(name + \"(\" + str(summary_data[\"Size\"][i]) + \"s)\", (summary_data['Customer'][i], summary_data['Marketing'][i])) \n",
        "    # plt.annotate(f\"{name} ({summary_data['Size'][i]:.1f}s)\", (summary_data['customer'][i], summary_data['Marketing'][i]))\n",
        "plt.plot([0, 50], [0, 50], linestyle=':', color='r', label='Customer = Marketing (zero Customer)')\n",
        "plt.legend(loc=2)"
      ],
      "execution_count": null,
      "outputs": []
    },
    {
      "cell_type": "code",
      "metadata": {
        "id": "nMIX6MRjmPmX"
      },
      "source": [
        "#Histogram subplot for all stores  \n",
        "counter = 1\n",
        "fig = plt.figure(figsize=(18, 18))\n",
        "fig.suptitle('Customer Visits to Stores', fontsize=20, position=(0.5, 1.0))\n",
        "for name in data:\n",
        "    sub = fig.add_subplot(8, 8, counter)\n",
        "    sub.set_title('Stores ' + name, fontsize=10)\n",
        "    sub.hist(data[name], edgecolor='w')\n",
        "    counter += 1\n",
        "plt.subplots_adjust(wspace=0.5, hspace=0.5)"
      ],
      "execution_count": null,
      "outputs": []
    },
    {
      "cell_type": "code",
      "metadata": {
        "id": "YBjBTzLVsODO"
      },
      "source": [
        "#High number of visit of histogram subplot\n",
        "selected = High_Number_Stores\n",
        "x_min = 400\n",
        "x_max = 1700\n",
        "bin_width = 20\n",
        "\n",
        "n_bins = int((bin_width + x_max - x_min) / bin_width)\n",
        "print(str(n_bins) + ' bins')\n",
        "bins = [(x_min + x * (bin_width + x_max - x_min) / n_bins) for x in range(int(n_bins))]\n",
        "\n",
        "fig = plt.figure(figsize=(12, 12))\n",
        "fig.suptitle('High Number customer store visit', fontsize=20, position=(0.5, 1.0))\n",
        "counter = 1\n",
        "for name in selected:\n",
        "    sub = fig.add_subplot(2, 2, counter)\n",
        "    sub.hist(data[name], bins, edgecolor='w')\n",
        "    sub.set_title('Store ' + name, fontsize=10)\n",
        "    sub.set_xlim(xmin=x_min, xmax=x_max)\n",
        "    sub.set_ylim(ymin=0, ymax=40)\n",
        "    counter += 1"
      ],
      "execution_count": null,
      "outputs": []
    },
    {
      "cell_type": "code",
      "metadata": {
        "id": "6bIhsgw7sf4w"
      },
      "source": [
        "#Medium number of visit of Histogram subplot\n",
        "selected = Medium_Number_Stores\n",
        "x_min = 100\n",
        "x_max = 800\n",
        "bin_width = 10\n",
        "\n",
        "n_bins = int((bin_width + x_max - x_min) / bin_width)\n",
        "print(str(n_bins) + ' bins')\n",
        "bins = [(x_min + x * (bin_width + x_max - x_min) / n_bins) for x in range(int(n_bins))]\n",
        "\n",
        "fig = plt.figure(figsize=(20, 20))\n",
        "fig.suptitle('Medium Number customer store visit', fontsize=20, position=(0.5, 1.0))\n",
        "counter = 1\n",
        "for name in selected:\n",
        "    sub = fig.add_subplot(3, 3, counter)\n",
        "    sub.hist(summary_data[name], bins, edgecolor='w')\n",
        "    sub.set_title('Store ' + name, fontsize=10)\n",
        "    sub.set_xlim(xmin=x_min, xmax=x_max)\n",
        "    sub.set_ylim(ymin=0, ymax=70)\n",
        "    counter += 1\n",
        "plt.subplots_adjust(wspace=0.4, hspace=0.4)\n",
        "plt.show()"
      ],
      "execution_count": null,
      "outputs": []
    },
    {
      "cell_type": "code",
      "metadata": {
        "id": "6PPwxZMYwhxR"
      },
      "source": [
        "#High number of customer visit Boxplot **\n",
        "selected = High_Number_Stores\n",
        "plt.figure(figsize=(8, 8))\n",
        "# data[selected].boxplot()\n",
        "plt.boxplot(summary_data[selected].transpose(), labels=selected)\n",
        "plt.xlabel('Store', fontsize=18)\n",
        "plt.ylabel('Number of Visit per day', fontsize=18)\n",
        "plt.title('High Number Store Visit distributions', fontsize=20)\n",
        "plt.show()\n"
      ],
      "execution_count": null,
      "outputs": []
    },
    {
      "cell_type": "code",
      "metadata": {
        "id": "-4K87TJgxWJZ"
      },
      "source": [
        "#Medium number of customer visit Boxplot\n",
        "selected = Medium_Number_Stores\n",
        "plt.figure(figsize=(8, 8))\n",
        "# data[selected].boxplot()\n",
        "plt.boxplot(summary_data[selected].transpose(), labels=selected)\n",
        "plt.xlabel('Store', fontsize=18)\n",
        "plt.ylabel('Number of Visit per day', fontsize=18)\n",
        "plt.title('Medium Number Store Visit distributions', fontsize=20)\n",
        "plt.show()"
      ],
      "execution_count": null,
      "outputs": []
    },
    {
      "cell_type": "code",
      "metadata": {
        "id": "wsKkU5y7y5m9"
      },
      "source": [
        "#Low number of store visit Boxplot\n",
        "selected = Low_Number_Store\n",
        "plt.figure(figsize=(14, 14))\n",
        "# data[selected].boxplot()\n",
        "plt.boxplot(summary_data[selected].transpose(), labels=selected)\n",
        "plt.xlabel('Store', fontsize=18)\n",
        "plt.ylabel('Number of Visit per day', fontsize=18)\n",
        "plt.title('Low Number Store Visit distributions', fontsize=20)\n",
        "plt.show()            "
      ],
      "execution_count": null,
      "outputs": []
    },
    {
      "cell_type": "code",
      "metadata": {
        "id": "JjbTISRWqqQp"
      },
      "source": [
        "#Very Low number of store visit Boxplot\n",
        "selected = Very_Low_Number_Store\n",
        "plt.figure(figsize=(14, 14))\n",
        "# data[selected].boxplot()\n",
        "plt.boxplot(summary_data[selected].transpose(), labels=selected)\n",
        "plt.xlabel('Store', fontsize=18)\n",
        "plt.ylabel('Number of Visit per day', fontsize=18)\n",
        "plt.title('Very Low Number Store Visit distributions', fontsize=20)"
      ],
      "execution_count": null,
      "outputs": []
    },
    {
      "cell_type": "code",
      "metadata": {
        "id": "XsRMFRnC0IVc"
      },
      "source": [
        "#Lineplot for all subplot store visit\n",
        "counter = 1\n",
        "fig = plt.figure(figsize=(40, 40))\n",
        "fig.suptitle('Store visit', fontsize=20, position=(0.5, 1.0))\n",
        "for name in summary_data.columns:\n",
        "    sub = fig.add_subplot(20, 20, counter)\n",
        "    sub.set_title('Store ' + name, fontsize=10)\n",
        "    sub.plot(summary_data.index, summary_data[name], linewidth=0.5)\n",
        "    sub.axes.get_xaxis().set_ticks([])  # remove the x ticks\n",
        "    counter += 1\n",
        "plt.subplots_adjust(wspace=0.4, hspace=0.4)\n",
        "plt.show()\n"
      ],
      "execution_count": null,
      "outputs": []
    },
    {
      "cell_type": "code",
      "metadata": {
        "id": "p3lei8i6n8nF"
      },
      "source": [
        "#Autocorrelation for high number of visit \n",
        "selected = High_Number_Stores\n",
        "for name in selected:\n",
        "    pd.plotting.autocorrelation_plot(data[name])\n",
        "    # plt.xlim([0, 50]) # uncomment this line to zoom in\n",
        "    plt.title('Store ' + name)\n",
        "    plt.show()"
      ],
      "execution_count": null,
      "outputs": []
    },
    {
      "cell_type": "code",
      "metadata": {
        "id": "2P2-rstWokpa"
      },
      "source": [
        "#Autocorrelation for medium number of visit \n",
        "selected =  Medium_Number_Stores\n",
        "for name in selected:\n",
        "    pd.plotting.autocorrelation_plot(data[name])\n",
        "    # plt.xlim([0, 50]) # uncomment this line to zoom in\n",
        "    plt.title('Store ' + name)\n",
        "    plt.show()"
      ],
      "execution_count": null,
      "outputs": []
    },
    {
      "cell_type": "code",
      "metadata": {
        "id": "h1Vo1IcvpboE"
      },
      "source": [
        "#low visiting number autocorrelation\n",
        "selected = Low_Number_Store\n",
        "\n",
        "for name in selected:\n",
        "    pd.plotting.autocorrelation_plot(data[name])\n",
        "    # plt.xlim([0, 50]) # uncomment this line to zoom in\n",
        "    plt.title('Store ' + name)\n",
        "    plt.show()"
      ],
      "execution_count": null,
      "outputs": []
    },
    {
      "cell_type": "code",
      "metadata": {
        "id": "B40QLdJ4CtGG"
      },
      "source": [
        "#Very Low number of Visiting correlation\n",
        "selected = Very_Low_Number_Store\n",
        "\n",
        "for name in selected:\n",
        "    pd.plotting.autocorrelation_plot(data[name])\n",
        "    # plt.xlim([0, 50]) # uncomment this line to zoom in\n",
        "    plt.title('Store ' + name)\n",
        "    plt.show()"
      ],
      "execution_count": null,
      "outputs": []
    },
    {
      "cell_type": "code",
      "metadata": {
        "id": "FACqxvVyqAgv"
      },
      "source": [
        "#Quaterly Line Plot Decompostion for High numer of visiting \n",
        "selected = High_Number_Stores\n",
        "for name in selected:\n",
        "    result = seasonal_decompose(data[name], model='multiplicative', freq=91)\n",
        "    result.plot()\n",
        "    plt.suptitle('Store ' + name, position=(0.5, 1.0))\n",
        "    plt.show()"
      ],
      "execution_count": null,
      "outputs": []
    },
    {
      "cell_type": "code",
      "metadata": {
        "id": "2uI6Xg46qATU"
      },
      "source": [
        "#Quaterly Line Plot Decompostion for Medium numer of visiting \n",
        "selected =  Medium_Number_Stores\n",
        "for name in selected:\n",
        "    result = seasonal_decompose(data[name], model='multiplicative', freq=91)\n",
        "    result.plot()\n",
        "    plt.suptitle('Product ' + name, position=(0.5, 1.0))\n",
        "    plt.show()"
      ],
      "execution_count": null,
      "outputs": []
    },
    {
      "cell_type": "code",
      "metadata": {
        "id": "NYHvrOloqAD0"
      },
      "source": [
        "#Quaterly Line Plot Decompostion for Low numer of visiting \n",
        "selected = Low_Number_Store\n",
        "for name in selected:\n",
        "    result = seasonal_decompose(data[name], model='additive', freq=91)\n",
        "    result.plot()\n",
        "    plt.suptitle('Stores ' + name, position=(0.5, 1.0))\n",
        "    plt.show()\n"
      ],
      "execution_count": null,
      "outputs": []
    },
    {
      "cell_type": "code",
      "metadata": {
        "id": "lEXH0MKpB3-z"
      },
      "source": [
        "#Quaterly Line Plot Decompostion for Very Low numer of visiting \n",
        "selected = Very_Low_Number_Store\n",
        "for name in selected:\n",
        "    result = seasonal_decompose(data[name], model='additive', freq=91)\n",
        "    result.plot()\n",
        "    plt.suptitle('Stores ' + name, position=(0.5, 1.0))\n",
        "    plt.show()"
      ],
      "execution_count": null,
      "outputs": []
    },
    {
      "cell_type": "code",
      "metadata": {
        "id": "UrxbHMdRq57X"
      },
      "source": [
        "#High number for Weekly Line Plot Decompostion\n",
        "selected = High_Number_Stores\n",
        "for name in selected:\n",
        "    result = seasonal_decompose(data[name], model='multiplicative', freq=7)\n",
        "    result.plot()\n",
        "    plt.suptitle('Stores ' + name, position=(0.5, 1.0))\n",
        "    plt.show()"
      ],
      "execution_count": null,
      "outputs": []
    },
    {
      "cell_type": "code",
      "metadata": {
        "id": "f6jYt-lCrn-m"
      },
      "source": [
        "#Medium number of Weekly Line Plot Decomposition\n",
        "selected =  Medium_Number_Stores\n",
        "\n",
        "for name in selected:\n",
        "    result = seasonal_decompose(data[name], model='multiplicative', freq=7)\n",
        "    result.plot()\n",
        "    plt.suptitle('Stores ' + name, position=(0.5, 1.0))\n",
        "    plt.show()"
      ],
      "execution_count": null,
      "outputs": []
    },
    {
      "cell_type": "code",
      "metadata": {
        "id": "eHGQ2thgq1ej"
      },
      "source": [
        "#Low number of weekly Line decomposition\n",
        "selected = ['EFN', 'YGY', 'TSE', 'WMB', 'ENY', 'WYG', 'TAP', 'BTB', 'BZM', 'XML', 'UGJ', \n",
        "            'CFG', 'VSM', 'UMU'] \n",
        "for name in selected:\n",
        "    result = seasonal_decompose(data[name], model='additive', freq=7)\n",
        "    result.plot()\n",
        "    plt.suptitle('Stores ' + name, position=(0.5, 1.0))\n",
        "    plt.show()"
      ],
      "execution_count": null,
      "outputs": []
    },
    {
      "cell_type": "code",
      "metadata": {
        "id": "qXLAG1Fxq2vx"
      },
      "source": [
        "#Line Plot Decomposition for Very Low number of visiting\n",
        "selected = Very_Low_Number_Store\n",
        "for name in selected:\n",
        "    result = seasonal_decompose(summary_data[name], model='additive', freq=7)\n",
        "    result.plot()\n",
        "    plt.suptitle('Stores ' + name, position=(0.5, 1.0))\n",
        "    plt.show()"
      ],
      "execution_count": null,
      "outputs": []
    }
  ]
}