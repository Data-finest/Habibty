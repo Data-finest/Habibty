{
  "cells": [
    {
      "cell_type": "markdown",
      "metadata": {
        "id": "view-in-github",
        "colab_type": "text"
      },
      "source": [
        "<a href=\"https://colab.research.google.com/github/Data-finest/Habibty/blob/main/Project_Dikjstra.ipynb\" target=\"_parent\"><img src=\"https://colab.research.google.com/assets/colab-badge.svg\" alt=\"Open In Colab\"/></a>"
      ]
    },
    {
      "cell_type": "markdown",
      "source": [
        "\\\n",
        "### SHORTEST PATH ALGORITHM"
      ],
      "metadata": {
        "id": "oKLbEEmVMcpt"
      }
    },
    {
      "cell_type": "code",
      "execution_count": null,
      "metadata": {
        "id": "hFtr2-5th1P-"
      },
      "outputs": [],
      "source": [
        "#Importing of Libraries\n",
        "import geopy.distance\n",
        "import pandas as pd\n",
        "\n",
        "#Mount file from google drive \n",
        "from google.colab import drive\n",
        "drive.mount(\"/content/drive\", force_remount=True)"
      ]
    },
    {
      "cell_type": "code",
      "execution_count": null,
      "metadata": {
        "id": "iUy2_C0AwfhB"
      },
      "outputs": [],
      "source": [
        "#Read csv file from google drive\n",
        "pd.set_option(\"display.precision\", 10)\n",
        "# data = pd.read_csv(\"/content/drive/MyDrive/shortest_path/Location_CuttySark _New.csv\")\n",
        "data = pd.read_csv(\"/content/drive/MyDrive/shortest_path/Location_Cutty_Sark c (2)\")\n",
        "# data.head() # store the data in a csv file\n",
        "\n",
        "data "
      ]
    },
    {
      "cell_type": "markdown",
      "source": [
        "\\\n",
        "### Extracting the longitude, latitude and location into a dictionary data structure."
      ],
      "metadata": {
        "id": "q0hktWz6M-Pv"
      }
    },
    {
      "cell_type": "code",
      "execution_count": null,
      "metadata": {
        "id": "8GSlFGVgiF8m"
      },
      "outputs": [],
      "source": [
        "# extractinhg the longitude, latitude and location into a dictionary data structure\n",
        "subset = data[:16]\n",
        "keys = subset['Location']\n",
        "lats = subset['Latitude']\n",
        "longs = subset['Longitude']\n",
        "loc = {}\n",
        "st = 65\n",
        "for i in range(len(keys)):\n",
        "  # keys[i] = [lats[i], longs[i]]\n",
        "  loc[chr(st+i)] = [lats[i], longs[i]]\n",
        "\n",
        "print(loc)"
      ]
    },
    {
      "cell_type": "markdown",
      "source": [
        "\\\n",
        "### Calculating the distance btw two points given their locations"
      ],
      "metadata": {
        "id": "9r3XcdWHNIcI"
      }
    },
    {
      "cell_type": "code",
      "execution_count": null,
      "metadata": {
        "id": "VNYjlwqIpWwS"
      },
      "outputs": [],
      "source": [
        "\"\"\"\n",
        "  This function calculates the distance in kilometres between two points from the loc dictionary,\n",
        "  given their longitudes and latitudes\n",
        "  param lat1 = latitude of pos 1\n",
        "  param long1 = longitude of pos 1\n",
        "  param lat2 = latitude of pos 2\n",
        "  param long2 = longitude of pos 2\n",
        "\"\"\"\n",
        "def calculate_distance(lat1, long1, lat2, long2):\n",
        "  return geopy.distance.geodesic((lat1, long1), (lat2, long2)).meters\n",
        "  \n",
        "# calculates the distance btw two points given their locations\n",
        "def calc_dist(pos1, pos2):\n",
        "  return calculate_distance(loc[pos1][0], loc[pos1][1], loc[pos2][0], loc[pos2][1])\n",
        "\n",
        "def print_dist(p1, p2):\n",
        "    d = round(calc_dist(p1, p2), 4)\n",
        "    print(f'Distance from {p1} to {p2} is {d} metres')\n",
        "    return d\n",
        "# gr.add_vertice('A', 'B', calculate_distance(loc['A'][0], loc['A'][1],loc['B'][0],loc['B'][1]))\n",
        "def debug_distances(path):\n",
        "    total = 0\n",
        "    for i in range(len(path) - 1):\n",
        "        total += print_dist(path[i], path[i+1])\n",
        "    print ('Total Distance = ', total,' metres', '\\n')\n",
        "    return total\n",
        "\n",
        "debug_distances(['O', 'N', 'M', 'K', 'L', 'G', 'F', 'A'])\n",
        "debug_distances(['A', 'B', 'D', 'E', 'I', 'J', 'N'])"
      ]
    },
    {
      "cell_type": "code",
      "execution_count": null,
      "metadata": {
        "id": "lW6A53chMqDq"
      },
      "outputs": [],
      "source": [
        "dist = calc_dist('G', 'H')\n",
        "print(f'Distance from G to H is {round(dist, 4)} metres')"
      ]
    },
    {
      "cell_type": "markdown",
      "metadata": {
        "id": "vhNH-Qhrkt6-"
      },
      "source": [
        "### Data structure to store the Graph"
      ]
    },
    {
      "cell_type": "code",
      "execution_count": null,
      "metadata": {
        "id": "s-B3FRKykq1y"
      },
      "outputs": [],
      "source": [
        "class Graph:\n",
        "  def __init__(self):\n",
        "    self.root = {}\n",
        "    self.num_edges = 0\n",
        "    self.num_vertices = 0;\n",
        "\n",
        "  def add_edges(self, edges):\n",
        "    for edge in edges:\n",
        "      self.add_edge(edge)\n",
        "\n",
        "  def add_edge(self, edge):\n",
        "    if edge in self.root: \n",
        "      print('edge already in graph')\n",
        "    else:\n",
        "      self.root[edge] = []\n",
        "      self.num_edges = self.num_edges + 1\n",
        "  \n",
        "  def add_vertice(self, from_edge, to_edge, weight):\n",
        "    if from_edge not in self.root:\n",
        "      print(f'edge {from_edge} not in graph, please add using the add_edge() method')\n",
        "      return\n",
        "    if from_edge not in self.root:\n",
        "      print(f'destination edge {to_edge} not in graph, please add using the to_edge() method')\n",
        "      return\n",
        "    self.root[from_edge].append([to_edge, weight])\n",
        "    self.num_vertices = self.num_vertices + 1\n",
        "\n",
        "  def graph(self):\n",
        "    return self.root"
      ]
    },
    {
      "cell_type": "markdown",
      "metadata": {
        "id": "Odzf_cXFuWT-"
      },
      "source": [
        "### CREATE AND POPULATE THE GRAPH"
      ]
    },
    {
      "cell_type": "code",
      "execution_count": null,
      "metadata": {
        "id": "h3sS5eDD3LND"
      },
      "outputs": [],
      "source": [
        "# list of connections\n",
        "# data format is a dictionary with the key as the source location, and values as its connections\n",
        "\n",
        "gg = {\n",
        "    'A': ['F', 'B'],\n",
        "    'B': ['A', 'C', 'D'],\n",
        "    'C': ['B', 'E'],\n",
        "    'D': ['F', 'B', 'E'],\n",
        "    'E': ['C', 'D', 'I'],\n",
        "    'F': ['D', 'A', 'G'],\n",
        "    'G': ['L', 'F', 'H'],\n",
        "    'H': ['G', 'I', 'M'],\n",
        "    'I': ['E', 'J', 'H'],\n",
        "    'J': ['I', 'O'],\n",
        "    'K': ['M', 'H', 'L'],\n",
        "    'L': ['G', 'K'],\n",
        "    'M': ['K', 'N'],\n",
        "    'N': ['M', 'O'],\n",
        "    'O': ['J', 'N']\n",
        "}\n",
        "gr = Graph()\n",
        "gr.add_edges(gg.keys())\n",
        "for source in gg.keys():\n",
        "  # print('source: ',source)\n",
        "  for dest in gg[source]:\n",
        "    ds = calc_dist(source, dest)\n",
        "    gr.add_vertice(source, dest, ds)\n",
        "    print(f'distance from {source} to {dest} is {round(ds, 6)} metres')\n",
        "print(gr.graph())"
      ]
    },
    {
      "cell_type": "markdown",
      "source": [
        "\\\n",
        "#Dikjstra Algorithm "
      ],
      "metadata": {
        "id": "bw8PCyHzNmxb"
      }
    },
    {
      "cell_type": "code",
      "execution_count": null,
      "metadata": {
        "id": "2WMvtmmqjKWl"
      },
      "outputs": [],
      "source": [
        "### Building of the Dikjstra Algorithm\n",
        "### ['A, 'B', 'E', 'F', 'G']\n",
        "\n",
        "g = gr.graph()\n",
        "\n",
        "\n",
        "def shortest_path(graph, n1, n2):\n",
        "  visited = [] # store visited locations\n",
        "  unvisited = list(graph.keys()) # store unvisited locations\n",
        "\n",
        "  state = Graph()\n",
        "  state.add_edges(unvisited)\n",
        "  state = state.graph() # a map to act as the state for our algorithm\n",
        "\n",
        "  def is_visited(key): # this function checks if a location has been visited\n",
        "    return visited.__contains__(key)\n",
        "\n",
        "  def find_min_distance_from_source(): # this functions computes the unvisited key with the shortest distance to A\n",
        "    skey = None\n",
        "    min = float('inf')\n",
        "    for key in unvisited:\n",
        "      if (state[key][0] < min):\n",
        "        skey = key\n",
        "    return skey\n",
        "\n",
        "  for key in state.keys():\n",
        "    if key == n1:\n",
        "      state[key] = [0, None]\n",
        "    else:\n",
        "      state[key] = [float('inf'), None]\n",
        "  # state = {'A': [DIST, VISITED_FROM]}\n",
        "  # graph = { 'A: [[NODE, DIST_FROM_KEY_NODE]] }\n",
        "  start = n1 # the node to start from\n",
        "\n",
        "#Dikjstra Algorithm \n",
        "  while len(unvisited) > 0:\n",
        "    edges = graph[start]\n",
        "\n",
        "    for edge in edges:\n",
        "      sDistFrmA = state[start][0] + edge[1] # calculate the distance from A\n",
        "      if state[edge[0]][0] > sDistFrmA: # check if recorded shortest distance is greater than new shortest distance\n",
        "        state[edge[0]][0] = sDistFrmA # replace if true\n",
        "        state[edge[0]][1] = start # set visited from to start\n",
        "\n",
        "    visited.append(start) # add start to visited\n",
        "    unvisited.remove(start) # remove start from visited\n",
        "    if start is n2:\n",
        "      break;\n",
        "    start = find_min_distance_from_source() # calculate min known distance from n1 and set start to value\n",
        "  \n",
        "  result = [n2] # add destination to result\n",
        "\n",
        "  traceback = n2 # variable to hold back tracking from destination\n",
        "  while traceback is not n1:\n",
        "    prev = state[traceback][1] # get visited from for traceback\n",
        "    if result.__contains__(prev): # if result contains the prev edge forcefully end the loop\n",
        "      break\n",
        "    if prev is None: break\n",
        "\n",
        "    result.append(prev)\n",
        "    traceback = prev\n",
        "    \n",
        "  \n",
        "\n",
        "  return result\n",
        "\n",
        "sp = shortest_path(g, 'A', 'O')\n",
        "\n",
        "print(f'Shortest Path: {sp} ')"
      ]
    },
    {
      "cell_type": "code",
      "execution_count": null,
      "metadata": {
        "id": "_gJnDLzxuqbQ"
      },
      "outputs": [],
      "source": [
        "grf = {\n",
        "    'AB': [['BB', 2], ['BC', 5]],\n",
        "    'BB': [['AB', 2], ['CD', 6]],\n",
        "    'BC': [['CD', 4]],\n",
        "    'CD': [['BC', 4], ['BB', 6]]\n",
        "}\n",
        "\n",
        "sps = shortest_path(grf, 'AB', 'CD')\n",
        "print(sps)"
      ]
    }
  ],
  "metadata": {
    "accelerator": "GPU",
    "colab": {
      "collapsed_sections": [],
      "name": "Project_Dikjstra.ipynb",
      "private_outputs": true,
      "provenance": [],
      "include_colab_link": true
    },
    "kernelspec": {
      "display_name": "Python 3 (ipykernel)",
      "language": "python",
      "name": "python3"
    },
    "language_info": {
      "codemirror_mode": {
        "name": "ipython",
        "version": 3
      },
      "file_extension": ".py",
      "mimetype": "text/x-python",
      "name": "python",
      "nbconvert_exporter": "python",
      "pygments_lexer": "ipython3",
      "version": "3.8.8"
    }
  },
  "nbformat": 4,
  "nbformat_minor": 0
}